{
 "cells": [
  {
   "cell_type": "code",
   "execution_count": 34,
   "metadata": {},
   "outputs": [],
   "source": [
    "import numpy as np\n",
    "import pandas as pd\n",
    "import nltk\n",
    "from nltk.corpus import gutenberg\n",
    "from nltk.text import Text\n",
    "from nltk import word_tokenize\n",
    "import string\n",
    "from urllib import request"
   ]
  },
  {
   "cell_type": "code",
   "execution_count": 35,
   "metadata": {},
   "outputs": [
    {
     "name": "stderr",
     "output_type": "stream",
     "text": [
      "[nltk_data] Downloading package gutenberg to C:\\Users\\RAM\n",
      "[nltk_data]     KRISHNA\\AppData\\Roaming\\nltk_data...\n",
      "[nltk_data]   Package gutenberg is already up-to-date!\n",
      "[nltk_data] Downloading package punkt to C:\\Users\\RAM\n",
      "[nltk_data]     KRISHNA\\AppData\\Roaming\\nltk_data...\n",
      "[nltk_data]   Package punkt is already up-to-date!\n",
      "[nltk_data] Downloading package stopwords to C:\\Users\\RAM\n",
      "[nltk_data]     KRISHNA\\AppData\\Roaming\\nltk_data...\n",
      "[nltk_data]   Package stopwords is already up-to-date!\n"
     ]
    },
    {
     "data": {
      "text/plain": [
       "True"
      ]
     },
     "execution_count": 35,
     "metadata": {},
     "output_type": "execute_result"
    }
   ],
   "source": [
    "nltk.download('gutenberg')\n",
    "nltk.download('punkt')\n",
    "nltk.download('stopwords')"
   ]
  },
  {
   "cell_type": "code",
   "execution_count": 36,
   "metadata": {},
   "outputs": [],
   "source": [
    "url = \"https://www.gutenberg.org/files/37959/37959-0.txt\"\n",
    "response = request.urlopen(url)\n",
    "raw = response.read().decode('utf8')\n",
    "tokens = word_tokenize(raw)\n",
    "text = Text(tokens)"
   ]
  },
  {
   "cell_type": "code",
   "execution_count": 49,
   "metadata": {},
   "outputs": [],
   "source": [
    "def con_text(word,text):\n",
    "    a = text.concordance_list(word, lines = 5, width = 40)\n",
    "    return [\"\".join(a[i].line for i in range(len(a)))]"
   ]
  },
  {
   "cell_type": "code",
   "execution_count": 50,
   "metadata": {},
   "outputs": [],
   "source": [
    "my_dict ={\"words\": [\"dog\", \"cat\", \"horse\", \"lion\", \"tiger\", \"elephant\",\"sheep\", \"donkey\",\"cow\",\"rabbit\",\n",
    "          \"sparrow\", \"cuckoo\", \"crow\",\"eagle\",\"vulture\",\"parrot\",\"chicken\",\"pigeon\",\"owl\",\"ostrich\"]\n",
    "          }"
   ]
  },
  {
   "cell_type": "code",
   "execution_count": 51,
   "metadata": {},
   "outputs": [],
   "source": [
    "df = pd.DataFrame.from_dict(my_dict)"
   ]
  },
  {
   "cell_type": "code",
   "execution_count": 52,
   "metadata": {},
   "outputs": [],
   "source": [
    "df['corpus'] = df.words.apply(lambda x: con_text(x,text))"
   ]
  },
  {
   "cell_type": "code",
   "execution_count": 53,
   "metadata": {},
   "outputs": [],
   "source": [
    "stopwords = nltk.corpus.stopwords.words('english')"
   ]
  },
  {
   "cell_type": "code",
   "execution_count": 54,
   "metadata": {},
   "outputs": [],
   "source": [
    "#defining the function to remove punctuation\n",
    "def preprocess(text):\n",
    "    punctuationfree=\"\".join([i for i in text if i not in string.punctuation])\n",
    "    punctuationfree=\"\".join([i for i in punctuationfree if i not in \"0123456789\"])\n",
    "    lower_case = punctuationfree.lower()\n",
    "    no_stopwords = \" \".join([i for i in lower_case.split() if i not in stopwords])\n",
    "    tokenized = word_tokenize(no_stopwords)\n",
    "    return tokenized"
   ]
  },
  {
   "cell_type": "code",
   "execution_count": 55,
   "metadata": {},
   "outputs": [],
   "source": [
    "df[\"tokenized\"] = df.corpus.apply(lambda x: preprocess(x))\n",
    "df[\"corpus_processed\"] = df.tokenized.apply(lambda z:' '.join(map(str, z)))\n"
   ]
  },
  {
   "cell_type": "code",
   "execution_count": 56,
   "metadata": {},
   "outputs": [
    {
     "data": {
      "text/html": [
       "<div>\n",
       "<style scoped>\n",
       "    .dataframe tbody tr th:only-of-type {\n",
       "        vertical-align: middle;\n",
       "    }\n",
       "\n",
       "    .dataframe tbody tr th {\n",
       "        vertical-align: top;\n",
       "    }\n",
       "\n",
       "    .dataframe thead th {\n",
       "        text-align: right;\n",
       "    }\n",
       "</style>\n",
       "<table border=\"1\" class=\"dataframe\">\n",
       "  <thead>\n",
       "    <tr style=\"text-align: right;\">\n",
       "      <th></th>\n",
       "      <th>words</th>\n",
       "      <th>corpus</th>\n",
       "      <th>tokenized</th>\n",
       "      <th>corpus_processed</th>\n",
       "    </tr>\n",
       "  </thead>\n",
       "  <tbody>\n",
       "    <tr>\n",
       "      <th>0</th>\n",
       "      <td>dog</td>\n",
       "      <td>[83 Animals of the Dog Kind , 84 The Wolild Do...</td>\n",
       "      <td>[animals, dog, kind, ,, wolild, dogs, ,, dog, ...</td>\n",
       "      <td>animals dog kind , wolild dogs , dog , dog 's ...</td>\n",
       "    </tr>\n",
       "    <tr>\n",
       "      <th>1</th>\n",
       "      <td>cat</td>\n",
       "      <td>[43 Animals of the Cat Kind , 43 The Lio0 The ...</td>\n",
       "      <td>[animals, cat, kind, ,, lio, common, wild, cat...</td>\n",
       "      <td>animals cat kind , lio common wild cat , domes...</td>\n",
       "    </tr>\n",
       "    <tr>\n",
       "      <th>2</th>\n",
       "      <td>horse</td>\n",
       "      <td>[OFED ANIMALS The Horse , 162 The Arabia 162 T...</td>\n",
       "      <td>[ofed, animals, horse, ,, arabia, arabian, hor...</td>\n",
       "      <td>ofed animals horse , arabia arabian horse , ho...</td>\n",
       "    </tr>\n",
       "    <tr>\n",
       "      <th>3</th>\n",
       "      <td>lion</td>\n",
       "      <td>[Cat Kind , 43 The Lion , 44 The Lion 's The L...</td>\n",
       "      <td>[cat, kind, ,, lion, ,, lion, 's, lion, ,, lio...</td>\n",
       "      <td>cat kind , lion , lion 's lion , lion 's chara...</td>\n",
       "    </tr>\n",
       "    <tr>\n",
       "      <th>4</th>\n",
       "      <td>tiger</td>\n",
       "      <td>[[ Illustration : Tiger Hunting ] PREFACunitie...</td>\n",
       "      <td>[[, illustration, :, tiger, hunting, ], prefac...</td>\n",
       "      <td>[ illustration : tiger hunting ] prefacunities...</td>\n",
       "    </tr>\n",
       "    <tr>\n",
       "      <th>5</th>\n",
       "      <td>elephant</td>\n",
       "      <td>[ ORDER VIII THE ELEPHANT The Elephant , HE EL...</td>\n",
       "      <td>[order, viii, elephant, elephant, ,, elephant,...</td>\n",
       "      <td>order viii elephant elephant , elephant elepha...</td>\n",
       "    </tr>\n",
       "    <tr>\n",
       "      <th>6</th>\n",
       "      <td>sheep</td>\n",
       "      <td>[aining , 112 The Sheep Dog , 114 The Shep Dog...</td>\n",
       "      <td>[aining, ,, sheep, dog, ,, shep, dog, ,, sheep...</td>\n",
       "      <td>aining , sheep dog , shep dog , sheep dog 's s...</td>\n",
       "    </tr>\n",
       "    <tr>\n",
       "      <th>7</th>\n",
       "      <td>donkey</td>\n",
       "      <td>[self a very fine donkey , which was a reootpr...</td>\n",
       "      <td>[self, fine, donkey, ,, reootprints, donkey, g...</td>\n",
       "      <td>self fine donkey , reootprints donkey garden w...</td>\n",
       "    </tr>\n",
       "    <tr>\n",
       "      <th>8</th>\n",
       "      <td>cow</td>\n",
       "      <td>[ MANATIDÆ The Sea Cow , 162 ORDER VII Hll , T...</td>\n",
       "      <td>[manatidæ, sea, cow, ,, order, vii, hll, ,, ox...</td>\n",
       "      <td>manatidæ sea cow , order vii hll , ox , cow , ...</td>\n",
       "    </tr>\n",
       "    <tr>\n",
       "      <th>9</th>\n",
       "      <td>rabbit</td>\n",
       "      <td>[, 244 The Common Rabbit , 245 ORDER XI Tey re...</td>\n",
       "      <td>[,, common, rabbit, ,, order, xi, tey, resembl...</td>\n",
       "      <td>, common rabbit , order xi tey resembles rabbi...</td>\n",
       "    </tr>\n",
       "    <tr>\n",
       "      <th>10</th>\n",
       "      <td>sparrow</td>\n",
       "      <td>[ robust English sparrow . The sparrow dh spar...</td>\n",
       "      <td>[robust, english, sparrow, ., sparrow, dh, spa...</td>\n",
       "      <td>robust english sparrow . sparrow dh sparrow . ...</td>\n",
       "    </tr>\n",
       "    <tr>\n",
       "      <th>11</th>\n",
       "      <td>cuckoo</td>\n",
       "      <td>[ryneck , 284 The Cuckoo , 284 The CuckooCucko...</td>\n",
       "      <td>[ryneck, ,, cuckoo, ,, cuckoocuckoo, ,, cuckoo...</td>\n",
       "      <td>ryneck , cuckoo , cuckoocuckoo , cuckoo hedge-...</td>\n",
       "    </tr>\n",
       "    <tr>\n",
       "      <th>12</th>\n",
       "      <td>crow</td>\n",
       "      <td>[, 270 The Carrion Crow , 270 The Jackdawetc. ...</td>\n",
       "      <td>[,, carrion, crow, ,, jackdawetc, ., ,, crow, ...</td>\n",
       "      <td>, carrion crow , jackdawetc . , crow flies , e...</td>\n",
       "    </tr>\n",
       "    <tr>\n",
       "      <th>13</th>\n",
       "      <td>eagle</td>\n",
       "      <td>[f Prey , 304 The Eagle , 305 Eagle Shoo The E...</td>\n",
       "      <td>[f, prey, ,, eagle, ,, eagle, shoo, eagle, ,, ...</td>\n",
       "      <td>f prey , eagle , eagle shoo eagle , eagle shoo...</td>\n",
       "    </tr>\n",
       "    <tr>\n",
       "      <th>14</th>\n",
       "      <td>vulture</td>\n",
       "      <td>[nsidered as the vulture of the quadrupe woods...</td>\n",
       "      <td>[nsidered, vulture, quadrupe, woods, ., ``, vu...</td>\n",
       "      <td>nsidered vulture quadrupe woods . `` vulture ....</td>\n",
       "    </tr>\n",
       "    <tr>\n",
       "      <th>15</th>\n",
       "      <td>parrot</td>\n",
       "      <td>[elligence of the Parrot , 290 Famous Pars , 2...</td>\n",
       "      <td>[elligence, parrot, ,, famous, pars, ,, grey, ...</td>\n",
       "      <td>elligence parrot , famous pars , grey parrot ,...</td>\n",
       "    </tr>\n",
       "    <tr>\n",
       "      <th>16</th>\n",
       "      <td>chicken</td>\n",
       "      <td>[Mother Carey 's Chicken , 322 Catching  , eat...</td>\n",
       "      <td>[mother, carey, 's, chicken, ,, catching, ,, e...</td>\n",
       "      <td>mother carey 's chicken , catching , eat eggs ...</td>\n",
       "    </tr>\n",
       "    <tr>\n",
       "      <th>17</th>\n",
       "      <td>pigeon</td>\n",
       "      <td>[s . Resembling a pigeon in size , its he . Th...</td>\n",
       "      <td>[., resembling, pigeon, size, ,, ., dove-cote,...</td>\n",
       "      <td>. resembling pigeon size , . dove-cote pigeon ...</td>\n",
       "    </tr>\n",
       "    <tr>\n",
       "      <th>18</th>\n",
       "      <td>owl</td>\n",
       "      <td>[ow-Hawk , 312 The Owl , 313 ORDER VIII trel a...</td>\n",
       "      <td>[ow-hawk, ,, owl, ,, order, viii, trel, barn, ...</td>\n",
       "      <td>ow-hawk , owl , order viii trel barn owl . sup...</td>\n",
       "    </tr>\n",
       "    <tr>\n",
       "      <th>19</th>\n",
       "      <td>ostrich</td>\n",
       "      <td>[327 ORDER X The Ostrich , 328 The Ostritrich ...</td>\n",
       "      <td>[order, x, ostrich, ,, ostritrich, ,, ostrich,...</td>\n",
       "      <td>order x ostrich , ostritrich , ostrich young ,...</td>\n",
       "    </tr>\n",
       "  </tbody>\n",
       "</table>\n",
       "</div>"
      ],
      "text/plain": [
       "       words                                             corpus  \\\n",
       "0        dog  [83 Animals of the Dog Kind , 84 The Wolild Do...   \n",
       "1        cat  [43 Animals of the Cat Kind , 43 The Lio0 The ...   \n",
       "2      horse  [OFED ANIMALS The Horse , 162 The Arabia 162 T...   \n",
       "3       lion  [Cat Kind , 43 The Lion , 44 The Lion 's The L...   \n",
       "4      tiger  [[ Illustration : Tiger Hunting ] PREFACunitie...   \n",
       "5   elephant  [ ORDER VIII THE ELEPHANT The Elephant , HE EL...   \n",
       "6      sheep  [aining , 112 The Sheep Dog , 114 The Shep Dog...   \n",
       "7     donkey  [self a very fine donkey , which was a reootpr...   \n",
       "8        cow  [ MANATIDÆ The Sea Cow , 162 ORDER VII Hll , T...   \n",
       "9     rabbit  [, 244 The Common Rabbit , 245 ORDER XI Tey re...   \n",
       "10   sparrow  [ robust English sparrow . The sparrow dh spar...   \n",
       "11    cuckoo  [ryneck , 284 The Cuckoo , 284 The CuckooCucko...   \n",
       "12      crow  [, 270 The Carrion Crow , 270 The Jackdawetc. ...   \n",
       "13     eagle  [f Prey , 304 The Eagle , 305 Eagle Shoo The E...   \n",
       "14   vulture  [nsidered as the vulture of the quadrupe woods...   \n",
       "15    parrot  [elligence of the Parrot , 290 Famous Pars , 2...   \n",
       "16   chicken  [Mother Carey 's Chicken , 322 Catching  , eat...   \n",
       "17    pigeon  [s . Resembling a pigeon in size , its he . Th...   \n",
       "18       owl  [ow-Hawk , 312 The Owl , 313 ORDER VIII trel a...   \n",
       "19   ostrich  [327 ORDER X The Ostrich , 328 The Ostritrich ...   \n",
       "\n",
       "                                            tokenized  \\\n",
       "0   [animals, dog, kind, ,, wolild, dogs, ,, dog, ...   \n",
       "1   [animals, cat, kind, ,, lio, common, wild, cat...   \n",
       "2   [ofed, animals, horse, ,, arabia, arabian, hor...   \n",
       "3   [cat, kind, ,, lion, ,, lion, 's, lion, ,, lio...   \n",
       "4   [[, illustration, :, tiger, hunting, ], prefac...   \n",
       "5   [order, viii, elephant, elephant, ,, elephant,...   \n",
       "6   [aining, ,, sheep, dog, ,, shep, dog, ,, sheep...   \n",
       "7   [self, fine, donkey, ,, reootprints, donkey, g...   \n",
       "8   [manatidæ, sea, cow, ,, order, vii, hll, ,, ox...   \n",
       "9   [,, common, rabbit, ,, order, xi, tey, resembl...   \n",
       "10  [robust, english, sparrow, ., sparrow, dh, spa...   \n",
       "11  [ryneck, ,, cuckoo, ,, cuckoocuckoo, ,, cuckoo...   \n",
       "12  [,, carrion, crow, ,, jackdawetc, ., ,, crow, ...   \n",
       "13  [f, prey, ,, eagle, ,, eagle, shoo, eagle, ,, ...   \n",
       "14  [nsidered, vulture, quadrupe, woods, ., ``, vu...   \n",
       "15  [elligence, parrot, ,, famous, pars, ,, grey, ...   \n",
       "16  [mother, carey, 's, chicken, ,, catching, ,, e...   \n",
       "17  [., resembling, pigeon, size, ,, ., dove-cote,...   \n",
       "18  [ow-hawk, ,, owl, ,, order, viii, trel, barn, ...   \n",
       "19  [order, x, ostrich, ,, ostritrich, ,, ostrich,...   \n",
       "\n",
       "                                     corpus_processed  \n",
       "0   animals dog kind , wolild dogs , dog , dog 's ...  \n",
       "1   animals cat kind , lio common wild cat , domes...  \n",
       "2   ofed animals horse , arabia arabian horse , ho...  \n",
       "3   cat kind , lion , lion 's lion , lion 's chara...  \n",
       "4   [ illustration : tiger hunting ] prefacunities...  \n",
       "5   order viii elephant elephant , elephant elepha...  \n",
       "6   aining , sheep dog , shep dog , sheep dog 's s...  \n",
       "7   self fine donkey , reootprints donkey garden w...  \n",
       "8   manatidæ sea cow , order vii hll , ox , cow , ...  \n",
       "9   , common rabbit , order xi tey resembles rabbi...  \n",
       "10  robust english sparrow . sparrow dh sparrow . ...  \n",
       "11  ryneck , cuckoo , cuckoocuckoo , cuckoo hedge-...  \n",
       "12  , carrion crow , jackdawetc . , crow flies , e...  \n",
       "13  f prey , eagle , eagle shoo eagle , eagle shoo...  \n",
       "14  nsidered vulture quadrupe woods . `` vulture ....  \n",
       "15  elligence parrot , famous pars , grey parrot ,...  \n",
       "16  mother carey 's chicken , catching , eat eggs ...  \n",
       "17  . resembling pigeon size , . dove-cote pigeon ...  \n",
       "18  ow-hawk , owl , order viii trel barn owl . sup...  \n",
       "19  order x ostrich , ostritrich , ostrich young ,...  "
      ]
     },
     "execution_count": 56,
     "metadata": {},
     "output_type": "execute_result"
    }
   ],
   "source": [
    "df"
   ]
  },
  {
   "cell_type": "code",
   "execution_count": 57,
   "metadata": {},
   "outputs": [
    {
     "name": "stdout",
     "output_type": "stream",
     "text": [
      "['animals', 'dog', 'kind', ',', 'wolild', 'dogs', ',', 'dog', ',', 'dog', \"'s\", 'u', 'dog', ',', 'dog', \"'s\", 'understanding', 'standing', ',', 'dog', \"'s\", 'sense', 'local', 'locality', ',', 'dog', 'friendships', 'e', 'animals', 'cat', 'kind', ',', 'lio', 'common', 'wild', 'cat', ',', 'domestic', ',', 'domestic', 'cat', ',', 'cat', 'superstidomestic', 'cat', ',', 'cat', 'superstitions', ',', 'stitions', ',', 'cat', 'hunter', ',', 'ofed', 'animals', 'horse', ',', 'arabia', 'arabian', 'horse', ',', 'horse', 'horse', ',', 'horse', \"'s\", 'affection', ',', 'domestic', 'horse', ',', 'structe', 'structure', 'horse', ',', 'horse', 'cat', 'kind', ',', 'lion', ',', 'lion', \"'s\", 'lion', ',', 'lion', \"'s\", 'character', ',', 'f', 'valour', ',', 'lion', \"'s\", 'strength', ',', 'strength', ',', 'lion', \"'s\", 'affection', ',', 'ffection', ',', 'lion', \"'s\", 'docility', ',', '[', 'illustration', ':', 'tiger', 'hunting', ']', 'prefacunities', ',', 'tiger', ',', 'tiger', \"'\", 'e', 'tiger', ',', 'tiger', \"'s\", 'ravages', ',', ',', 'clouded', 'tiger', ',', 'serval', 'ferocity', 'tiger', '``', ';', 'finding', 'order', 'viii', 'elephant', 'elephant', ',', 'elephant', 'elephant', ',', 'wild', ',', 'wild', 'elephant', ',', 'elephant', 'elephant', ',', 'elephant', 'herds', ',', 'eleant', 'herds', ',', 'elephant', 'friendships', ',', 'aining', ',', 'sheep', 'dog', ',', 'shep', 'dog', ',', 'sheep', 'dog', \"'s\", 'sagacity', 'gacity', ',', 'sheep', 'dog', \"'s\", 'fidelity', 'azelle', ',', 'sheep', 'goat', ',', 'elligence', 'sheep', ',', 'animals', 'self', 'fine', 'donkey', ',', 'reootprints', 'donkey', 'garden', 'wanctly', 'saw', 'master', 'donkey', ',', 'reared', 'manatidæ', 'sea', 'cow', ',', 'order', 'vii', 'hll', ',', 'ox', ',', 'cow', ',', 'bull', ',', 'ox', ',', 'cow', ',', 'pride', 'pride', 'cow', ',', 'bison', ',', 'ver', 'legs', 'cow', 'horse', ',', 'common', 'rabbit', ',', 'order', 'xi', 'tey', 'resembles', 'rabbit', 'size', 'geneike', 'rabbit', ',', 'hind', 'legs', 'e', 'common', 'rabbit', 'best', 'kion', '.', 'common', 'rabbit', '.', 'common', 'rab', 'robust', 'english', 'sparrow', '.', 'sparrow', 'dh', 'sparrow', '.', 'sparrow', 'declined', 'giv', '``', 'leaving', 'sparrow', 'perish', 'thrious', 'scene', '.', 'sparrow', 'hawk', 'alighted', 'iriumph', '.', '``', 'sparrow', 'hawk', '.', 'spar', 'ryneck', ',', 'cuckoo', ',', 'cuckoocuckoo', ',', 'cuckoo', 'hedge-spparrow', ',', 'cuckoo', 'thrush', ',', 'odpecker', 'cuckoo', '.', 'feeds', 'ca', 'follow', '.', 'cuckoo', '.', 'cuckoo', ',', 'carrion', 'crow', ',', 'jackdawetc', '.', ',', 'crow', 'flies', ',', 'exceeded', 'ook', ';', 'carrion', 'crow', ';', 'jackdaw', ';', ',', 'caw', 'crow', '.', '``', 'magazesemblance', 'crow', 'domestic', 'c', 'f', 'prey', ',', 'eagle', ',', 'eagle', 'shoo', 'eagle', ',', 'eagle', 'shooting', ',', 'tthe', 'white-headed', 'eagle', ',', 'vulturttack', 'disabled', 'eagle', ';', 'bird', 'unablsome', 'account', 'eagle', 'queen', ',', 'nsidered', 'vulture', 'quadrupe', 'woods', '.', '``', 'vulture', '.', 'vultures', '.', 'griffin', 'vulture', 'europe', ',', 'tur', ',', 'egyptian', 'vulture', 'nile', 'cour', ',', 'american', 'vulture', ',', 'best', 'elligence', 'parrot', ',', 'famous', 'pars', ',', 'grey', 'parrot', ',', 'parrot', 'talrey', 'parrot', ',', 'parrot', 'talk', ',', 'ordered', 'true', 'parrot', 'crest', ';', 'otoo', ',', 'ground', 'parrot', ',', 'macaw', ',', 'th', 'mother', 'carey', \"'s\", 'chicken', ',', 'catching', ',', 'eat', 'eggs', 'chicken', ',', 'drink', 'tea', 'dead', 'chicken', 'disapnied', 'chicken', ',', 'sole', 'survmother', 'carey', \"'s\", 'chicken', '.', 'stormy', 'pe', '.', 'resembling', 'pigeon', 'size', ',', '.', 'dove-cote', 'pigeon', ';', 'swallow', ';', '.', 'passenger', 'pigeon', 'america', ',', 'theca', ',', 'nicobar', 'pigeon', 'philippinhe', 'great-crowned', 'pigeon', 'new', 'guinea', 'ow-hawk', ',', 'owl', ',', 'order', 'viii', 'trel', 'barn', 'owl', '.', 'superstition', 'tter', 'enemy', 'owl', '.', 'sooner', 'h', 'mile', '.', 'owl', 'length', ',', 'forcepredations', 'owl', 'becomes', 'hi', 'order', 'x', 'ostrich', ',', 'ostritrich', ',', 'ostrich', 'young', ',', 'ruthiones', ':', 'ostrich', ',', 'emu', ',', 'etcer', 'includes', 'ostrich', ',', 'rhea', ',', 'th', 'emus', '.', 'ostrich', 'belongs', 'afri']\n"
     ]
    }
   ],
   "source": [
    "flattened = []\n",
    "for sublist in df.tokenized.values:\n",
    "    for val in sublist:\n",
    "        flattened.append(val)\n",
    "print(flattened)"
   ]
  },
  {
   "cell_type": "code",
   "execution_count": 58,
   "metadata": {},
   "outputs": [
    {
     "data": {
      "text/plain": [
       "220"
      ]
     },
     "execution_count": 58,
     "metadata": {},
     "output_type": "execute_result"
    }
   ],
   "source": [
    "Vocab=[]\n",
    "for item in flattened:\n",
    "    if not item in Vocab:\n",
    "        Vocab.append(item)\n",
    "len(Vocab)"
   ]
  },
  {
   "cell_type": "code",
   "execution_count": null,
   "metadata": {},
   "outputs": [],
   "source": []
  }
 ],
 "metadata": {
  "kernelspec": {
   "display_name": "Python 3",
   "language": "python",
   "name": "python3"
  },
  "language_info": {
   "codemirror_mode": {
    "name": "ipython",
    "version": 3
   },
   "file_extension": ".py",
   "mimetype": "text/x-python",
   "name": "python",
   "nbconvert_exporter": "python",
   "pygments_lexer": "ipython3",
   "version": "3.7.6"
  }
 },
 "nbformat": 4,
 "nbformat_minor": 4
}
