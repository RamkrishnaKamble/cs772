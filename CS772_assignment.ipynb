{
 "cells": [
  {
   "cell_type": "code",
   "execution_count": 1,
   "metadata": {},
   "outputs": [],
   "source": [
    "import numpy as np\n",
    "import pandas as pd\n",
    "import nltk\n",
    "from nltk.corpus import gutenberg\n",
    "from nltk.text import Text\n",
    "from nltk import word_tokenize\n",
    "import string\n",
    "from urllib import request"
   ]
  },
  {
   "cell_type": "code",
   "execution_count": 2,
   "metadata": {},
   "outputs": [
    {
     "name": "stderr",
     "output_type": "stream",
     "text": [
      "[nltk_data] Downloading package gutenberg to\n",
      "[nltk_data]     C:\\Users\\Acer\\AppData\\Roaming\\nltk_data...\n",
      "[nltk_data]   Package gutenberg is already up-to-date!\n",
      "[nltk_data] Downloading package punkt to\n",
      "[nltk_data]     C:\\Users\\Acer\\AppData\\Roaming\\nltk_data...\n",
      "[nltk_data]   Package punkt is already up-to-date!\n",
      "[nltk_data] Downloading package stopwords to\n",
      "[nltk_data]     C:\\Users\\Acer\\AppData\\Roaming\\nltk_data...\n",
      "[nltk_data]   Package stopwords is already up-to-date!\n"
     ]
    },
    {
     "data": {
      "text/plain": [
       "True"
      ]
     },
     "execution_count": 2,
     "metadata": {},
     "output_type": "execute_result"
    }
   ],
   "source": [
    "nltk.download('gutenberg')\n",
    "nltk.download('punkt')\n",
    "nltk.download('stopwords')"
   ]
  },
  {
   "cell_type": "code",
   "execution_count": 3,
   "metadata": {},
   "outputs": [],
   "source": [
    "url = \"https://www.gutenberg.org/files/37959/37959-0.txt\"\n",
    "response = request.urlopen(url)\n",
    "raw = response.read().decode('utf8')\n",
    "tokens = word_tokenize(raw)\n",
    "text = Text(tokens)"
   ]
  },
  {
   "cell_type": "code",
   "execution_count": 4,
   "metadata": {},
   "outputs": [],
   "source": [
    "def con_text(word,text):\n",
    "    a = text.concordance_list(word, lines = 1, width = 79)\n",
    "    return a[0].line\n",
    "        "
   ]
  },
  {
   "cell_type": "code",
   "execution_count": null,
   "metadata": {},
   "outputs": [],
   "source": []
  },
  {
   "cell_type": "code",
   "execution_count": 5,
   "metadata": {},
   "outputs": [],
   "source": [
    "my_dict ={\"input_words\": [\"dog\", \"cat\", \"horse\", \"lion\", \"tiger\", \"elephant\",\"sheep\", \"donkey\",\"cow\",\"rabbit\"]+[\"sparrow\", \"cuckoo\", \"crow\",\"eagle\",\"vulture\",\"parrot\",\"chicken\",\"pigeon\",\"owl\",\"ostrich\"]\n",
    "          }"
   ]
  },
  {
   "cell_type": "code",
   "execution_count": 6,
   "metadata": {},
   "outputs": [],
   "source": [
    "df = pd.DataFrame.from_dict(my_dict)"
   ]
  },
  {
   "cell_type": "code",
   "execution_count": 7,
   "metadata": {},
   "outputs": [],
   "source": [
    "df['input_con'] = df.input_words.apply(lambda x: con_text(x,text))\n"
   ]
  },
  {
   "cell_type": "code",
   "execution_count": 8,
   "metadata": {},
   "outputs": [],
   "source": [
    "stopwords = nltk.corpus.stopwords.words('english')"
   ]
  },
  {
   "cell_type": "code",
   "execution_count": 9,
   "metadata": {},
   "outputs": [],
   "source": [
    "#defining the function to remove punctuation\n",
    "def preprocess(text):\n",
    "    punctuationfree=\"\".join([i for i in text if i not in string.punctuation])\n",
    "    lower_case = punctuationfree.lower()\n",
    "    no_stopwords = \" \".join([i for i in lower_case.split() if i not in stopwords])\n",
    "    return no_stopwords"
   ]
  },
  {
   "cell_type": "code",
   "execution_count": 10,
   "metadata": {},
   "outputs": [],
   "source": [
    "df[\"input_con_pro\"] = df.input_con.apply(lambda x: preprocess(x))"
   ]
  },
  {
   "cell_type": "code",
   "execution_count": 11,
   "metadata": {},
   "outputs": [
    {
     "data": {
      "text/html": [
       "<div>\n",
       "<style scoped>\n",
       "    .dataframe tbody tr th:only-of-type {\n",
       "        vertical-align: middle;\n",
       "    }\n",
       "\n",
       "    .dataframe tbody tr th {\n",
       "        vertical-align: top;\n",
       "    }\n",
       "\n",
       "    .dataframe thead th {\n",
       "        text-align: right;\n",
       "    }\n",
       "</style>\n",
       "<table border=\"1\" class=\"dataframe\">\n",
       "  <thead>\n",
       "    <tr style=\"text-align: right;\">\n",
       "      <th></th>\n",
       "      <th>input_words</th>\n",
       "      <th>input_con</th>\n",
       "      <th>input_con_pro</th>\n",
       "    </tr>\n",
       "  </thead>\n",
       "  <tbody>\n",
       "    <tr>\n",
       "      <th>0</th>\n",
       "      <td>dog</td>\n",
       "      <td>2 A Narrow Escape , 83 Animals of the Dog Kind...</td>\n",
       "      <td>2 narrow escape 83 animals dog kind 84 wolf 84...</td>\n",
       "    </tr>\n",
       "    <tr>\n",
       "      <th>1</th>\n",
       "      <td>cat</td>\n",
       "      <td>IA The Fissipedia , 43 Animals of the Cat Kind...</td>\n",
       "      <td>ia fissipedia 43 animals cat kind 43 lion 44 l...</td>\n",
       "    </tr>\n",
       "    <tr>\n",
       "      <th>2</th>\n",
       "      <td>horse</td>\n",
       "      <td>w , 162 ORDER VII HOOFED ANIMALS The Horse , 1...</td>\n",
       "      <td>w 162 order vii hoofed animals horse 162 arabi...</td>\n",
       "    </tr>\n",
       "    <tr>\n",
       "      <th>3</th>\n",
       "      <td>lion</td>\n",
       "      <td>43 Animals of the Cat Kind , 43 The Lion , 44...</td>\n",
       "      <td>43 animals cat kind 43 lion 44 lion character ...</td>\n",
       "    </tr>\n",
       "    <tr>\n",
       "      <th>4</th>\n",
       "      <td>tiger</td>\n",
       "      <td>ORFIELDS , LONDON . [ Illustration : Tiger Hun...</td>\n",
       "      <td>orfields london illustration tiger hunting pre...</td>\n",
       "    </tr>\n",
       "    <tr>\n",
       "      <th>5</th>\n",
       "      <td>elephant</td>\n",
       "      <td>als and Music , 218 ORDER VIII THE ELEPHANT Th...</td>\n",
       "      <td>als music 218 order viii elephant elephant 219...</td>\n",
       "    </tr>\n",
       "    <tr>\n",
       "      <th>6</th>\n",
       "      <td>sheep</td>\n",
       "      <td>ewfoundland under Training , 112 The Sheep Dog...</td>\n",
       "      <td>ewfoundland training 112 sheep dog 114 sheep d...</td>\n",
       "    </tr>\n",
       "    <tr>\n",
       "      <th>7</th>\n",
       "      <td>donkey</td>\n",
       "      <td>ex coast , I had myself a very fine donkey , w...</td>\n",
       "      <td>ex coast fine donkey remarkably docile</td>\n",
       "    </tr>\n",
       "    <tr>\n",
       "      <th>8</th>\n",
       "      <td>cow</td>\n",
       "      <td>ampus , 161 ORDER VI MANATIDÆ The Sea Cow , 16...</td>\n",
       "      <td>ampus 161 order vi manatidæ sea cow 162 order ...</td>\n",
       "    </tr>\n",
       "    <tr>\n",
       "      <th>9</th>\n",
       "      <td>rabbit</td>\n",
       "      <td>e , 243 Tame Hares , 244 The Common Rabbit , 2...</td>\n",
       "      <td>e 243 tame hares 244 common rabbit 245 order x...</td>\n",
       "    </tr>\n",
       "    <tr>\n",
       "      <th>10</th>\n",
       "      <td>sparrow</td>\n",
       "      <td>und it occupied by a robust English sparrow . ...</td>\n",
       "      <td>und occupied robust english sparrow sparrow de...</td>\n",
       "    </tr>\n",
       "    <tr>\n",
       "      <th>11</th>\n",
       "      <td>cuckoo</td>\n",
       "      <td>dpecker , 284 The Wryneck , 284 The Cuckoo , 2...</td>\n",
       "      <td>dpecker 284 wryneck 284 cuckoo 284 cuckoo hedg...</td>\n",
       "    </tr>\n",
       "    <tr>\n",
       "      <th>12</th>\n",
       "      <td>crow</td>\n",
       "      <td>Dog , 269 The Rook , 270 The Carrion Crow , 27...</td>\n",
       "      <td>dog 269 rook 270 carrion crow 270 jackdaw 271 ...</td>\n",
       "    </tr>\n",
       "    <tr>\n",
       "      <th>13</th>\n",
       "      <td>eagle</td>\n",
       "      <td>04 ORDER VII Birds of Prey , 304 The Eagle , 3...</td>\n",
       "      <td>04 order vii birds prey 304 eagle 305 eagle sh...</td>\n",
       "    </tr>\n",
       "    <tr>\n",
       "      <th>14</th>\n",
       "      <td>vulture</td>\n",
       "      <td>The jackal may be considered as the vulture of...</td>\n",
       "      <td>jackal may considered vulture quadruped kind pu</td>\n",
       "    </tr>\n",
       "    <tr>\n",
       "      <th>15</th>\n",
       "      <td>parrot</td>\n",
       "      <td>rrots , 290 The Intelligence of the Parrot , 2...</td>\n",
       "      <td>rrots 290 intelligence parrot 290 famous parro...</td>\n",
       "    </tr>\n",
       "    <tr>\n",
       "      <th>16</th>\n",
       "      <td>chicken</td>\n",
       "      <td>Tame Sea-Gull , 321 Mother Carey 's Chicken , ...</td>\n",
       "      <td>tame seagull 321 mother carey chicken 322 catc...</td>\n",
       "    </tr>\n",
       "    <tr>\n",
       "      <th>17</th>\n",
       "      <td>pigeon</td>\n",
       "      <td>South-American birds . Resembling a pigeon in ...</td>\n",
       "      <td>southamerican birds resembling pigeon size hea...</td>\n",
       "    </tr>\n",
       "    <tr>\n",
       "      <th>18</th>\n",
       "      <td>owl</td>\n",
       "      <td>lcon , 311 The Sparrow-Hawk , 312 The Owl , 31...</td>\n",
       "      <td>lcon 311 sparrowhawk 312 owl 313 order viii wa...</td>\n",
       "    </tr>\n",
       "    <tr>\n",
       "      <th>19</th>\n",
       "      <td>ostrich</td>\n",
       "      <td>, 326 The Puffin , 327 ORDER X The Ostrich , ...</td>\n",
       "      <td>326 puffin 327 order x ostrich 328 ostrich you...</td>\n",
       "    </tr>\n",
       "  </tbody>\n",
       "</table>\n",
       "</div>"
      ],
      "text/plain": [
       "   input_words                                          input_con  \\\n",
       "0          dog  2 A Narrow Escape , 83 Animals of the Dog Kind...   \n",
       "1          cat  IA The Fissipedia , 43 Animals of the Cat Kind...   \n",
       "2        horse  w , 162 ORDER VII HOOFED ANIMALS The Horse , 1...   \n",
       "3         lion   43 Animals of the Cat Kind , 43 The Lion , 44...   \n",
       "4        tiger  ORFIELDS , LONDON . [ Illustration : Tiger Hun...   \n",
       "5     elephant  als and Music , 218 ORDER VIII THE ELEPHANT Th...   \n",
       "6        sheep  ewfoundland under Training , 112 The Sheep Dog...   \n",
       "7       donkey  ex coast , I had myself a very fine donkey , w...   \n",
       "8          cow  ampus , 161 ORDER VI MANATIDÆ The Sea Cow , 16...   \n",
       "9       rabbit  e , 243 Tame Hares , 244 The Common Rabbit , 2...   \n",
       "10     sparrow  und it occupied by a robust English sparrow . ...   \n",
       "11      cuckoo  dpecker , 284 The Wryneck , 284 The Cuckoo , 2...   \n",
       "12        crow  Dog , 269 The Rook , 270 The Carrion Crow , 27...   \n",
       "13       eagle  04 ORDER VII Birds of Prey , 304 The Eagle , 3...   \n",
       "14     vulture  The jackal may be considered as the vulture of...   \n",
       "15      parrot  rrots , 290 The Intelligence of the Parrot , 2...   \n",
       "16     chicken  Tame Sea-Gull , 321 Mother Carey 's Chicken , ...   \n",
       "17      pigeon  South-American birds . Resembling a pigeon in ...   \n",
       "18         owl  lcon , 311 The Sparrow-Hawk , 312 The Owl , 31...   \n",
       "19     ostrich   , 326 The Puffin , 327 ORDER X The Ostrich , ...   \n",
       "\n",
       "                                        input_con_pro  \n",
       "0   2 narrow escape 83 animals dog kind 84 wolf 84...  \n",
       "1   ia fissipedia 43 animals cat kind 43 lion 44 l...  \n",
       "2   w 162 order vii hoofed animals horse 162 arabi...  \n",
       "3   43 animals cat kind 43 lion 44 lion character ...  \n",
       "4   orfields london illustration tiger hunting pre...  \n",
       "5   als music 218 order viii elephant elephant 219...  \n",
       "6   ewfoundland training 112 sheep dog 114 sheep d...  \n",
       "7              ex coast fine donkey remarkably docile  \n",
       "8   ampus 161 order vi manatidæ sea cow 162 order ...  \n",
       "9   e 243 tame hares 244 common rabbit 245 order x...  \n",
       "10  und occupied robust english sparrow sparrow de...  \n",
       "11  dpecker 284 wryneck 284 cuckoo 284 cuckoo hedg...  \n",
       "12  dog 269 rook 270 carrion crow 270 jackdaw 271 ...  \n",
       "13  04 order vii birds prey 304 eagle 305 eagle sh...  \n",
       "14    jackal may considered vulture quadruped kind pu  \n",
       "15  rrots 290 intelligence parrot 290 famous parro...  \n",
       "16  tame seagull 321 mother carey chicken 322 catc...  \n",
       "17  southamerican birds resembling pigeon size hea...  \n",
       "18  lcon 311 sparrowhawk 312 owl 313 order viii wa...  \n",
       "19  326 puffin 327 order x ostrich 328 ostrich you...  "
      ]
     },
     "execution_count": 11,
     "metadata": {},
     "output_type": "execute_result"
    }
   ],
   "source": [
    "df"
   ]
  },
  {
   "cell_type": "code",
   "execution_count": 24,
   "metadata": {},
   "outputs": [],
   "source": [
    " corpus = df['input_con_pro'].to_list()"
   ]
  },
  {
   "cell_type": "code",
   "execution_count": 19,
   "metadata": {},
   "outputs": [
    {
     "name": "stdout",
     "output_type": "stream",
     "text": [
      "[['2', 'narrow', 'escape', '83', 'animals', 'dog', 'kind', '84', 'wolf', '84', 'fox', '85'], ['ia', 'fissipedia', '43', 'animals', 'cat', 'kind', '43', 'lion', '44', 'lion', 'c'], ['w', '162', 'order', 'vii', 'hoofed', 'animals', 'horse', '162', 'arabian', 'horse', '163', 'ho'], ['43', 'animals', 'cat', 'kind', '43', 'lion', '44', 'lion', 'character', '44', 'atti'], ['orfields', 'london', 'illustration', 'tiger', 'hunting', 'preface', 'illustrations', 'ar'], ['als', 'music', '218', 'order', 'viii', 'elephant', 'elephant', '219', 'wild', 'elepha'], ['ewfoundland', 'training', '112', 'sheep', 'dog', '114', 'sheep', 'dog', 'sagacity'], ['ex', 'coast', 'fine', 'donkey', 'remarkably', 'docile'], ['ampus', '161', 'order', 'vi', 'manatidæ', 'sea', 'cow', '162', 'order', 'vii', 'hoofed', 'animals', 'ho'], ['e', '243', 'tame', 'hares', '244', 'common', 'rabbit', '245', 'order', 'xi', 'toothless', 'animals', 'th'], ['und', 'occupied', 'robust', 'english', 'sparrow', 'sparrow', 'declined', 'give'], ['dpecker', '284', 'wryneck', '284', 'cuckoo', '284', 'cuckoo', 'hedgespar'], ['dog', '269', 'rook', '270', 'carrion', 'crow', '270', 'jackdaw', '271', 'chough'], ['04', 'order', 'vii', 'birds', 'prey', '304', 'eagle', '305', 'eagle', 'shooting', '305', 'white'], ['jackal', 'may', 'considered', 'vulture', 'quadruped', 'kind', 'pu'], ['rrots', '290', 'intelligence', 'parrot', '290', 'famous', 'parrots', '291', 'grey'], ['tame', 'seagull', '321', 'mother', 'carey', 'chicken', '322', 'catching', 'stormy', 'petrel'], ['southamerican', 'birds', 'resembling', 'pigeon', 'size', 'head', 'sufficiently'], ['lcon', '311', 'sparrowhawk', '312', 'owl', '313', 'order', 'viii', 'wading', 'birds', '314'], ['326', 'puffin', '327', 'order', 'x', 'ostrich', '328', 'ostrich', 'young', '3']]\n"
     ]
    }
   ],
   "source": [
    "from nltk.tokenize import word_tokenize\n",
    "tokenized_sents = [word_tokenize(i) for i in df['input_con_pro']]\n",
    "print(tokenized_sents)"
   ]
  },
  {
   "cell_type": "code",
   "execution_count": 20,
   "metadata": {},
   "outputs": [
    {
     "name": "stdout",
     "output_type": "stream",
     "text": [
      "['2', 'narrow', 'escape', '83', 'animals', 'dog', 'kind', '84', 'wolf', '84', 'fox', '85', 'ia', 'fissipedia', '43', 'animals', 'cat', 'kind', '43', 'lion', '44', 'lion', 'c', 'w', '162', 'order', 'vii', 'hoofed', 'animals', 'horse', '162', 'arabian', 'horse', '163', 'ho', '43', 'animals', 'cat', 'kind', '43', 'lion', '44', 'lion', 'character', '44', 'atti', 'orfields', 'london', 'illustration', 'tiger', 'hunting', 'preface', 'illustrations', 'ar', 'als', 'music', '218', 'order', 'viii', 'elephant', 'elephant', '219', 'wild', 'elepha', 'ewfoundland', 'training', '112', 'sheep', 'dog', '114', 'sheep', 'dog', 'sagacity', 'ex', 'coast', 'fine', 'donkey', 'remarkably', 'docile', 'ampus', '161', 'order', 'vi', 'manatidæ', 'sea', 'cow', '162', 'order', 'vii', 'hoofed', 'animals', 'ho', 'e', '243', 'tame', 'hares', '244', 'common', 'rabbit', '245', 'order', 'xi', 'toothless', 'animals', 'th', 'und', 'occupied', 'robust', 'english', 'sparrow', 'sparrow', 'declined', 'give', 'dpecker', '284', 'wryneck', '284', 'cuckoo', '284', 'cuckoo', 'hedgespar', 'dog', '269', 'rook', '270', 'carrion', 'crow', '270', 'jackdaw', '271', 'chough', '04', 'order', 'vii', 'birds', 'prey', '304', 'eagle', '305', 'eagle', 'shooting', '305', 'white', 'jackal', 'may', 'considered', 'vulture', 'quadruped', 'kind', 'pu', 'rrots', '290', 'intelligence', 'parrot', '290', 'famous', 'parrots', '291', 'grey', 'tame', 'seagull', '321', 'mother', 'carey', 'chicken', '322', 'catching', 'stormy', 'petrel', 'southamerican', 'birds', 'resembling', 'pigeon', 'size', 'head', 'sufficiently', 'lcon', '311', 'sparrowhawk', '312', 'owl', '313', 'order', 'viii', 'wading', 'birds', '314', '326', 'puffin', '327', 'order', 'x', 'ostrich', '328', 'ostrich', 'young', '3']\n"
     ]
    }
   ],
   "source": [
    "flattened = []\n",
    "for sublist in tokenized_sents:\n",
    "    for val in sublist:\n",
    "        flattened.append(val)\n",
    "print(flattened)"
   ]
  },
  {
   "cell_type": "code",
   "execution_count": 23,
   "metadata": {},
   "outputs": [
    {
     "data": {
      "text/plain": [
       "147"
      ]
     },
     "execution_count": 23,
     "metadata": {},
     "output_type": "execute_result"
    }
   ],
   "source": [
    "Vocab=[]\n",
    "for item in flattened:\n",
    "    if not item in Vocab:\n",
    "        Vocab.append(item)\n",
    "len(Vocab)"
   ]
  }
 ],
 "metadata": {
  "kernelspec": {
   "display_name": "Python 3 (ipykernel)",
   "language": "python",
   "name": "python3"
  },
  "language_info": {
   "codemirror_mode": {
    "name": "ipython",
    "version": 3
   },
   "file_extension": ".py",
   "mimetype": "text/x-python",
   "name": "python",
   "nbconvert_exporter": "python",
   "pygments_lexer": "ipython3",
   "version": "3.9.7"
  }
 },
 "nbformat": 4,
 "nbformat_minor": 4
}
