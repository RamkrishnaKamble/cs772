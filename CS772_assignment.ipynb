{
 "cells": [
  {
   "cell_type": "code",
   "execution_count": 97,
   "metadata": {},
   "outputs": [],
   "source": [
    "import numpy as np\n",
    "import pandas as pd\n",
    "import nltk\n",
    "from nltk.corpus import gutenberg\n",
    "from nltk.text import Text\n",
    "from nltk import word_tokenize\n",
    "import string\n",
    "from urllib import request"
   ]
  },
  {
   "cell_type": "code",
   "execution_count": 98,
   "metadata": {},
   "outputs": [
    {
     "name": "stderr",
     "output_type": "stream",
     "text": [
      "[nltk_data] Downloading package gutenberg to C:\\Users\\RAM\n",
      "[nltk_data]     KRISHNA\\AppData\\Roaming\\nltk_data...\n",
      "[nltk_data]   Package gutenberg is already up-to-date!\n",
      "[nltk_data] Downloading package punkt to C:\\Users\\RAM\n",
      "[nltk_data]     KRISHNA\\AppData\\Roaming\\nltk_data...\n",
      "[nltk_data]   Package punkt is already up-to-date!\n",
      "[nltk_data] Downloading package stopwords to C:\\Users\\RAM\n",
      "[nltk_data]     KRISHNA\\AppData\\Roaming\\nltk_data...\n",
      "[nltk_data]   Package stopwords is already up-to-date!\n"
     ]
    },
    {
     "data": {
      "text/plain": [
       "True"
      ]
     },
     "execution_count": 98,
     "metadata": {},
     "output_type": "execute_result"
    }
   ],
   "source": [
    "nltk.download('gutenberg')\n",
    "nltk.download('punkt')\n",
    "nltk.download('stopwords')"
   ]
  },
  {
   "cell_type": "code",
   "execution_count": 61,
   "metadata": {},
   "outputs": [],
   "source": [
    "url = \"https://www.gutenberg.org/files/37959/37959-0.txt\"\n",
    "response = request.urlopen(url)\n",
    "raw = response.read().decode('utf8')\n",
    "tokens = word_tokenize(raw)\n",
    "text = Text(tokens)"
   ]
  },
  {
   "cell_type": "code",
   "execution_count": 86,
   "metadata": {},
   "outputs": [],
   "source": [
    "def con_text(word,text):\n",
    "    a = text.concordance_list(word, lines = 1, width = 79)\n",
    "    return a[0].line\n",
    "        "
   ]
  },
  {
   "cell_type": "code",
   "execution_count": 87,
   "metadata": {},
   "outputs": [],
   "source": [
    "my_dict ={\"animal_words\": [\"dog\", \"cat\", \"horse\", \"lion\", \"tiger\", \"elephant\",\"sheep\", \"donkey\",\"cow\",\"rabbit\"],\n",
    "          \"bird_words\": [\"sparrow\", \"cuckoo\", \"crow\",\"eagle\",\"vulture\",\"parrot\",\"chicken\",\"pigeon\",\"owl\",\"ostrich\"]\n",
    "          }"
   ]
  },
  {
   "cell_type": "code",
   "execution_count": 88,
   "metadata": {},
   "outputs": [],
   "source": [
    "df = pd.DataFrame.from_dict(my_dict)"
   ]
  },
  {
   "cell_type": "code",
   "execution_count": 89,
   "metadata": {},
   "outputs": [],
   "source": [
    "df['animal_con'] = df.animal_words.apply(lambda x: con_text(x,text))\n",
    "df['birds_con'] = df.bird_words.apply(lambda x: con_text(x,text))"
   ]
  },
  {
   "cell_type": "code",
   "execution_count": 92,
   "metadata": {},
   "outputs": [],
   "source": [
    "stopwords = nltk.corpus.stopwords.words('english')"
   ]
  },
  {
   "cell_type": "code",
   "execution_count": 99,
   "metadata": {},
   "outputs": [],
   "source": [
    "#defining the function to remove punctuation\n",
    "def preprocess(text):\n",
    "    punctuationfree=\"\".join([i for i in text if i not in string.punctuation])\n",
    "    lower_case = punctuationfree.lower()\n",
    "    no_stopwords = \" \".join([i for i in lower_case.split() if i not in stopwords])\n",
    "    return no_stopwords"
   ]
  },
  {
   "cell_type": "code",
   "execution_count": 104,
   "metadata": {},
   "outputs": [],
   "source": [
    "df[\"animal_con_pro\"] = df.animal_con.apply(lambda x: preprocess(x))\n",
    "df[\"bird_con_pro\"] = df.birds_con.apply(lambda x: preprocess(x))"
   ]
  },
  {
   "cell_type": "code",
   "execution_count": 105,
   "metadata": {},
   "outputs": [
    {
     "data": {
      "text/html": [
       "<div>\n",
       "<style scoped>\n",
       "    .dataframe tbody tr th:only-of-type {\n",
       "        vertical-align: middle;\n",
       "    }\n",
       "\n",
       "    .dataframe tbody tr th {\n",
       "        vertical-align: top;\n",
       "    }\n",
       "\n",
       "    .dataframe thead th {\n",
       "        text-align: right;\n",
       "    }\n",
       "</style>\n",
       "<table border=\"1\" class=\"dataframe\">\n",
       "  <thead>\n",
       "    <tr style=\"text-align: right;\">\n",
       "      <th></th>\n",
       "      <th>animal_words</th>\n",
       "      <th>bird_words</th>\n",
       "      <th>animal_con</th>\n",
       "      <th>birds_con</th>\n",
       "      <th>animal_con_pro</th>\n",
       "      <th>bird_con_pro</th>\n",
       "    </tr>\n",
       "  </thead>\n",
       "  <tbody>\n",
       "    <tr>\n",
       "      <th>0</th>\n",
       "      <td>dog</td>\n",
       "      <td>sparrow</td>\n",
       "      <td>2 A Narrow Escape , 83 Animals of the Dog Kind...</td>\n",
       "      <td>und it occupied by a robust English sparrow . ...</td>\n",
       "      <td>2 narrow escape 83 animals dog kind 84 wolf 84...</td>\n",
       "      <td>und occupied robust english sparrow sparrow de...</td>\n",
       "    </tr>\n",
       "    <tr>\n",
       "      <th>1</th>\n",
       "      <td>cat</td>\n",
       "      <td>cuckoo</td>\n",
       "      <td>IA The Fissipedia , 43 Animals of the Cat Kind...</td>\n",
       "      <td>dpecker , 284 The Wryneck , 284 The Cuckoo , 2...</td>\n",
       "      <td>ia fissipedia 43 animals cat kind 43 lion 44 l...</td>\n",
       "      <td>dpecker 284 wryneck 284 cuckoo 284 cuckoo hedg...</td>\n",
       "    </tr>\n",
       "    <tr>\n",
       "      <th>2</th>\n",
       "      <td>horse</td>\n",
       "      <td>crow</td>\n",
       "      <td>w , 162 ORDER VII HOOFED ANIMALS The Horse , 1...</td>\n",
       "      <td>Dog , 269 The Rook , 270 The Carrion Crow , 27...</td>\n",
       "      <td>w 162 order vii hoofed animals horse 162 arabi...</td>\n",
       "      <td>dog 269 rook 270 carrion crow 270 jackdaw 271 ...</td>\n",
       "    </tr>\n",
       "    <tr>\n",
       "      <th>3</th>\n",
       "      <td>lion</td>\n",
       "      <td>eagle</td>\n",
       "      <td>43 Animals of the Cat Kind , 43 The Lion , 44...</td>\n",
       "      <td>04 ORDER VII Birds of Prey , 304 The Eagle , 3...</td>\n",
       "      <td>43 animals cat kind 43 lion 44 lion character ...</td>\n",
       "      <td>04 order vii birds prey 304 eagle 305 eagle sh...</td>\n",
       "    </tr>\n",
       "    <tr>\n",
       "      <th>4</th>\n",
       "      <td>tiger</td>\n",
       "      <td>vulture</td>\n",
       "      <td>ORFIELDS , LONDON . [ Illustration : Tiger Hun...</td>\n",
       "      <td>The jackal may be considered as the vulture of...</td>\n",
       "      <td>orfields london illustration tiger hunting pre...</td>\n",
       "      <td>jackal may considered vulture quadruped kind pu</td>\n",
       "    </tr>\n",
       "    <tr>\n",
       "      <th>5</th>\n",
       "      <td>elephant</td>\n",
       "      <td>parrot</td>\n",
       "      <td>als and Music , 218 ORDER VIII THE ELEPHANT Th...</td>\n",
       "      <td>rrots , 290 The Intelligence of the Parrot , 2...</td>\n",
       "      <td>als music 218 order viii elephant elephant 219...</td>\n",
       "      <td>rrots 290 intelligence parrot 290 famous parro...</td>\n",
       "    </tr>\n",
       "    <tr>\n",
       "      <th>6</th>\n",
       "      <td>sheep</td>\n",
       "      <td>chicken</td>\n",
       "      <td>ewfoundland under Training , 112 The Sheep Dog...</td>\n",
       "      <td>Tame Sea-Gull , 321 Mother Carey 's Chicken , ...</td>\n",
       "      <td>ewfoundland training 112 sheep dog 114 sheep d...</td>\n",
       "      <td>tame seagull 321 mother carey chicken 322 catc...</td>\n",
       "    </tr>\n",
       "    <tr>\n",
       "      <th>7</th>\n",
       "      <td>donkey</td>\n",
       "      <td>pigeon</td>\n",
       "      <td>ex coast , I had myself a very fine donkey , w...</td>\n",
       "      <td>South-American birds . Resembling a pigeon in ...</td>\n",
       "      <td>ex coast fine donkey remarkably docile</td>\n",
       "      <td>southamerican birds resembling pigeon size hea...</td>\n",
       "    </tr>\n",
       "    <tr>\n",
       "      <th>8</th>\n",
       "      <td>cow</td>\n",
       "      <td>owl</td>\n",
       "      <td>ampus , 161 ORDER VI MANATIDÆ The Sea Cow , 16...</td>\n",
       "      <td>lcon , 311 The Sparrow-Hawk , 312 The Owl , 31...</td>\n",
       "      <td>ampus 161 order vi manatidæ sea cow 162 order ...</td>\n",
       "      <td>lcon 311 sparrowhawk 312 owl 313 order viii wa...</td>\n",
       "    </tr>\n",
       "    <tr>\n",
       "      <th>9</th>\n",
       "      <td>rabbit</td>\n",
       "      <td>ostrich</td>\n",
       "      <td>e , 243 Tame Hares , 244 The Common Rabbit , 2...</td>\n",
       "      <td>, 326 The Puffin , 327 ORDER X The Ostrich , ...</td>\n",
       "      <td>e 243 tame hares 244 common rabbit 245 order x...</td>\n",
       "      <td>326 puffin 327 order x ostrich 328 ostrich you...</td>\n",
       "    </tr>\n",
       "  </tbody>\n",
       "</table>\n",
       "</div>"
      ],
      "text/plain": [
       "  animal_words bird_words                                         animal_con  \\\n",
       "0          dog    sparrow  2 A Narrow Escape , 83 Animals of the Dog Kind...   \n",
       "1          cat     cuckoo  IA The Fissipedia , 43 Animals of the Cat Kind...   \n",
       "2        horse       crow  w , 162 ORDER VII HOOFED ANIMALS The Horse , 1...   \n",
       "3         lion      eagle   43 Animals of the Cat Kind , 43 The Lion , 44...   \n",
       "4        tiger    vulture  ORFIELDS , LONDON . [ Illustration : Tiger Hun...   \n",
       "5     elephant     parrot  als and Music , 218 ORDER VIII THE ELEPHANT Th...   \n",
       "6        sheep    chicken  ewfoundland under Training , 112 The Sheep Dog...   \n",
       "7       donkey     pigeon  ex coast , I had myself a very fine donkey , w...   \n",
       "8          cow        owl  ampus , 161 ORDER VI MANATIDÆ The Sea Cow , 16...   \n",
       "9       rabbit    ostrich  e , 243 Tame Hares , 244 The Common Rabbit , 2...   \n",
       "\n",
       "                                           birds_con  \\\n",
       "0  und it occupied by a robust English sparrow . ...   \n",
       "1  dpecker , 284 The Wryneck , 284 The Cuckoo , 2...   \n",
       "2  Dog , 269 The Rook , 270 The Carrion Crow , 27...   \n",
       "3  04 ORDER VII Birds of Prey , 304 The Eagle , 3...   \n",
       "4  The jackal may be considered as the vulture of...   \n",
       "5  rrots , 290 The Intelligence of the Parrot , 2...   \n",
       "6  Tame Sea-Gull , 321 Mother Carey 's Chicken , ...   \n",
       "7  South-American birds . Resembling a pigeon in ...   \n",
       "8  lcon , 311 The Sparrow-Hawk , 312 The Owl , 31...   \n",
       "9   , 326 The Puffin , 327 ORDER X The Ostrich , ...   \n",
       "\n",
       "                                      animal_con_pro  \\\n",
       "0  2 narrow escape 83 animals dog kind 84 wolf 84...   \n",
       "1  ia fissipedia 43 animals cat kind 43 lion 44 l...   \n",
       "2  w 162 order vii hoofed animals horse 162 arabi...   \n",
       "3  43 animals cat kind 43 lion 44 lion character ...   \n",
       "4  orfields london illustration tiger hunting pre...   \n",
       "5  als music 218 order viii elephant elephant 219...   \n",
       "6  ewfoundland training 112 sheep dog 114 sheep d...   \n",
       "7             ex coast fine donkey remarkably docile   \n",
       "8  ampus 161 order vi manatidæ sea cow 162 order ...   \n",
       "9  e 243 tame hares 244 common rabbit 245 order x...   \n",
       "\n",
       "                                        bird_con_pro  \n",
       "0  und occupied robust english sparrow sparrow de...  \n",
       "1  dpecker 284 wryneck 284 cuckoo 284 cuckoo hedg...  \n",
       "2  dog 269 rook 270 carrion crow 270 jackdaw 271 ...  \n",
       "3  04 order vii birds prey 304 eagle 305 eagle sh...  \n",
       "4    jackal may considered vulture quadruped kind pu  \n",
       "5  rrots 290 intelligence parrot 290 famous parro...  \n",
       "6  tame seagull 321 mother carey chicken 322 catc...  \n",
       "7  southamerican birds resembling pigeon size hea...  \n",
       "8  lcon 311 sparrowhawk 312 owl 313 order viii wa...  \n",
       "9  326 puffin 327 order x ostrich 328 ostrich you...  "
      ]
     },
     "execution_count": 105,
     "metadata": {},
     "output_type": "execute_result"
    }
   ],
   "source": [
    "df"
   ]
  },
  {
   "cell_type": "code",
   "execution_count": null,
   "metadata": {},
   "outputs": [],
   "source": []
  }
 ],
 "metadata": {
  "kernelspec": {
   "display_name": "Python 3",
   "language": "python",
   "name": "python3"
  },
  "language_info": {
   "codemirror_mode": {
    "name": "ipython",
    "version": 3
   },
   "file_extension": ".py",
   "mimetype": "text/x-python",
   "name": "python",
   "nbconvert_exporter": "python",
   "pygments_lexer": "ipython3",
   "version": "3.7.6"
  }
 },
 "nbformat": 4,
 "nbformat_minor": 4
}
