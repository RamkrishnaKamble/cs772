{
 "cells": [
  {
   "cell_type": "code",
   "execution_count": 1,
   "metadata": {},
   "outputs": [],
   "source": [
    "import numpy as np\n",
    "import pandas as pd\n",
    "import nltk\n",
    "from nltk.corpus import gutenberg\n",
    "from nltk.text import Text\n",
    "from nltk import word_tokenize\n",
    "import string\n",
    "from urllib import request\n",
    "from string import punctuation \n",
    "import re"
   ]
  },
  {
   "cell_type": "code",
   "execution_count": 2,
   "metadata": {},
   "outputs": [
    {
     "name": "stderr",
     "output_type": "stream",
     "text": [
      "[nltk_data] Downloading package gutenberg to\n",
      "[nltk_data]     C:\\Users\\Acer\\AppData\\Roaming\\nltk_data...\n",
      "[nltk_data]   Package gutenberg is already up-to-date!\n",
      "[nltk_data] Downloading package punkt to\n",
      "[nltk_data]     C:\\Users\\Acer\\AppData\\Roaming\\nltk_data...\n",
      "[nltk_data]   Package punkt is already up-to-date!\n",
      "[nltk_data] Downloading package stopwords to\n",
      "[nltk_data]     C:\\Users\\Acer\\AppData\\Roaming\\nltk_data...\n",
      "[nltk_data]   Package stopwords is already up-to-date!\n"
     ]
    }
   ],
   "source": [
    "nltk.download('gutenberg')\n",
    "nltk.download('punkt')\n",
    "nltk.download('stopwords')\n",
    "stop_words = nltk.corpus.stopwords.words('english') "
   ]
  },
  {
   "cell_type": "code",
   "execution_count": 3,
   "metadata": {},
   "outputs": [],
   "source": [
    "url = \"https://www.gutenberg.org/files/37959/37959-0.txt\"\n",
    "response = request.urlopen(url)\n",
    "raw = response.read().decode('utf8')\n",
    "tokens = word_tokenize(raw)\n",
    "text = Text(tokens)"
   ]
  },
  {
   "cell_type": "code",
   "execution_count": 141,
   "metadata": {},
   "outputs": [],
   "source": [
    "def con_text(word,text):\n",
    "    a = text.concordance_list(word)\n",
    "    a_f = \" \"\n",
    "    \n",
    "    for i in range(len(a)):\n",
    "        a_f = a_f + a[i].line\n",
    "    return a_f"
   ]
  },
  {
   "cell_type": "code",
   "execution_count": 142,
   "metadata": {},
   "outputs": [],
   "source": [
    "my_dict ={\"input_words\": [\"dog\", \"cat\", \"horse\", \"lion\", \"tiger\", \"elephant\",\"sheep\", \"donkey\",\"cow\",\"rabbit\"]+[\"sparrow\", \"cuckoo\", \"crow\",\"eagle\",\"vulture\",\"parrot\",\"chicken\",\"pigeon\",\"owl\",\"ostrich\"]\n",
    "          }"
   ]
  },
  {
   "cell_type": "code",
   "execution_count": 143,
   "metadata": {},
   "outputs": [],
   "source": [
    "df = pd.DataFrame.from_dict(my_dict)\n"
   ]
  },
  {
   "cell_type": "code",
   "execution_count": 144,
   "metadata": {},
   "outputs": [],
   "source": [
    "df['input_con'] = df.input_words.apply(lambda x: con_text(x,text))\n"
   ]
  },
  {
   "cell_type": "code",
   "execution_count": 145,
   "metadata": {},
   "outputs": [
    {
     "data": {
      "text/html": [
       "<div>\n",
       "<style scoped>\n",
       "    .dataframe tbody tr th:only-of-type {\n",
       "        vertical-align: middle;\n",
       "    }\n",
       "\n",
       "    .dataframe tbody tr th {\n",
       "        vertical-align: top;\n",
       "    }\n",
       "\n",
       "    .dataframe thead th {\n",
       "        text-align: right;\n",
       "    }\n",
       "</style>\n",
       "<table border=\"1\" class=\"dataframe\">\n",
       "  <thead>\n",
       "    <tr style=\"text-align: right;\">\n",
       "      <th></th>\n",
       "      <th>input_words</th>\n",
       "      <th>input_con</th>\n",
       "    </tr>\n",
       "  </thead>\n",
       "  <tbody>\n",
       "    <tr>\n",
       "      <th>0</th>\n",
       "      <td>dog</td>\n",
       "      <td>2 A Narrow Escape , 83 Animals of the Dog Kin...</td>\n",
       "    </tr>\n",
       "    <tr>\n",
       "      <th>1</th>\n",
       "      <td>cat</td>\n",
       "      <td>IA The Fissipedia , 43 Animals of the Cat Kin...</td>\n",
       "    </tr>\n",
       "    <tr>\n",
       "      <th>2</th>\n",
       "      <td>horse</td>\n",
       "      <td>w , 162 ORDER VII HOOFED ANIMALS The Horse , ...</td>\n",
       "    </tr>\n",
       "    <tr>\n",
       "      <th>3</th>\n",
       "      <td>lion</td>\n",
       "      <td>43 Animals of the Cat Kind , 43 The Lion , 4...</td>\n",
       "    </tr>\n",
       "    <tr>\n",
       "      <th>4</th>\n",
       "      <td>tiger</td>\n",
       "      <td>ORFIELDS , LONDON . [ Illustration : Tiger Hu...</td>\n",
       "    </tr>\n",
       "    <tr>\n",
       "      <th>5</th>\n",
       "      <td>elephant</td>\n",
       "      <td>als and Music , 218 ORDER VIII THE ELEPHANT T...</td>\n",
       "    </tr>\n",
       "    <tr>\n",
       "      <th>6</th>\n",
       "      <td>sheep</td>\n",
       "      <td>ewfoundland under Training , 112 The Sheep Do...</td>\n",
       "    </tr>\n",
       "    <tr>\n",
       "      <th>7</th>\n",
       "      <td>donkey</td>\n",
       "      <td>ex coast , I had myself a very fine donkey , ...</td>\n",
       "    </tr>\n",
       "    <tr>\n",
       "      <th>8</th>\n",
       "      <td>cow</td>\n",
       "      <td>ampus , 161 ORDER VI MANATIDÆ The Sea Cow , 1...</td>\n",
       "    </tr>\n",
       "    <tr>\n",
       "      <th>9</th>\n",
       "      <td>rabbit</td>\n",
       "      <td>e , 243 Tame Hares , 244 The Common Rabbit , ...</td>\n",
       "    </tr>\n",
       "    <tr>\n",
       "      <th>10</th>\n",
       "      <td>sparrow</td>\n",
       "      <td>und it occupied by a robust English sparrow ....</td>\n",
       "    </tr>\n",
       "    <tr>\n",
       "      <th>11</th>\n",
       "      <td>cuckoo</td>\n",
       "      <td>dpecker , 284 The Wryneck , 284 The Cuckoo , ...</td>\n",
       "    </tr>\n",
       "    <tr>\n",
       "      <th>12</th>\n",
       "      <td>crow</td>\n",
       "      <td>Dog , 269 The Rook , 270 The Carrion Crow , 2...</td>\n",
       "    </tr>\n",
       "    <tr>\n",
       "      <th>13</th>\n",
       "      <td>eagle</td>\n",
       "      <td>04 ORDER VII Birds of Prey , 304 The Eagle , ...</td>\n",
       "    </tr>\n",
       "    <tr>\n",
       "      <th>14</th>\n",
       "      <td>vulture</td>\n",
       "      <td>The jackal may be considered as the vulture o...</td>\n",
       "    </tr>\n",
       "    <tr>\n",
       "      <th>15</th>\n",
       "      <td>parrot</td>\n",
       "      <td>rrots , 290 The Intelligence of the Parrot , ...</td>\n",
       "    </tr>\n",
       "    <tr>\n",
       "      <th>16</th>\n",
       "      <td>chicken</td>\n",
       "      <td>Tame Sea-Gull , 321 Mother Carey 's Chicken ,...</td>\n",
       "    </tr>\n",
       "    <tr>\n",
       "      <th>17</th>\n",
       "      <td>pigeon</td>\n",
       "      <td>South-American birds . Resembling a pigeon in...</td>\n",
       "    </tr>\n",
       "    <tr>\n",
       "      <th>18</th>\n",
       "      <td>owl</td>\n",
       "      <td>lcon , 311 The Sparrow-Hawk , 312 The Owl , 3...</td>\n",
       "    </tr>\n",
       "    <tr>\n",
       "      <th>19</th>\n",
       "      <td>ostrich</td>\n",
       "      <td>, 326 The Puffin , 327 ORDER X The Ostrich ,...</td>\n",
       "    </tr>\n",
       "  </tbody>\n",
       "</table>\n",
       "</div>"
      ],
      "text/plain": [
       "   input_words                                          input_con\n",
       "0          dog   2 A Narrow Escape , 83 Animals of the Dog Kin...\n",
       "1          cat   IA The Fissipedia , 43 Animals of the Cat Kin...\n",
       "2        horse   w , 162 ORDER VII HOOFED ANIMALS The Horse , ...\n",
       "3         lion    43 Animals of the Cat Kind , 43 The Lion , 4...\n",
       "4        tiger   ORFIELDS , LONDON . [ Illustration : Tiger Hu...\n",
       "5     elephant   als and Music , 218 ORDER VIII THE ELEPHANT T...\n",
       "6        sheep   ewfoundland under Training , 112 The Sheep Do...\n",
       "7       donkey   ex coast , I had myself a very fine donkey , ...\n",
       "8          cow   ampus , 161 ORDER VI MANATIDÆ The Sea Cow , 1...\n",
       "9       rabbit   e , 243 Tame Hares , 244 The Common Rabbit , ...\n",
       "10     sparrow   und it occupied by a robust English sparrow ....\n",
       "11      cuckoo   dpecker , 284 The Wryneck , 284 The Cuckoo , ...\n",
       "12        crow   Dog , 269 The Rook , 270 The Carrion Crow , 2...\n",
       "13       eagle   04 ORDER VII Birds of Prey , 304 The Eagle , ...\n",
       "14     vulture   The jackal may be considered as the vulture o...\n",
       "15      parrot   rrots , 290 The Intelligence of the Parrot , ...\n",
       "16     chicken   Tame Sea-Gull , 321 Mother Carey 's Chicken ,...\n",
       "17      pigeon   South-American birds . Resembling a pigeon in...\n",
       "18         owl   lcon , 311 The Sparrow-Hawk , 312 The Owl , 3...\n",
       "19     ostrich    , 326 The Puffin , 327 ORDER X The Ostrich ,..."
      ]
     },
     "execution_count": 145,
     "metadata": {},
     "output_type": "execute_result"
    }
   ],
   "source": [
    "df"
   ]
  },
  {
   "cell_type": "code",
   "execution_count": 146,
   "metadata": {},
   "outputs": [],
   "source": [
    "#defining the function to remove punctuation\n",
    "def preprocess(text):\n",
    "    punctuationfree=\"\".join([i for i in text if i not in string.punctuation])\n",
    "    lower_case = punctuationfree.lower()\n",
    "    no_stopwords = \" \".join([i for i in lower_case.split() if i not in stopwords])\n",
    "    return no_stopwords"
   ]
  },
  {
   "cell_type": "code",
   "execution_count": 147,
   "metadata": {},
   "outputs": [],
   "source": [
    "remove_terms = punctuation + '0123456789'\n",
    "wpt = nltk.WordPunctTokenizer()\n",
    "def normalize_document(doc):\n",
    "    # lower case and remove special characters\\whitespaces\n",
    "    doc = re.sub(r'[^a-zA-Z\\s]', '', doc,re.I|re.A)\n",
    "    doc = doc.lower()\n",
    "    doc = doc.strip()\n",
    "    # tokenize document\n",
    "    tokens = wpt.tokenize(doc)\n",
    "    # filter stopwords out of document\n",
    "    filtered_tokens = [token for token in tokens if token not in stop_words]\n",
    "    # re-create document from filtered tokens\n",
    "    doc = ' '.join(filtered_tokens)\n",
    "    return doc"
   ]
  },
  {
   "cell_type": "code",
   "execution_count": 148,
   "metadata": {},
   "outputs": [],
   "source": [
    "df[\"input_con_pro\"] = df.input_con.apply(lambda x: normalize_document(x))\n"
   ]
  },
  {
   "cell_type": "code",
   "execution_count": 149,
   "metadata": {
    "scrolled": false
   },
   "outputs": [
    {
     "data": {
      "text/html": [
       "<div>\n",
       "<style scoped>\n",
       "    .dataframe tbody tr th:only-of-type {\n",
       "        vertical-align: middle;\n",
       "    }\n",
       "\n",
       "    .dataframe tbody tr th {\n",
       "        vertical-align: top;\n",
       "    }\n",
       "\n",
       "    .dataframe thead th {\n",
       "        text-align: right;\n",
       "    }\n",
       "</style>\n",
       "<table border=\"1\" class=\"dataframe\">\n",
       "  <thead>\n",
       "    <tr style=\"text-align: right;\">\n",
       "      <th></th>\n",
       "      <th>input_words</th>\n",
       "      <th>input_con</th>\n",
       "      <th>input_con_pro</th>\n",
       "    </tr>\n",
       "  </thead>\n",
       "  <tbody>\n",
       "    <tr>\n",
       "      <th>0</th>\n",
       "      <td>dog</td>\n",
       "      <td>2 A Narrow Escape , 83 Animals of the Dog Kin...</td>\n",
       "      <td>narrow escape animals dog kind wolf fox arctic...</td>\n",
       "    </tr>\n",
       "    <tr>\n",
       "      <th>1</th>\n",
       "      <td>cat</td>\n",
       "      <td>IA The Fissipedia , 43 Animals of the Cat Kin...</td>\n",
       "      <td>ia fissipedia animals cat kind lion lion c ser...</td>\n",
       "    </tr>\n",
       "    <tr>\n",
       "      <th>2</th>\n",
       "      <td>horse</td>\n",
       "      <td>w , 162 ORDER VII HOOFED ANIMALS The Horse , ...</td>\n",
       "      <td>w order vii hoofed animals horse arabian horse...</td>\n",
       "    </tr>\n",
       "    <tr>\n",
       "      <th>3</th>\n",
       "      <td>lion</td>\n",
       "      <td>43 Animals of the Cat Kind , 43 The Lion , 4...</td>\n",
       "      <td>animals cat kind lion lion character atti cat ...</td>\n",
       "    </tr>\n",
       "    <tr>\n",
       "      <th>4</th>\n",
       "      <td>tiger</td>\n",
       "      <td>ORFIELDS , LONDON . [ Illustration : Tiger Hu...</td>\n",
       "      <td>orfields london illustration tiger hunting pre...</td>\n",
       "    </tr>\n",
       "    <tr>\n",
       "      <th>5</th>\n",
       "      <td>elephant</td>\n",
       "      <td>als and Music , 218 ORDER VIII THE ELEPHANT T...</td>\n",
       "      <td>als music order viii elephant elephant wild el...</td>\n",
       "    </tr>\n",
       "    <tr>\n",
       "      <th>6</th>\n",
       "      <td>sheep</td>\n",
       "      <td>ewfoundland under Training , 112 The Sheep Do...</td>\n",
       "      <td>ewfoundland training sheep dog sheep dog sagac...</td>\n",
       "    </tr>\n",
       "    <tr>\n",
       "      <th>7</th>\n",
       "      <td>donkey</td>\n",
       "      <td>ex coast , I had myself a very fine donkey , ...</td>\n",
       "      <td>ex coast fine donkey remarkably docile andnigh...</td>\n",
       "    </tr>\n",
       "    <tr>\n",
       "      <th>8</th>\n",
       "      <td>cow</td>\n",
       "      <td>ampus , 161 ORDER VI MANATIDÆ The Sea Cow , 1...</td>\n",
       "      <td>ampus order vi manatid sea cow order vii hoofe...</td>\n",
       "    </tr>\n",
       "    <tr>\n",
       "      <th>9</th>\n",
       "      <td>rabbit</td>\n",
       "      <td>e , 243 Tame Hares , 244 The Common Rabbit , ...</td>\n",
       "      <td>e tame hares common rabbit order xi toothless ...</td>\n",
       "    </tr>\n",
       "    <tr>\n",
       "      <th>10</th>\n",
       "      <td>sparrow</td>\n",
       "      <td>und it occupied by a robust English sparrow ....</td>\n",
       "      <td>und occupied robust english sparrow sparrow de...</td>\n",
       "    </tr>\n",
       "    <tr>\n",
       "      <th>11</th>\n",
       "      <td>cuckoo</td>\n",
       "      <td>dpecker , 284 The Wryneck , 284 The Cuckoo , ...</td>\n",
       "      <td>dpecker wryneck cuckoo cuckoo hedgespar wrynec...</td>\n",
       "    </tr>\n",
       "    <tr>\n",
       "      <th>12</th>\n",
       "      <td>crow</td>\n",
       "      <td>Dog , 269 The Rook , 270 The Carrion Crow , 2...</td>\n",
       "      <td>dog rook carrion crow jackdaw chough oubles cr...</td>\n",
       "    </tr>\n",
       "    <tr>\n",
       "      <th>13</th>\n",
       "      <td>eagle</td>\n",
       "      <td>04 ORDER VII Birds of Prey , 304 The Eagle , ...</td>\n",
       "      <td>order vii birds prey eagle eagle shooting whit...</td>\n",
       "    </tr>\n",
       "    <tr>\n",
       "      <th>14</th>\n",
       "      <td>vulture</td>\n",
       "      <td>The jackal may be considered as the vulture o...</td>\n",
       "      <td>jackal may considered vulture quadruped kind p...</td>\n",
       "    </tr>\n",
       "    <tr>\n",
       "      <th>15</th>\n",
       "      <td>parrot</td>\n",
       "      <td>rrots , 290 The Intelligence of the Parrot , ...</td>\n",
       "      <td>rrots intelligence parrot famous parrots grey ...</td>\n",
       "    </tr>\n",
       "    <tr>\n",
       "      <th>16</th>\n",
       "      <td>chicken</td>\n",
       "      <td>Tame Sea-Gull , 321 Mother Carey 's Chicken ,...</td>\n",
       "      <td>tame seagull mother carey chicken catching sto...</td>\n",
       "    </tr>\n",
       "    <tr>\n",
       "      <th>17</th>\n",
       "      <td>pigeon</td>\n",
       "      <td>South-American birds . Resembling a pigeon in...</td>\n",
       "      <td>southamerican birds resembling pigeon size hea...</td>\n",
       "    </tr>\n",
       "    <tr>\n",
       "      <th>18</th>\n",
       "      <td>owl</td>\n",
       "      <td>lcon , 311 The Sparrow-Hawk , 312 The Owl , 3...</td>\n",
       "      <td>lcon sparrowhawk owl order viii wading birds e...</td>\n",
       "    </tr>\n",
       "    <tr>\n",
       "      <th>19</th>\n",
       "      <td>ostrich</td>\n",
       "      <td>, 326 The Puffin , 327 ORDER X The Ostrich ,...</td>\n",
       "      <td>puffin order x ostrich ostrich young order x o...</td>\n",
       "    </tr>\n",
       "  </tbody>\n",
       "</table>\n",
       "</div>"
      ],
      "text/plain": [
       "   input_words                                          input_con  \\\n",
       "0          dog   2 A Narrow Escape , 83 Animals of the Dog Kin...   \n",
       "1          cat   IA The Fissipedia , 43 Animals of the Cat Kin...   \n",
       "2        horse   w , 162 ORDER VII HOOFED ANIMALS The Horse , ...   \n",
       "3         lion    43 Animals of the Cat Kind , 43 The Lion , 4...   \n",
       "4        tiger   ORFIELDS , LONDON . [ Illustration : Tiger Hu...   \n",
       "5     elephant   als and Music , 218 ORDER VIII THE ELEPHANT T...   \n",
       "6        sheep   ewfoundland under Training , 112 The Sheep Do...   \n",
       "7       donkey   ex coast , I had myself a very fine donkey , ...   \n",
       "8          cow   ampus , 161 ORDER VI MANATIDÆ The Sea Cow , 1...   \n",
       "9       rabbit   e , 243 Tame Hares , 244 The Common Rabbit , ...   \n",
       "10     sparrow   und it occupied by a robust English sparrow ....   \n",
       "11      cuckoo   dpecker , 284 The Wryneck , 284 The Cuckoo , ...   \n",
       "12        crow   Dog , 269 The Rook , 270 The Carrion Crow , 2...   \n",
       "13       eagle   04 ORDER VII Birds of Prey , 304 The Eagle , ...   \n",
       "14     vulture   The jackal may be considered as the vulture o...   \n",
       "15      parrot   rrots , 290 The Intelligence of the Parrot , ...   \n",
       "16     chicken   Tame Sea-Gull , 321 Mother Carey 's Chicken ,...   \n",
       "17      pigeon   South-American birds . Resembling a pigeon in...   \n",
       "18         owl   lcon , 311 The Sparrow-Hawk , 312 The Owl , 3...   \n",
       "19     ostrich    , 326 The Puffin , 327 ORDER X The Ostrich ,...   \n",
       "\n",
       "                                        input_con_pro  \n",
       "0   narrow escape animals dog kind wolf fox arctic...  \n",
       "1   ia fissipedia animals cat kind lion lion c ser...  \n",
       "2   w order vii hoofed animals horse arabian horse...  \n",
       "3   animals cat kind lion lion character atti cat ...  \n",
       "4   orfields london illustration tiger hunting pre...  \n",
       "5   als music order viii elephant elephant wild el...  \n",
       "6   ewfoundland training sheep dog sheep dog sagac...  \n",
       "7   ex coast fine donkey remarkably docile andnigh...  \n",
       "8   ampus order vi manatid sea cow order vii hoofe...  \n",
       "9   e tame hares common rabbit order xi toothless ...  \n",
       "10  und occupied robust english sparrow sparrow de...  \n",
       "11  dpecker wryneck cuckoo cuckoo hedgespar wrynec...  \n",
       "12  dog rook carrion crow jackdaw chough oubles cr...  \n",
       "13  order vii birds prey eagle eagle shooting whit...  \n",
       "14  jackal may considered vulture quadruped kind p...  \n",
       "15  rrots intelligence parrot famous parrots grey ...  \n",
       "16  tame seagull mother carey chicken catching sto...  \n",
       "17  southamerican birds resembling pigeon size hea...  \n",
       "18  lcon sparrowhawk owl order viii wading birds e...  \n",
       "19  puffin order x ostrich ostrich young order x o...  "
      ]
     },
     "execution_count": 149,
     "metadata": {},
     "output_type": "execute_result"
    }
   ],
   "source": [
    "df\n"
   ]
  },
  {
   "cell_type": "code",
   "execution_count": 150,
   "metadata": {},
   "outputs": [
    {
     "data": {
      "text/plain": [
       "'narrow escape animals dog kind wolf fox arctic fox wild dogs dog dog understanding th wild dogs dog dog understanding dog sens dog understanding dog sense locality dog friends dog sense locality dog friendships enmities dogdog friendships enmities dog language dog intelligencities dog language dog intelligence dogs mistakes hard lot newfoundland dog newfoundland generosity ndland training sheep dog sheep dog sagacity g sheep dog sheep dog sagacity sheep dog fisheep dog sagacity sheep dog fidelity st bernard beagle dalmatian dog turnspit turnspitmastiff protector bull dog poodle shoeblack marmot bobak prairie dog chinchilla porcuphe tame raven raven dog rook carrion crowe friendships goose dog maternal instinct gos sharp bark like angry dog glides deep bass roll one species resembling dog sometimes called dogfaceout breaking days dog learned lesson kees egg often dog foiled although stroles island shared cage dog became greatly attached brown respects dog denomination wild stat leopard well cat dog two suborders lesh blood animals dog wolf bear sometimes knoor mutual support like dog kind first classia fissipedia animals cat kind lion lion c serval common wild cat domestic cat cat supersthe common wild cat domestic cat cat superstitions cat wild cat domestic cat cat superstitions cat huntec cat cat superstitions cat hunter cat younons cat hunter cat young cat foster cat young cat foster mother cat cat foster mother cat traveller cat spor cat traveller cat sportsman cat intell cat sportsman cat intelligence lynx thsome species much resemble cat appearance though four hands u licking dressing like cat operation flexibilityhile nothing could reconcile cat constantly jumped basays size shape domestic cat head ears larger anegs tail longer cat dr sandwich writing one houth lapped like cat first mode drinking appeiger leopard well cat dog two suborders intor fissipedia animals cat kind animals cat kind dimals cat kind animals cat kind distinguished sharpips ears tufted lastly cat wild tame varietnt remember belongs cat family virtues vicirtues vices naturally cat kind lion seldom runs lion well others cat tribe takes prey night andby mouse first shake cat caused sort dreaminess ina siam much resembles cat almost induce us considerw order vii hoofed animals horse arabian horse ho animals horse arabian horse horse affection tse arabian horse horse affection domestic horsorse affection domestic horse structure horse estic horse structure horse horse speed h structure horse horse speed horse endurance horse speed horse endurance horse memo horse endurance horse memory force habit habit intelligence horse horseplay horses toe man ears horse combs wattles fowls nt one actually caught horse back bivouacking late othe third day afterwards rode horse without ill effects traves us run fast horse gallop observations heould run legs cow horse reposing grass causeat moment hunter fired horse whose bridle round arm seless gun discharged horse running man beast self seized leg quitted horse turned upon dog thhad fired tore horse ground biting sager comrade sprang horse attempted shoot leopardon found jaguar feasting upon horse killed jaguar fleh whereupon body horse dragged within musket shot aoached seizing body horse teeth dragged sixtyuching opposite side horse neck always found although would allow loose horse approach even ding great distance white horse vale accustomed go poacanimals cat kind lion lion character atti cat kind lion lion character attitude towards better part valour lion strength lion affectir lion strength lion affection lion docili lion affection lion docility story androcy story androcles lion hunt thrilling experience illing experience attacked lion night surprise lion ou lion night surprise lion outwitted old instincts newatorial regions crested lion mount atlas two fiercest ngest beasts continent lion south africa compared nd perhaps driven away lion territory king umber species among lion tiger leopard welnnipedia includes seal sea lion walrus allies subbles farinaceous food lion tiger leopard othekind first class lion distinguished rest bys tiger rather longer lion tall known otherwise couguar american lion tawny colour ns cruel illustration lion lion lion known thel illustration lion lion lion known king bstration lion lion lion known king beasts thoch one time credited lion character judging lioion character judging lion character important remee naturally cat kind lion seldom runs says author ing exercise lion well others cat tribeye therefore necessary lion perceive prey creepsorfields london illustration tiger hunting preface illustrations arincts new opportunities tiger tiger ravages inpportunities tiger tiger ravages intrepid hunter men ocelot clouded tiger serval common wildmaller bat ferocity tiger finding impossible escapeecies among lion tiger leopard well catarinaceous food lion tiger leopard animals ofe mane second tiger rather longer lion streaked back like tiger next lynx size led den tiger tiger one beautgain den tiger tiger one beautiful ao induce us consider latter tiger miniature lurks generally neis satiated slaughter tiger said prefer human fles deer greatest ease tiger ornamented long streaks acroally china colouring tiger says rev j g wood ich reside stripes tiger skin exactly assimilate tenemy following narrative tiger excursion doongal place ravages tiger notorious prepared drawing sword slay tiger sprang upon pon carried hy resting tree tiger sprang seized woman struggle ensued tiger pulling head mahich could doubted tiger carried woman man seemwas bringing home bride tiger followed kept view gth shepherd taken young tiger followed mother year old captured tiger infant found puals music order viii elephant elephant wild elepha order viii elephant elephant wild elephant elepephant elephant wild elephant elephant herds elephanhant wild elephant elephant herds elephant friendships lephant elephant herds elephant friendships sagacity endships sagacity elephant centenarian elephant f elephant centenarian elephant elephant nurse centenarian elephant elephant nurse intelligence thurse intelligence elephant order ix hyrax conies tortoise turtle elephant tortoise turtle orh dug outside even wild elephant deem prudent cross lieutenant collet elephant received shoulder thehe exertions riders elephant shook tiger lieutena missed object seized elephant hind leg recy seal sea leopard sea elephant bladdernose hooded seals backs males sea elephant largest seals ionly second intelligence elephant many proofs could given oeen regarded link elephant rhinoceros cle classification followed elephant forms separate order tapire animals next magnitude elephant feed solely grass carrt patience distinguishes elephant paroxysms rage mr animal rhinoceros elephant powerful beast btreatment though doubt elephant proverbial docilityest music order viii elephant elephant butorder viii elephant elephant one genus twoewfoundland training sheep dog sheep dog sagacity aining sheep dog sheep dog sagacity sheep dog sheep dog sagacity sheep dog fidelity st bernarantelope gazelle sheep goat intelligence e goat intelligence sheep animals music order es destruction cattle sheep goats said immensegile climber terror goats sheep monkeys lesser animals b exceedingly destructive among sheep known kill fifty es thresholds doors sheep housed enters furiously neck jaws carries sheep mouth without letting touchouse never heard sheep dogs known take apetime dandie master sheep dog shepherd dog canis dometion early period sheep dog says colonel smith often drooping tips sheep dog confused dd coat well manners sheep dog sagacity sheep dog crs sheep dog sagacity sheep dog credited many storiesst bernard tracking men sheep become buried snow bitch whose feats taking sheep neighbouring farms thers whenever put lot sheep took pride leavlculation road lay sheep whole way master heart tated folded sheep moonlight selected numbsoon followed quitted sheep letting go hill ate keep master sheep smoking hanging ts exceedingly troubled sheep brought far homeed dog great wrath left sheep taking colley hex coast fine donkey remarkably docile andnight footprints donkey garden walks beds pl window distinctly saw master donkey reared hind legs unfasteampus order vi manatid sea cow order vii hoofed animals hobuffalo bull ox cow bull brahmin bulle brahmin bull ox cow pride cow biox cow pride cow bison hunting bise shrew run legs cow horse reposing grasng else thinking sir cow potatoes though purptato field seeing cow ran looked byre e would willingly given best cow save confess thl follow order vi sea cow sea cow aquatic vegetariaim order vi sea cow sea cow aquatic vegetarian lives onsupplies place horse cow sheep goat aliveontinent bull ox cow animals show much differencee male female bull cow bull often excited ungoveatre spanish bull fight cow hand displays gentsubdued offspring bull cow much amenable control anmuch useful servant man cow invaluable milk supplieafter panther jaguar killed cow torn condition evidently done battle cow secured wounds plasterhaving kept body cow day panther returnedhe former found dead close cow next morning pierced plain six months previously cow cow supplying enormous qu months previously cow cow supplying enormous quantities ox dead cow moreover get lymph used iinst smallpox quiet way cow sometimes shows sagacity mr bell g following illustration cow feeding tranquilly pase tame hares common rabbit order xi toothless animals rodents coney resembles rabbit size general form perhaps eyes full like rabbit hind legs long foreish mountain hare common rabbit best known irish oro secure attention common rabbit common rabbit found ovon common rabbit common rabbit found british islesat kangaroo size rabbit another called tree kangaro common porpoise common rabbit common rhea commo q quagga quail r rabbit raccoon raund occupied robust english sparrow sparrow declined give td robust english sparrow sparrow declined give nest ththe nest clay leaving sparrow perish garrison witnessed curious scene sparrow hawk alighted populous courty bore triumph sparrow hawk sparrowhawk measut another occasion found sparrow hawk deliberately standing verdpecker wryneck cuckoo cuckoo hedgespar wryneck cuckoo cuckoo hedgesparrow cuckoo hedgesparrow cuckoo thrush trogons link woodpecker cuckoo feeds caterpillars insehat eye follow cuckoo cuckoo always welcomed follow cuckoo cuckoo always welcomed england thuced bird habit cuckoo laying eggs nests us following show cuckoo hedgesparrow dr jenner dularis contained cuckoo three hedgesparrows eggs ohe nest contained young cuckoo one hedgesparrow nest wareat astonishment saw young cuckoo though lately hatched thes always found young cuckoo disposed act manner leisure saw young cuckoo frequently oust baby hedgespararrow manner described cuckoo feeds caterpillars insectse heard april june cuckoo thrush cuckoo ishe cuckoo thrush cuckoo scarcely amiable bird would acage short time young cuckoo could feed wasserved thrush fed cuckoo opening mouth sitting ation eating upon cuckoo descended attacked thrush witd continued till cuckoo full grown trogons crossbill crow cuckoo curlew cynlurusdog rook carrion crow jackdaw chough oubles crosses etc crow flies exceeded seventy miles raven rook carrion crow jackdaw chough nightingale caw crow magazine natural histnusual note resemblance crow domestic cock perfect furrows frequently like crow stealing planted maize indie family corvid crow family includes jays th often confused carrion crow found many parts europe andrticular differs carrion crow lives pairs diffend neck birds crow much completely covered rook croak crow moreover much harsher th needs similar check carrion crow carrion crow resembles raveck carrion crow carrion crow resembles raven appearance g scotch newspaper tells crow made attempt carry opair sparrowhawks bred old crow nest low beech selborneh carrier pigeon carrion crow cashmir goat cassocrocodile crossbill crow cuckoo curleworder vii birds prey eagle eagle shooting white birds prey eagle eagle shooting whiteheaded eaglagle shooting whiteheaded eagle vultures condor hallooed attack disabled eagle bird unable escape threw oted says account eagle queen swallow wagtaat give eagle whatever may said claimsd claims birds eagle traditionally king airumber species golden eagle spotted eagle imperial ewhich golden eagle spotted eagle imperial eagle whitehe spotted eagle imperial eagle whiteheaded sea eagle aerial eagle whiteheaded sea eagle among best known varieties best known varieties golden eagle belongs europe america e plovers c c though eagle often attacked children storermination attacking prey eagle shooting mr st john gives foad six yards sheep one eagle always followed second red many minutes saw eagle skimming low brow hiperfectly dead whiteheaded eagle whiteheaded bald eagle ided eagle whiteheaded bald eagle native north america andnd moment looks eagle ardour levelling nltation signal eagle launching air instaarial evolutions unencumbered eagle rapidly advances thon latter drops fish eagle poising moment ifid partake ferocity eagle filthiness vulture owl longeared owl great eagle owl american horned owl devours piecemeal great eagle owl measures two feet upwajackal may considered vulture quadruped kind pulently away woods vulture vultures sometimes eive natives griffin vulture europe turkey persia afr persia africa egyptian vulture nile country condontry condor american vulture best known varieties ththe eagle filthiness vulture two birds acting inhing surprising distance vulture descries prey ga following account black vulture america february st american sable american vulture anchovy angola ang snake black swan black vulture blacknecked swan blackx egyptian hare egyptian vulture eider duck eland yhound griffin vulture grivet grizzly bear errid vulpes vulgaris vulture w wagtailrrots intelligence parrot famous parrots grey famous parrots grey parrot parrot talk order iv piparrots grey parrot parrot talk order iv pigeons catoo distinguished true parrot crest species dilphurcrested cockatoo ground parrot macaw grey parrot theround parrot macaw grey parrot green parrot parrakeetsmacaw grey parrot green parrot parrakeets lovebirdsparrakeets lovebirds parrot intelligence many stories part bird ordinary parrot half dozen phrases xtraordinary intelligence teach parrot simple rejoinder ithem involves injustice parrot famous parrots basilius macedo induced parrot cast gloom guests treet piccadilly celebrated parrot colonel okelly singular ith wonderful exactness grey parrot said sold r apostles creed grey parrot grey parrot though less attra creed grey parrot grey parrot though less attractive colour th perhaps popular parrot family account superior aption performances grey parrot resided hampton court frtiful draws parrot talk deny parrot underf parrot talk deny parrot understanding says habit kissing parrot kissing wife visitors took notice parrot recommended salute ladyute lady house another parrot whose cage occupied window close ave words actions parrot frequently called ki aggravating use ever made parrot powers witnessed butame seagull mother carey chicken catching stormy petrel r breakfasttable eat eggs chicken drink tea coffee grea moments dead chicken disappeared lefcious room accompanied chicken sole surviving offspring aappeared ever mother carey chicken stormy petrel mother careyhe stormy petrel mother carey chicken small black bird well known e mother carey chicken mountain hare mousesouthamerican birds resembling pigeon size head sufficiently ish pouter iv dovecote pigeon swallow spot nun trumpeter passenger pigeon america nicobar pigeon ger pigeon america nicobar pigeon philippine islands grelippine islands greatcrowned pigeon new guinea hookbilled gw guinea hookbilled ground pigeon samoa important specieo tells us taurosthenes pigeon stained purple gave notice hands observed pigeon flying immediately false intelligence let pigeon free pursue course garse guides well known pigeon fancier interviewed writer wr st john says one pursued pigeon drawingroom window ely standing large pouter pigeon drawingroom floor plu african mouse african owl pigeon agouti aguara crane bandicoot barb pigeon barbary ape barbel scarnivora carp carrier pigeon carrion crow ouroucouli dove dovecot pigeon drill dromedary eatbilled rhea greatcrowned pigeon grebe green monkey honey bear hookbilled ground pigeon hoolock hornbill newt nicobar pigeon nightjar nightingale partridge passenger pigeon passeres patas p pied wagtail pig pigeon pike pine marswallow swallow pigeon swan swiftlcon sparrowhawk owl order viii wading birds enemies kestrel barn owl superstition effect ids bitter enemy owl sooner discovered retl day half mile owl length forced betake ltless similar depredations owl becomes turn tyrat note also known fern owl mr wood says may seebarb ii fantail african owl shortfaced tumbler indiae set enemies defiance owl great interest attaches owl owl great interest attaches owl singularity appearanc many varieties common barn owl longeared owl great eagl common barn owl longeared owl great eagle owl ameri longeared owl great eagle owl american horned owl st eagle owl american horned owl barn owl meed owl barn owl measures twelve inches lengtts bird mouse given owl bird seizes across back nd jerk sends mouse half owl throat tail remains st rolled owl smoking time beuse disappear altogether owl looks happy contented small bird presented owl tears devours piecemeal urs piecemeal great eagle owl measures two feet upwards wns african mouse african owl pigeon agouti aguara rican bull frog american horned owl american house wren ameri barbel sporting dog barn owl bat bay antelope lugo columb common barn owl common crane common duck neca zaarensis fennec fern owl ferret fieldmousepuffin order x ostrich ostrich young order x ostrich ostrich young rhea rds swim x struthiones ostrich emu etc etc order postriches order includes ostrich rhea cassowaries th cassowaries emus ostrich belongs africa australasia ahe wild bushman approaching ostrich varieties game saitating gait motions ostrich within range ieties game eggs ostrich also much prized nest k containing twelve fifteen ostrich eggshells emptithese fill water ostrich young ostrich shows ostrich young ostrich shows affection mance rode past place hen ostrich sitting nest rhea beautiful bird ostrich type belonging south america tralia cassowary resembles ostrich form large orygin osprey ostrich otarid'"
      ]
     },
     "execution_count": 150,
     "metadata": {},
     "output_type": "execute_result"
    }
   ],
   "source": [
    "df['input_con_pro'].sum()\n"
   ]
  },
  {
   "cell_type": "code",
   "execution_count": 151,
   "metadata": {},
   "outputs": [],
   "source": [
    "corpus = df['input_con_pro'].to_list()"
   ]
  },
  {
   "cell_type": "code",
   "execution_count": 152,
   "metadata": {
    "scrolled": true
   },
   "outputs": [
    {
     "name": "stdout",
     "output_type": "stream",
     "text": [
      "[['narrow', 'escape', 'animals', 'dog', 'kind', 'wolf', 'fox', 'arctic', 'fox', 'wild', 'dogs', 'dog', 'dog', 'understanding', 'th', 'wild', 'dogs', 'dog', 'dog', 'understanding', 'dog', 'sens', 'dog', 'understanding', 'dog', 'sense', 'locality', 'dog', 'friends', 'dog', 'sense', 'locality', 'dog', 'friendships', 'enmities', 'dogdog', 'friendships', 'enmities', 'dog', 'language', 'dog', 'intelligencities', 'dog', 'language', 'dog', 'intelligence', 'dogs', 'mistakes', 'hard', 'lot', 'newfoundland', 'dog', 'newfoundland', 'generosity', 'ndland', 'training', 'sheep', 'dog', 'sheep', 'dog', 'sagacity', 'g', 'sheep', 'dog', 'sheep', 'dog', 'sagacity', 'sheep', 'dog', 'fisheep', 'dog', 'sagacity', 'sheep', 'dog', 'fidelity', 'st', 'bernard', 'beagle', 'dalmatian', 'dog', 'turnspit', 'turnspitmastiff', 'protector', 'bull', 'dog', 'poodle', 'shoeblack', 'marmot', 'bobak', 'prairie', 'dog', 'chinchilla', 'porcuphe', 'tame', 'raven', 'raven', 'dog', 'rook', 'carrion', 'crowe', 'friendships', 'goose', 'dog', 'maternal', 'instinct', 'gos', 'sharp', 'bark', 'like', 'angry', 'dog', 'glides', 'deep', 'bass', 'roll', 'one', 'species', 'resembling', 'dog', 'sometimes', 'called', 'dogfaceout', 'breaking', 'days', 'dog', 'learned', 'lesson', 'kees', 'egg', 'often', 'dog', 'foiled', 'although', 'stroles', 'island', 'shared', 'cage', 'dog', 'became', 'greatly', 'attached', 'brown', 'respects', 'dog', 'denomination', 'wild', 'stat', 'leopard', 'well', 'cat', 'dog', 'two', 'suborders', 'lesh', 'blood', 'animals', 'dog', 'wolf', 'bear', 'sometimes', 'knoor', 'mutual', 'support', 'like', 'dog', 'kind', 'first', 'class'], ['ia', 'fissipedia', 'animals', 'cat', 'kind', 'lion', 'lion', 'c', 'serval', 'common', 'wild', 'cat', 'domestic', 'cat', 'cat', 'supersthe', 'common', 'wild', 'cat', 'domestic', 'cat', 'cat', 'superstitions', 'cat', 'wild', 'cat', 'domestic', 'cat', 'cat', 'superstitions', 'cat', 'huntec', 'cat', 'cat', 'superstitions', 'cat', 'hunter', 'cat', 'younons', 'cat', 'hunter', 'cat', 'young', 'cat', 'foster', 'cat', 'young', 'cat', 'foster', 'mother', 'cat', 'cat', 'foster', 'mother', 'cat', 'traveller', 'cat', 'spor', 'cat', 'traveller', 'cat', 'sportsman', 'cat', 'intell', 'cat', 'sportsman', 'cat', 'intelligence', 'lynx', 'thsome', 'species', 'much', 'resemble', 'cat', 'appearance', 'though', 'four', 'hands', 'u', 'licking', 'dressing', 'like', 'cat', 'operation', 'flexibilityhile', 'nothing', 'could', 'reconcile', 'cat', 'constantly', 'jumped', 'basays', 'size', 'shape', 'domestic', 'cat', 'head', 'ears', 'larger', 'anegs', 'tail', 'longer', 'cat', 'dr', 'sandwich', 'writing', 'one', 'houth', 'lapped', 'like', 'cat', 'first', 'mode', 'drinking', 'appeiger', 'leopard', 'well', 'cat', 'dog', 'two', 'suborders', 'intor', 'fissipedia', 'animals', 'cat', 'kind', 'animals', 'cat', 'kind', 'dimals', 'cat', 'kind', 'animals', 'cat', 'kind', 'distinguished', 'sharpips', 'ears', 'tufted', 'lastly', 'cat', 'wild', 'tame', 'varietnt', 'remember', 'belongs', 'cat', 'family', 'virtues', 'vicirtues', 'vices', 'naturally', 'cat', 'kind', 'lion', 'seldom', 'runs', 'lion', 'well', 'others', 'cat', 'tribe', 'takes', 'prey', 'night', 'andby', 'mouse', 'first', 'shake', 'cat', 'caused', 'sort', 'dreaminess', 'ina', 'siam', 'much', 'resembles', 'cat', 'almost', 'induce', 'us', 'consider'], ['w', 'order', 'vii', 'hoofed', 'animals', 'horse', 'arabian', 'horse', 'ho', 'animals', 'horse', 'arabian', 'horse', 'horse', 'affection', 'tse', 'arabian', 'horse', 'horse', 'affection', 'domestic', 'horsorse', 'affection', 'domestic', 'horse', 'structure', 'horse', 'estic', 'horse', 'structure', 'horse', 'horse', 'speed', 'h', 'structure', 'horse', 'horse', 'speed', 'horse', 'endurance', 'horse', 'speed', 'horse', 'endurance', 'horse', 'memo', 'horse', 'endurance', 'horse', 'memory', 'force', 'habit', 'habit', 'intelligence', 'horse', 'horseplay', 'horses', 'toe', 'man', 'ears', 'horse', 'combs', 'wattles', 'fowls', 'nt', 'one', 'actually', 'caught', 'horse', 'back', 'bivouacking', 'late', 'othe', 'third', 'day', 'afterwards', 'rode', 'horse', 'without', 'ill', 'effects', 'traves', 'us', 'run', 'fast', 'horse', 'gallop', 'observations', 'heould', 'run', 'legs', 'cow', 'horse', 'reposing', 'grass', 'causeat', 'moment', 'hunter', 'fired', 'horse', 'whose', 'bridle', 'round', 'arm', 'seless', 'gun', 'discharged', 'horse', 'running', 'man', 'beast', 'self', 'seized', 'leg', 'quitted', 'horse', 'turned', 'upon', 'dog', 'thhad', 'fired', 'tore', 'horse', 'ground', 'biting', 'sager', 'comrade', 'sprang', 'horse', 'attempted', 'shoot', 'leopardon', 'found', 'jaguar', 'feasting', 'upon', 'horse', 'killed', 'jaguar', 'fleh', 'whereupon', 'body', 'horse', 'dragged', 'within', 'musket', 'shot', 'aoached', 'seizing', 'body', 'horse', 'teeth', 'dragged', 'sixtyuching', 'opposite', 'side', 'horse', 'neck', 'always', 'found', 'although', 'would', 'allow', 'loose', 'horse', 'approach', 'even', 'ding', 'great', 'distance', 'white', 'horse', 'vale', 'accustomed', 'go', 'poac'], ['animals', 'cat', 'kind', 'lion', 'lion', 'character', 'atti', 'cat', 'kind', 'lion', 'lion', 'character', 'attitude', 'towards', 'better', 'part', 'valour', 'lion', 'strength', 'lion', 'affectir', 'lion', 'strength', 'lion', 'affection', 'lion', 'docili', 'lion', 'affection', 'lion', 'docility', 'story', 'androcy', 'story', 'androcles', 'lion', 'hunt', 'thrilling', 'experience', 'illing', 'experience', 'attacked', 'lion', 'night', 'surprise', 'lion', 'ou', 'lion', 'night', 'surprise', 'lion', 'outwitted', 'old', 'instincts', 'newatorial', 'regions', 'crested', 'lion', 'mount', 'atlas', 'two', 'fiercest', 'ngest', 'beasts', 'continent', 'lion', 'south', 'africa', 'compared', 'nd', 'perhaps', 'driven', 'away', 'lion', 'territory', 'king', 'umber', 'species', 'among', 'lion', 'tiger', 'leopard', 'welnnipedia', 'includes', 'seal', 'sea', 'lion', 'walrus', 'allies', 'subbles', 'farinaceous', 'food', 'lion', 'tiger', 'leopard', 'othekind', 'first', 'class', 'lion', 'distinguished', 'rest', 'bys', 'tiger', 'rather', 'longer', 'lion', 'tall', 'known', 'otherwise', 'couguar', 'american', 'lion', 'tawny', 'colour', 'ns', 'cruel', 'illustration', 'lion', 'lion', 'lion', 'known', 'thel', 'illustration', 'lion', 'lion', 'lion', 'known', 'king', 'bstration', 'lion', 'lion', 'lion', 'known', 'king', 'beasts', 'thoch', 'one', 'time', 'credited', 'lion', 'character', 'judging', 'lioion', 'character', 'judging', 'lion', 'character', 'important', 'remee', 'naturally', 'cat', 'kind', 'lion', 'seldom', 'runs', 'says', 'author', 'ing', 'exercise', 'lion', 'well', 'others', 'cat', 'tribeye', 'therefore', 'necessary', 'lion', 'perceive', 'prey', 'creeps'], ['orfields', 'london', 'illustration', 'tiger', 'hunting', 'preface', 'illustrations', 'arincts', 'new', 'opportunities', 'tiger', 'tiger', 'ravages', 'inpportunities', 'tiger', 'tiger', 'ravages', 'intrepid', 'hunter', 'men', 'ocelot', 'clouded', 'tiger', 'serval', 'common', 'wildmaller', 'bat', 'ferocity', 'tiger', 'finding', 'impossible', 'escapeecies', 'among', 'lion', 'tiger', 'leopard', 'well', 'catarinaceous', 'food', 'lion', 'tiger', 'leopard', 'animals', 'ofe', 'mane', 'second', 'tiger', 'rather', 'longer', 'lion', 'streaked', 'back', 'like', 'tiger', 'next', 'lynx', 'size', 'led', 'den', 'tiger', 'tiger', 'one', 'beautgain', 'den', 'tiger', 'tiger', 'one', 'beautiful', 'ao', 'induce', 'us', 'consider', 'latter', 'tiger', 'miniature', 'lurks', 'generally', 'neis', 'satiated', 'slaughter', 'tiger', 'said', 'prefer', 'human', 'fles', 'deer', 'greatest', 'ease', 'tiger', 'ornamented', 'long', 'streaks', 'acroally', 'china', 'colouring', 'tiger', 'says', 'rev', 'j', 'g', 'wood', 'ich', 'reside', 'stripes', 'tiger', 'skin', 'exactly', 'assimilate', 'tenemy', 'following', 'narrative', 'tiger', 'excursion', 'doongal', 'place', 'ravages', 'tiger', 'notorious', 'prepared', 'drawing', 'sword', 'slay', 'tiger', 'sprang', 'upon', 'pon', 'carried', 'hy', 'resting', 'tree', 'tiger', 'sprang', 'seized', 'woman', 'struggle', 'ensued', 'tiger', 'pulling', 'head', 'mahich', 'could', 'doubted', 'tiger', 'carried', 'woman', 'man', 'seemwas', 'bringing', 'home', 'bride', 'tiger', 'followed', 'kept', 'view', 'gth', 'shepherd', 'taken', 'young', 'tiger', 'followed', 'mother', 'year', 'old', 'captured', 'tiger', 'infant', 'found', 'pu'], ['als', 'music', 'order', 'viii', 'elephant', 'elephant', 'wild', 'elepha', 'order', 'viii', 'elephant', 'elephant', 'wild', 'elephant', 'elepephant', 'elephant', 'wild', 'elephant', 'elephant', 'herds', 'elephanhant', 'wild', 'elephant', 'elephant', 'herds', 'elephant', 'friendships', 'lephant', 'elephant', 'herds', 'elephant', 'friendships', 'sagacity', 'endships', 'sagacity', 'elephant', 'centenarian', 'elephant', 'f', 'elephant', 'centenarian', 'elephant', 'elephant', 'nurse', 'centenarian', 'elephant', 'elephant', 'nurse', 'intelligence', 'thurse', 'intelligence', 'elephant', 'order', 'ix', 'hyrax', 'conies', 'tortoise', 'turtle', 'elephant', 'tortoise', 'turtle', 'orh', 'dug', 'outside', 'even', 'wild', 'elephant', 'deem', 'prudent', 'cross', 'lieutenant', 'collet', 'elephant', 'received', 'shoulder', 'thehe', 'exertions', 'riders', 'elephant', 'shook', 'tiger', 'lieutena', 'missed', 'object', 'seized', 'elephant', 'hind', 'leg', 'recy', 'seal', 'sea', 'leopard', 'sea', 'elephant', 'bladdernose', 'hooded', 'seals', 'backs', 'males', 'sea', 'elephant', 'largest', 'seals', 'ionly', 'second', 'intelligence', 'elephant', 'many', 'proofs', 'could', 'given', 'oeen', 'regarded', 'link', 'elephant', 'rhinoceros', 'cle', 'classification', 'followed', 'elephant', 'forms', 'separate', 'order', 'tapire', 'animals', 'next', 'magnitude', 'elephant', 'feed', 'solely', 'grass', 'carrt', 'patience', 'distinguishes', 'elephant', 'paroxysms', 'rage', 'mr', 'animal', 'rhinoceros', 'elephant', 'powerful', 'beast', 'btreatment', 'though', 'doubt', 'elephant', 'proverbial', 'docilityest', 'music', 'order', 'viii', 'elephant', 'elephant', 'butorder', 'viii', 'elephant', 'elephant', 'one', 'genus', 'two'], ['ewfoundland', 'training', 'sheep', 'dog', 'sheep', 'dog', 'sagacity', 'aining', 'sheep', 'dog', 'sheep', 'dog', 'sagacity', 'sheep', 'dog', 'sheep', 'dog', 'sagacity', 'sheep', 'dog', 'fidelity', 'st', 'bernarantelope', 'gazelle', 'sheep', 'goat', 'intelligence', 'e', 'goat', 'intelligence', 'sheep', 'animals', 'music', 'order', 'es', 'destruction', 'cattle', 'sheep', 'goats', 'said', 'immensegile', 'climber', 'terror', 'goats', 'sheep', 'monkeys', 'lesser', 'animals', 'b', 'exceedingly', 'destructive', 'among', 'sheep', 'known', 'kill', 'fifty', 'es', 'thresholds', 'doors', 'sheep', 'housed', 'enters', 'furiously', 'neck', 'jaws', 'carries', 'sheep', 'mouth', 'without', 'letting', 'touchouse', 'never', 'heard', 'sheep', 'dogs', 'known', 'take', 'apetime', 'dandie', 'master', 'sheep', 'dog', 'shepherd', 'dog', 'canis', 'dometion', 'early', 'period', 'sheep', 'dog', 'says', 'colonel', 'smith', 'often', 'drooping', 'tips', 'sheep', 'dog', 'confused', 'dd', 'coat', 'well', 'manners', 'sheep', 'dog', 'sagacity', 'sheep', 'dog', 'crs', 'sheep', 'dog', 'sagacity', 'sheep', 'dog', 'credited', 'many', 'storiesst', 'bernard', 'tracking', 'men', 'sheep', 'become', 'buried', 'snow', 'bitch', 'whose', 'feats', 'taking', 'sheep', 'neighbouring', 'farms', 'thers', 'whenever', 'put', 'lot', 'sheep', 'took', 'pride', 'leavlculation', 'road', 'lay', 'sheep', 'whole', 'way', 'master', 'heart', 'tated', 'folded', 'sheep', 'moonlight', 'selected', 'numbsoon', 'followed', 'quitted', 'sheep', 'letting', 'go', 'hill', 'ate', 'keep', 'master', 'sheep', 'smoking', 'hanging', 'ts', 'exceedingly', 'troubled', 'sheep', 'brought', 'far', 'homeed', 'dog', 'great', 'wrath', 'left', 'sheep', 'taking', 'colley', 'h'], ['ex', 'coast', 'fine', 'donkey', 'remarkably', 'docile', 'andnight', 'footprints', 'donkey', 'garden', 'walks', 'beds', 'pl', 'window', 'distinctly', 'saw', 'master', 'donkey', 'reared', 'hind', 'legs', 'unfaste'], ['ampus', 'order', 'vi', 'manatid', 'sea', 'cow', 'order', 'vii', 'hoofed', 'animals', 'hobuffalo', 'bull', 'ox', 'cow', 'bull', 'brahmin', 'bulle', 'brahmin', 'bull', 'ox', 'cow', 'pride', 'cow', 'biox', 'cow', 'pride', 'cow', 'bison', 'hunting', 'bise', 'shrew', 'run', 'legs', 'cow', 'horse', 'reposing', 'grasng', 'else', 'thinking', 'sir', 'cow', 'potatoes', 'though', 'purptato', 'field', 'seeing', 'cow', 'ran', 'looked', 'byre', 'e', 'would', 'willingly', 'given', 'best', 'cow', 'save', 'confess', 'thl', 'follow', 'order', 'vi', 'sea', 'cow', 'sea', 'cow', 'aquatic', 'vegetariaim', 'order', 'vi', 'sea', 'cow', 'sea', 'cow', 'aquatic', 'vegetarian', 'lives', 'onsupplies', 'place', 'horse', 'cow', 'sheep', 'goat', 'aliveontinent', 'bull', 'ox', 'cow', 'animals', 'show', 'much', 'differencee', 'male', 'female', 'bull', 'cow', 'bull', 'often', 'excited', 'ungoveatre', 'spanish', 'bull', 'fight', 'cow', 'hand', 'displays', 'gentsubdued', 'offspring', 'bull', 'cow', 'much', 'amenable', 'control', 'anmuch', 'useful', 'servant', 'man', 'cow', 'invaluable', 'milk', 'supplieafter', 'panther', 'jaguar', 'killed', 'cow', 'torn', 'condition', 'evidently', 'done', 'battle', 'cow', 'secured', 'wounds', 'plasterhaving', 'kept', 'body', 'cow', 'day', 'panther', 'returnedhe', 'former', 'found', 'dead', 'close', 'cow', 'next', 'morning', 'pierced', 'plain', 'six', 'months', 'previously', 'cow', 'cow', 'supplying', 'enormous', 'qu', 'months', 'previously', 'cow', 'cow', 'supplying', 'enormous', 'quantities', 'ox', 'dead', 'cow', 'moreover', 'get', 'lymph', 'used', 'iinst', 'smallpox', 'quiet', 'way', 'cow', 'sometimes', 'shows', 'sagacity', 'mr', 'bell', 'g', 'following', 'illustration', 'cow', 'feeding', 'tranquilly', 'pas'], ['e', 'tame', 'hares', 'common', 'rabbit', 'order', 'xi', 'toothless', 'animals', 'rodents', 'coney', 'resembles', 'rabbit', 'size', 'general', 'form', 'perhaps', 'eyes', 'full', 'like', 'rabbit', 'hind', 'legs', 'long', 'foreish', 'mountain', 'hare', 'common', 'rabbit', 'best', 'known', 'irish', 'oro', 'secure', 'attention', 'common', 'rabbit', 'common', 'rabbit', 'found', 'ovon', 'common', 'rabbit', 'common', 'rabbit', 'found', 'british', 'islesat', 'kangaroo', 'size', 'rabbit', 'another', 'called', 'tree', 'kangaro', 'common', 'porpoise', 'common', 'rabbit', 'common', 'rhea', 'commo', 'q', 'quagga', 'quail', 'r', 'rabbit', 'raccoon', 'ra'], ['und', 'occupied', 'robust', 'english', 'sparrow', 'sparrow', 'declined', 'give', 'td', 'robust', 'english', 'sparrow', 'sparrow', 'declined', 'give', 'nest', 'ththe', 'nest', 'clay', 'leaving', 'sparrow', 'perish', 'garrison', 'witnessed', 'curious', 'scene', 'sparrow', 'hawk', 'alighted', 'populous', 'courty', 'bore', 'triumph', 'sparrow', 'hawk', 'sparrowhawk', 'measut', 'another', 'occasion', 'found', 'sparrow', 'hawk', 'deliberately', 'standing', 'ver'], ['dpecker', 'wryneck', 'cuckoo', 'cuckoo', 'hedgespar', 'wryneck', 'cuckoo', 'cuckoo', 'hedgesparrow', 'cuckoo', 'hedgesparrow', 'cuckoo', 'thrush', 'trogons', 'link', 'woodpecker', 'cuckoo', 'feeds', 'caterpillars', 'insehat', 'eye', 'follow', 'cuckoo', 'cuckoo', 'always', 'welcomed', 'follow', 'cuckoo', 'cuckoo', 'always', 'welcomed', 'england', 'thuced', 'bird', 'habit', 'cuckoo', 'laying', 'eggs', 'nests', 'us', 'following', 'show', 'cuckoo', 'hedgesparrow', 'dr', 'jenner', 'dularis', 'contained', 'cuckoo', 'three', 'hedgesparrows', 'eggs', 'ohe', 'nest', 'contained', 'young', 'cuckoo', 'one', 'hedgesparrow', 'nest', 'wareat', 'astonishment', 'saw', 'young', 'cuckoo', 'though', 'lately', 'hatched', 'thes', 'always', 'found', 'young', 'cuckoo', 'disposed', 'act', 'manner', 'leisure', 'saw', 'young', 'cuckoo', 'frequently', 'oust', 'baby', 'hedgespararrow', 'manner', 'described', 'cuckoo', 'feeds', 'caterpillars', 'insectse', 'heard', 'april', 'june', 'cuckoo', 'thrush', 'cuckoo', 'ishe', 'cuckoo', 'thrush', 'cuckoo', 'scarcely', 'amiable', 'bird', 'would', 'acage', 'short', 'time', 'young', 'cuckoo', 'could', 'feed', 'wasserved', 'thrush', 'fed', 'cuckoo', 'opening', 'mouth', 'sitting', 'ation', 'eating', 'upon', 'cuckoo', 'descended', 'attacked', 'thrush', 'witd', 'continued', 'till', 'cuckoo', 'full', 'grown', 'trogons', 'crossbill', 'crow', 'cuckoo', 'curlew', 'cynlurus'], ['dog', 'rook', 'carrion', 'crow', 'jackdaw', 'chough', 'oubles', 'crosses', 'etc', 'crow', 'flies', 'exceeded', 'seventy', 'miles', 'raven', 'rook', 'carrion', 'crow', 'jackdaw', 'chough', 'nightingale', 'caw', 'crow', 'magazine', 'natural', 'histnusual', 'note', 'resemblance', 'crow', 'domestic', 'cock', 'perfect', 'furrows', 'frequently', 'like', 'crow', 'stealing', 'planted', 'maize', 'indie', 'family', 'corvid', 'crow', 'family', 'includes', 'jays', 'th', 'often', 'confused', 'carrion', 'crow', 'found', 'many', 'parts', 'europe', 'andrticular', 'differs', 'carrion', 'crow', 'lives', 'pairs', 'diffend', 'neck', 'birds', 'crow', 'much', 'completely', 'covered', 'rook', 'croak', 'crow', 'moreover', 'much', 'harsher', 'th', 'needs', 'similar', 'check', 'carrion', 'crow', 'carrion', 'crow', 'resembles', 'raveck', 'carrion', 'crow', 'carrion', 'crow', 'resembles', 'raven', 'appearance', 'g', 'scotch', 'newspaper', 'tells', 'crow', 'made', 'attempt', 'carry', 'opair', 'sparrowhawks', 'bred', 'old', 'crow', 'nest', 'low', 'beech', 'selborneh', 'carrier', 'pigeon', 'carrion', 'crow', 'cashmir', 'goat', 'cassocrocodile', 'crossbill', 'crow', 'cuckoo', 'curlew'], ['order', 'vii', 'birds', 'prey', 'eagle', 'eagle', 'shooting', 'white', 'birds', 'prey', 'eagle', 'eagle', 'shooting', 'whiteheaded', 'eaglagle', 'shooting', 'whiteheaded', 'eagle', 'vultures', 'condor', 'hallooed', 'attack', 'disabled', 'eagle', 'bird', 'unable', 'escape', 'threw', 'oted', 'says', 'account', 'eagle', 'queen', 'swallow', 'wagtaat', 'give', 'eagle', 'whatever', 'may', 'said', 'claimsd', 'claims', 'birds', 'eagle', 'traditionally', 'king', 'airumber', 'species', 'golden', 'eagle', 'spotted', 'eagle', 'imperial', 'ewhich', 'golden', 'eagle', 'spotted', 'eagle', 'imperial', 'eagle', 'whitehe', 'spotted', 'eagle', 'imperial', 'eagle', 'whiteheaded', 'sea', 'eagle', 'aerial', 'eagle', 'whiteheaded', 'sea', 'eagle', 'among', 'best', 'known', 'varieties', 'best', 'known', 'varieties', 'golden', 'eagle', 'belongs', 'europe', 'america', 'e', 'plovers', 'c', 'c', 'though', 'eagle', 'often', 'attacked', 'children', 'storermination', 'attacking', 'prey', 'eagle', 'shooting', 'mr', 'st', 'john', 'gives', 'foad', 'six', 'yards', 'sheep', 'one', 'eagle', 'always', 'followed', 'second', 'red', 'many', 'minutes', 'saw', 'eagle', 'skimming', 'low', 'brow', 'hiperfectly', 'dead', 'whiteheaded', 'eagle', 'whiteheaded', 'bald', 'eagle', 'ided', 'eagle', 'whiteheaded', 'bald', 'eagle', 'native', 'north', 'america', 'andnd', 'moment', 'looks', 'eagle', 'ardour', 'levelling', 'nltation', 'signal', 'eagle', 'launching', 'air', 'instaarial', 'evolutions', 'unencumbered', 'eagle', 'rapidly', 'advances', 'thon', 'latter', 'drops', 'fish', 'eagle', 'poising', 'moment', 'ifid', 'partake', 'ferocity', 'eagle', 'filthiness', 'vulture', 'owl', 'longeared', 'owl', 'great', 'eagle', 'owl', 'american', 'horned', 'owl', 'devours', 'piecemeal', 'great', 'eagle', 'owl', 'measures', 'two', 'feet', 'upwa'], ['jackal', 'may', 'considered', 'vulture', 'quadruped', 'kind', 'pulently', 'away', 'woods', 'vulture', 'vultures', 'sometimes', 'eive', 'natives', 'griffin', 'vulture', 'europe', 'turkey', 'persia', 'afr', 'persia', 'africa', 'egyptian', 'vulture', 'nile', 'country', 'condontry', 'condor', 'american', 'vulture', 'best', 'known', 'varieties', 'ththe', 'eagle', 'filthiness', 'vulture', 'two', 'birds', 'acting', 'inhing', 'surprising', 'distance', 'vulture', 'descries', 'prey', 'ga', 'following', 'account', 'black', 'vulture', 'america', 'february', 'st', 'american', 'sable', 'american', 'vulture', 'anchovy', 'angola', 'ang', 'snake', 'black', 'swan', 'black', 'vulture', 'blacknecked', 'swan', 'blackx', 'egyptian', 'hare', 'egyptian', 'vulture', 'eider', 'duck', 'eland', 'yhound', 'griffin', 'vulture', 'grivet', 'grizzly', 'bear', 'errid', 'vulpes', 'vulgaris', 'vulture', 'w', 'wagtail'], ['rrots', 'intelligence', 'parrot', 'famous', 'parrots', 'grey', 'famous', 'parrots', 'grey', 'parrot', 'parrot', 'talk', 'order', 'iv', 'piparrots', 'grey', 'parrot', 'parrot', 'talk', 'order', 'iv', 'pigeons', 'catoo', 'distinguished', 'true', 'parrot', 'crest', 'species', 'dilphurcrested', 'cockatoo', 'ground', 'parrot', 'macaw', 'grey', 'parrot', 'theround', 'parrot', 'macaw', 'grey', 'parrot', 'green', 'parrot', 'parrakeetsmacaw', 'grey', 'parrot', 'green', 'parrot', 'parrakeets', 'lovebirdsparrakeets', 'lovebirds', 'parrot', 'intelligence', 'many', 'stories', 'part', 'bird', 'ordinary', 'parrot', 'half', 'dozen', 'phrases', 'xtraordinary', 'intelligence', 'teach', 'parrot', 'simple', 'rejoinder', 'ithem', 'involves', 'injustice', 'parrot', 'famous', 'parrots', 'basilius', 'macedo', 'induced', 'parrot', 'cast', 'gloom', 'guests', 'treet', 'piccadilly', 'celebrated', 'parrot', 'colonel', 'okelly', 'singular', 'ith', 'wonderful', 'exactness', 'grey', 'parrot', 'said', 'sold', 'r', 'apostles', 'creed', 'grey', 'parrot', 'grey', 'parrot', 'though', 'less', 'attra', 'creed', 'grey', 'parrot', 'grey', 'parrot', 'though', 'less', 'attractive', 'colour', 'th', 'perhaps', 'popular', 'parrot', 'family', 'account', 'superior', 'aption', 'performances', 'grey', 'parrot', 'resided', 'hampton', 'court', 'frtiful', 'draws', 'parrot', 'talk', 'deny', 'parrot', 'underf', 'parrot', 'talk', 'deny', 'parrot', 'understanding', 'says', 'habit', 'kissing', 'parrot', 'kissing', 'wife', 'visitors', 'took', 'notice', 'parrot', 'recommended', 'salute', 'ladyute', 'lady', 'house', 'another', 'parrot', 'whose', 'cage', 'occupied', 'window', 'close', 'ave', 'words', 'actions', 'parrot', 'frequently', 'called', 'ki', 'aggravating', 'use', 'ever', 'made', 'parrot', 'powers', 'witnessed', 'bu'], ['tame', 'seagull', 'mother', 'carey', 'chicken', 'catching', 'stormy', 'petrel', 'r', 'breakfasttable', 'eat', 'eggs', 'chicken', 'drink', 'tea', 'coffee', 'grea', 'moments', 'dead', 'chicken', 'disappeared', 'lefcious', 'room', 'accompanied', 'chicken', 'sole', 'surviving', 'offspring', 'aappeared', 'ever', 'mother', 'carey', 'chicken', 'stormy', 'petrel', 'mother', 'careyhe', 'stormy', 'petrel', 'mother', 'carey', 'chicken', 'small', 'black', 'bird', 'well', 'known', 'e', 'mother', 'carey', 'chicken', 'mountain', 'hare', 'mouse'], ['southamerican', 'birds', 'resembling', 'pigeon', 'size', 'head', 'sufficiently', 'ish', 'pouter', 'iv', 'dovecote', 'pigeon', 'swallow', 'spot', 'nun', 'trumpeter', 'passenger', 'pigeon', 'america', 'nicobar', 'pigeon', 'ger', 'pigeon', 'america', 'nicobar', 'pigeon', 'philippine', 'islands', 'grelippine', 'islands', 'greatcrowned', 'pigeon', 'new', 'guinea', 'hookbilled', 'gw', 'guinea', 'hookbilled', 'ground', 'pigeon', 'samoa', 'important', 'specieo', 'tells', 'us', 'taurosthenes', 'pigeon', 'stained', 'purple', 'gave', 'notice', 'hands', 'observed', 'pigeon', 'flying', 'immediately', 'false', 'intelligence', 'let', 'pigeon', 'free', 'pursue', 'course', 'garse', 'guides', 'well', 'known', 'pigeon', 'fancier', 'interviewed', 'writer', 'wr', 'st', 'john', 'says', 'one', 'pursued', 'pigeon', 'drawingroom', 'window', 'ely', 'standing', 'large', 'pouter', 'pigeon', 'drawingroom', 'floor', 'plu', 'african', 'mouse', 'african', 'owl', 'pigeon', 'agouti', 'aguara', 'crane', 'bandicoot', 'barb', 'pigeon', 'barbary', 'ape', 'barbel', 'scarnivora', 'carp', 'carrier', 'pigeon', 'carrion', 'crow', 'ouroucouli', 'dove', 'dovecot', 'pigeon', 'drill', 'dromedary', 'eatbilled', 'rhea', 'greatcrowned', 'pigeon', 'grebe', 'green', 'monkey', 'honey', 'bear', 'hookbilled', 'ground', 'pigeon', 'hoolock', 'hornbill', 'newt', 'nicobar', 'pigeon', 'nightjar', 'nightingale', 'partridge', 'passenger', 'pigeon', 'passeres', 'patas', 'p', 'pied', 'wagtail', 'pig', 'pigeon', 'pike', 'pine', 'marswallow', 'swallow', 'pigeon', 'swan', 'swift'], ['lcon', 'sparrowhawk', 'owl', 'order', 'viii', 'wading', 'birds', 'enemies', 'kestrel', 'barn', 'owl', 'superstition', 'effect', 'ids', 'bitter', 'enemy', 'owl', 'sooner', 'discovered', 'retl', 'day', 'half', 'mile', 'owl', 'length', 'forced', 'betake', 'ltless', 'similar', 'depredations', 'owl', 'becomes', 'turn', 'tyrat', 'note', 'also', 'known', 'fern', 'owl', 'mr', 'wood', 'says', 'may', 'seebarb', 'ii', 'fantail', 'african', 'owl', 'shortfaced', 'tumbler', 'indiae', 'set', 'enemies', 'defiance', 'owl', 'great', 'interest', 'attaches', 'owl', 'owl', 'great', 'interest', 'attaches', 'owl', 'singularity', 'appearanc', 'many', 'varieties', 'common', 'barn', 'owl', 'longeared', 'owl', 'great', 'eagl', 'common', 'barn', 'owl', 'longeared', 'owl', 'great', 'eagle', 'owl', 'ameri', 'longeared', 'owl', 'great', 'eagle', 'owl', 'american', 'horned', 'owl', 'st', 'eagle', 'owl', 'american', 'horned', 'owl', 'barn', 'owl', 'meed', 'owl', 'barn', 'owl', 'measures', 'twelve', 'inches', 'lengtts', 'bird', 'mouse', 'given', 'owl', 'bird', 'seizes', 'across', 'back', 'nd', 'jerk', 'sends', 'mouse', 'half', 'owl', 'throat', 'tail', 'remains', 'st', 'rolled', 'owl', 'smoking', 'time', 'beuse', 'disappear', 'altogether', 'owl', 'looks', 'happy', 'contented', 'small', 'bird', 'presented', 'owl', 'tears', 'devours', 'piecemeal', 'urs', 'piecemeal', 'great', 'eagle', 'owl', 'measures', 'two', 'feet', 'upwards', 'wns', 'african', 'mouse', 'african', 'owl', 'pigeon', 'agouti', 'aguara', 'rican', 'bull', 'frog', 'american', 'horned', 'owl', 'american', 'house', 'wren', 'ameri', 'barbel', 'sporting', 'dog', 'barn', 'owl', 'bat', 'bay', 'antelope', 'lugo', 'columb', 'common', 'barn', 'owl', 'common', 'crane', 'common', 'duck', 'neca', 'zaarensis', 'fennec', 'fern', 'owl', 'ferret', 'fieldmouse'], ['puffin', 'order', 'x', 'ostrich', 'ostrich', 'young', 'order', 'x', 'ostrich', 'ostrich', 'young', 'rhea', 'rds', 'swim', 'x', 'struthiones', 'ostrich', 'emu', 'etc', 'etc', 'order', 'postriches', 'order', 'includes', 'ostrich', 'rhea', 'cassowaries', 'th', 'cassowaries', 'emus', 'ostrich', 'belongs', 'africa', 'australasia', 'ahe', 'wild', 'bushman', 'approaching', 'ostrich', 'varieties', 'game', 'saitating', 'gait', 'motions', 'ostrich', 'within', 'range', 'ieties', 'game', 'eggs', 'ostrich', 'also', 'much', 'prized', 'nest', 'k', 'containing', 'twelve', 'fifteen', 'ostrich', 'eggshells', 'emptithese', 'fill', 'water', 'ostrich', 'young', 'ostrich', 'shows', 'ostrich', 'young', 'ostrich', 'shows', 'affection', 'mance', 'rode', 'past', 'place', 'hen', 'ostrich', 'sitting', 'nest', 'rhea', 'beautiful', 'bird', 'ostrich', 'type', 'belonging', 'south', 'america', 'tralia', 'cassowary', 'resembles', 'ostrich', 'form', 'large', 'orygin', 'osprey', 'ostrich', 'otarid']]\n"
     ]
    }
   ],
   "source": [
    "from nltk.tokenize import word_tokenize\n",
    "tokenized_sents = [word_tokenize(i) for i in df['input_con_pro']]\n",
    "print(tokenized_sents)"
   ]
  },
  {
   "cell_type": "code",
   "execution_count": 153,
   "metadata": {},
   "outputs": [
    {
     "name": "stdout",
     "output_type": "stream",
     "text": [
      "['narrow', 'escape', 'animals', 'dog', 'kind', 'wolf', 'fox', 'arctic', 'fox', 'wild', 'dogs', 'dog', 'dog', 'understanding', 'th', 'wild', 'dogs', 'dog', 'dog', 'understanding', 'dog', 'sens', 'dog', 'understanding', 'dog', 'sense', 'locality', 'dog', 'friends', 'dog', 'sense', 'locality', 'dog', 'friendships', 'enmities', 'dogdog', 'friendships', 'enmities', 'dog', 'language', 'dog', 'intelligencities', 'dog', 'language', 'dog', 'intelligence', 'dogs', 'mistakes', 'hard', 'lot', 'newfoundland', 'dog', 'newfoundland', 'generosity', 'ndland', 'training', 'sheep', 'dog', 'sheep', 'dog', 'sagacity', 'g', 'sheep', 'dog', 'sheep', 'dog', 'sagacity', 'sheep', 'dog', 'fisheep', 'dog', 'sagacity', 'sheep', 'dog', 'fidelity', 'st', 'bernard', 'beagle', 'dalmatian', 'dog', 'turnspit', 'turnspitmastiff', 'protector', 'bull', 'dog', 'poodle', 'shoeblack', 'marmot', 'bobak', 'prairie', 'dog', 'chinchilla', 'porcuphe', 'tame', 'raven', 'raven', 'dog', 'rook', 'carrion', 'crowe', 'friendships', 'goose', 'dog', 'maternal', 'instinct', 'gos', 'sharp', 'bark', 'like', 'angry', 'dog', 'glides', 'deep', 'bass', 'roll', 'one', 'species', 'resembling', 'dog', 'sometimes', 'called', 'dogfaceout', 'breaking', 'days', 'dog', 'learned', 'lesson', 'kees', 'egg', 'often', 'dog', 'foiled', 'although', 'stroles', 'island', 'shared', 'cage', 'dog', 'became', 'greatly', 'attached', 'brown', 'respects', 'dog', 'denomination', 'wild', 'stat', 'leopard', 'well', 'cat', 'dog', 'two', 'suborders', 'lesh', 'blood', 'animals', 'dog', 'wolf', 'bear', 'sometimes', 'knoor', 'mutual', 'support', 'like', 'dog', 'kind', 'first', 'class', 'ia', 'fissipedia', 'animals', 'cat', 'kind', 'lion', 'lion', 'c', 'serval', 'common', 'wild', 'cat', 'domestic', 'cat', 'cat', 'supersthe', 'common', 'wild', 'cat', 'domestic', 'cat', 'cat', 'superstitions', 'cat', 'wild', 'cat', 'domestic', 'cat', 'cat', 'superstitions', 'cat', 'huntec', 'cat', 'cat', 'superstitions', 'cat', 'hunter', 'cat', 'younons', 'cat', 'hunter', 'cat', 'young', 'cat', 'foster', 'cat', 'young', 'cat', 'foster', 'mother', 'cat', 'cat', 'foster', 'mother', 'cat', 'traveller', 'cat', 'spor', 'cat', 'traveller', 'cat', 'sportsman', 'cat', 'intell', 'cat', 'sportsman', 'cat', 'intelligence', 'lynx', 'thsome', 'species', 'much', 'resemble', 'cat', 'appearance', 'though', 'four', 'hands', 'u', 'licking', 'dressing', 'like', 'cat', 'operation', 'flexibilityhile', 'nothing', 'could', 'reconcile', 'cat', 'constantly', 'jumped', 'basays', 'size', 'shape', 'domestic', 'cat', 'head', 'ears', 'larger', 'anegs', 'tail', 'longer', 'cat', 'dr', 'sandwich', 'writing', 'one', 'houth', 'lapped', 'like', 'cat', 'first', 'mode', 'drinking', 'appeiger', 'leopard', 'well', 'cat', 'dog', 'two', 'suborders', 'intor', 'fissipedia', 'animals', 'cat', 'kind', 'animals', 'cat', 'kind', 'dimals', 'cat', 'kind', 'animals', 'cat', 'kind', 'distinguished', 'sharpips', 'ears', 'tufted', 'lastly', 'cat', 'wild', 'tame', 'varietnt', 'remember', 'belongs', 'cat', 'family', 'virtues', 'vicirtues', 'vices', 'naturally', 'cat', 'kind', 'lion', 'seldom', 'runs', 'lion', 'well', 'others', 'cat', 'tribe', 'takes', 'prey', 'night', 'andby', 'mouse', 'first', 'shake', 'cat', 'caused', 'sort', 'dreaminess', 'ina', 'siam', 'much', 'resembles', 'cat', 'almost', 'induce', 'us', 'consider', 'w', 'order', 'vii', 'hoofed', 'animals', 'horse', 'arabian', 'horse', 'ho', 'animals', 'horse', 'arabian', 'horse', 'horse', 'affection', 'tse', 'arabian', 'horse', 'horse', 'affection', 'domestic', 'horsorse', 'affection', 'domestic', 'horse', 'structure', 'horse', 'estic', 'horse', 'structure', 'horse', 'horse', 'speed', 'h', 'structure', 'horse', 'horse', 'speed', 'horse', 'endurance', 'horse', 'speed', 'horse', 'endurance', 'horse', 'memo', 'horse', 'endurance', 'horse', 'memory', 'force', 'habit', 'habit', 'intelligence', 'horse', 'horseplay', 'horses', 'toe', 'man', 'ears', 'horse', 'combs', 'wattles', 'fowls', 'nt', 'one', 'actually', 'caught', 'horse', 'back', 'bivouacking', 'late', 'othe', 'third', 'day', 'afterwards', 'rode', 'horse', 'without', 'ill', 'effects', 'traves', 'us', 'run', 'fast', 'horse', 'gallop', 'observations', 'heould', 'run', 'legs', 'cow', 'horse', 'reposing', 'grass', 'causeat', 'moment', 'hunter', 'fired', 'horse', 'whose', 'bridle', 'round', 'arm', 'seless', 'gun', 'discharged', 'horse', 'running', 'man', 'beast', 'self', 'seized', 'leg', 'quitted', 'horse', 'turned', 'upon', 'dog', 'thhad', 'fired', 'tore', 'horse', 'ground', 'biting', 'sager', 'comrade', 'sprang', 'horse', 'attempted', 'shoot', 'leopardon', 'found', 'jaguar', 'feasting', 'upon', 'horse', 'killed', 'jaguar', 'fleh', 'whereupon', 'body', 'horse', 'dragged', 'within', 'musket', 'shot', 'aoached', 'seizing', 'body', 'horse', 'teeth', 'dragged', 'sixtyuching', 'opposite', 'side', 'horse', 'neck', 'always', 'found', 'although', 'would', 'allow', 'loose', 'horse', 'approach', 'even', 'ding', 'great', 'distance', 'white', 'horse', 'vale', 'accustomed', 'go', 'poac', 'animals', 'cat', 'kind', 'lion', 'lion', 'character', 'atti', 'cat', 'kind', 'lion', 'lion', 'character', 'attitude', 'towards', 'better', 'part', 'valour', 'lion', 'strength', 'lion', 'affectir', 'lion', 'strength', 'lion', 'affection', 'lion', 'docili', 'lion', 'affection', 'lion', 'docility', 'story', 'androcy', 'story', 'androcles', 'lion', 'hunt', 'thrilling', 'experience', 'illing', 'experience', 'attacked', 'lion', 'night', 'surprise', 'lion', 'ou', 'lion', 'night', 'surprise', 'lion', 'outwitted', 'old', 'instincts', 'newatorial', 'regions', 'crested', 'lion', 'mount', 'atlas', 'two', 'fiercest', 'ngest', 'beasts', 'continent', 'lion', 'south', 'africa', 'compared', 'nd', 'perhaps', 'driven', 'away', 'lion', 'territory', 'king', 'umber', 'species', 'among', 'lion', 'tiger', 'leopard', 'welnnipedia', 'includes', 'seal', 'sea', 'lion', 'walrus', 'allies', 'subbles', 'farinaceous', 'food', 'lion', 'tiger', 'leopard', 'othekind', 'first', 'class', 'lion', 'distinguished', 'rest', 'bys', 'tiger', 'rather', 'longer', 'lion', 'tall', 'known', 'otherwise', 'couguar', 'american', 'lion', 'tawny', 'colour', 'ns', 'cruel', 'illustration', 'lion', 'lion', 'lion', 'known', 'thel', 'illustration', 'lion', 'lion', 'lion', 'known', 'king', 'bstration', 'lion', 'lion', 'lion', 'known', 'king', 'beasts', 'thoch', 'one', 'time', 'credited', 'lion', 'character', 'judging', 'lioion', 'character', 'judging', 'lion', 'character', 'important', 'remee', 'naturally', 'cat', 'kind', 'lion', 'seldom', 'runs', 'says', 'author', 'ing', 'exercise', 'lion', 'well', 'others', 'cat', 'tribeye', 'therefore', 'necessary', 'lion', 'perceive', 'prey', 'creeps', 'orfields', 'london', 'illustration', 'tiger', 'hunting', 'preface', 'illustrations', 'arincts', 'new', 'opportunities', 'tiger', 'tiger', 'ravages', 'inpportunities', 'tiger', 'tiger', 'ravages', 'intrepid', 'hunter', 'men', 'ocelot', 'clouded', 'tiger', 'serval', 'common', 'wildmaller', 'bat', 'ferocity', 'tiger', 'finding', 'impossible', 'escapeecies', 'among', 'lion', 'tiger', 'leopard', 'well', 'catarinaceous', 'food', 'lion', 'tiger', 'leopard', 'animals', 'ofe', 'mane', 'second', 'tiger', 'rather', 'longer', 'lion', 'streaked', 'back', 'like', 'tiger', 'next', 'lynx', 'size', 'led', 'den', 'tiger', 'tiger', 'one', 'beautgain', 'den', 'tiger', 'tiger', 'one', 'beautiful', 'ao', 'induce', 'us', 'consider', 'latter', 'tiger', 'miniature', 'lurks', 'generally', 'neis', 'satiated', 'slaughter', 'tiger', 'said', 'prefer', 'human', 'fles', 'deer', 'greatest', 'ease', 'tiger', 'ornamented', 'long', 'streaks', 'acroally', 'china', 'colouring', 'tiger', 'says', 'rev', 'j', 'g', 'wood', 'ich', 'reside', 'stripes', 'tiger', 'skin', 'exactly', 'assimilate', 'tenemy', 'following', 'narrative', 'tiger', 'excursion', 'doongal', 'place', 'ravages', 'tiger', 'notorious', 'prepared', 'drawing', 'sword', 'slay', 'tiger', 'sprang', 'upon', 'pon', 'carried', 'hy', 'resting', 'tree', 'tiger', 'sprang', 'seized', 'woman', 'struggle', 'ensued', 'tiger', 'pulling', 'head', 'mahich', 'could', 'doubted', 'tiger', 'carried', 'woman', 'man', 'seemwas', 'bringing', 'home', 'bride', 'tiger', 'followed', 'kept', 'view', 'gth', 'shepherd', 'taken', 'young', 'tiger', 'followed', 'mother', 'year', 'old', 'captured', 'tiger', 'infant', 'found', 'pu', 'als', 'music', 'order', 'viii', 'elephant', 'elephant', 'wild', 'elepha', 'order', 'viii', 'elephant', 'elephant', 'wild', 'elephant', 'elepephant', 'elephant', 'wild', 'elephant', 'elephant', 'herds', 'elephanhant', 'wild', 'elephant', 'elephant', 'herds', 'elephant', 'friendships', 'lephant', 'elephant', 'herds', 'elephant', 'friendships', 'sagacity', 'endships', 'sagacity', 'elephant', 'centenarian', 'elephant', 'f', 'elephant', 'centenarian', 'elephant', 'elephant', 'nurse', 'centenarian', 'elephant', 'elephant', 'nurse', 'intelligence', 'thurse', 'intelligence', 'elephant', 'order', 'ix', 'hyrax', 'conies', 'tortoise', 'turtle', 'elephant', 'tortoise', 'turtle', 'orh', 'dug', 'outside', 'even', 'wild', 'elephant', 'deem', 'prudent', 'cross', 'lieutenant', 'collet', 'elephant', 'received', 'shoulder', 'thehe', 'exertions', 'riders', 'elephant', 'shook', 'tiger', 'lieutena', 'missed', 'object', 'seized', 'elephant', 'hind', 'leg', 'recy', 'seal', 'sea', 'leopard', 'sea', 'elephant', 'bladdernose', 'hooded', 'seals', 'backs', 'males', 'sea', 'elephant', 'largest', 'seals', 'ionly', 'second', 'intelligence', 'elephant', 'many', 'proofs', 'could', 'given', 'oeen', 'regarded', 'link', 'elephant', 'rhinoceros', 'cle', 'classification', 'followed', 'elephant', 'forms', 'separate', 'order', 'tapire', 'animals', 'next', 'magnitude', 'elephant', 'feed', 'solely', 'grass', 'carrt', 'patience', 'distinguishes', 'elephant', 'paroxysms', 'rage', 'mr', 'animal', 'rhinoceros', 'elephant', 'powerful', 'beast', 'btreatment', 'though', 'doubt', 'elephant', 'proverbial', 'docilityest', 'music', 'order', 'viii', 'elephant', 'elephant', 'butorder', 'viii', 'elephant', 'elephant', 'one', 'genus', 'two', 'ewfoundland', 'training', 'sheep', 'dog', 'sheep', 'dog', 'sagacity', 'aining', 'sheep', 'dog', 'sheep', 'dog', 'sagacity', 'sheep', 'dog', 'sheep', 'dog', 'sagacity', 'sheep', 'dog', 'fidelity', 'st', 'bernarantelope', 'gazelle', 'sheep', 'goat', 'intelligence', 'e', 'goat', 'intelligence', 'sheep', 'animals', 'music', 'order', 'es', 'destruction', 'cattle', 'sheep', 'goats', 'said', 'immensegile', 'climber', 'terror', 'goats', 'sheep', 'monkeys', 'lesser', 'animals', 'b', 'exceedingly', 'destructive', 'among', 'sheep', 'known', 'kill', 'fifty', 'es', 'thresholds', 'doors', 'sheep', 'housed', 'enters', 'furiously', 'neck', 'jaws', 'carries', 'sheep', 'mouth', 'without', 'letting', 'touchouse', 'never', 'heard', 'sheep', 'dogs', 'known', 'take', 'apetime', 'dandie', 'master', 'sheep', 'dog', 'shepherd', 'dog', 'canis', 'dometion', 'early', 'period', 'sheep', 'dog', 'says', 'colonel', 'smith', 'often', 'drooping', 'tips', 'sheep', 'dog', 'confused', 'dd', 'coat', 'well', 'manners', 'sheep', 'dog', 'sagacity', 'sheep', 'dog', 'crs', 'sheep', 'dog', 'sagacity', 'sheep', 'dog', 'credited', 'many', 'storiesst', 'bernard', 'tracking', 'men', 'sheep', 'become', 'buried', 'snow', 'bitch', 'whose', 'feats', 'taking', 'sheep', 'neighbouring', 'farms', 'thers', 'whenever', 'put', 'lot', 'sheep', 'took', 'pride', 'leavlculation', 'road', 'lay', 'sheep', 'whole', 'way', 'master', 'heart', 'tated', 'folded', 'sheep', 'moonlight', 'selected', 'numbsoon', 'followed', 'quitted', 'sheep', 'letting', 'go', 'hill', 'ate', 'keep', 'master', 'sheep', 'smoking', 'hanging', 'ts', 'exceedingly', 'troubled', 'sheep', 'brought', 'far', 'homeed', 'dog', 'great', 'wrath', 'left', 'sheep', 'taking', 'colley', 'h', 'ex', 'coast', 'fine', 'donkey', 'remarkably', 'docile', 'andnight', 'footprints', 'donkey', 'garden', 'walks', 'beds', 'pl', 'window', 'distinctly', 'saw', 'master', 'donkey', 'reared', 'hind', 'legs', 'unfaste', 'ampus', 'order', 'vi', 'manatid', 'sea', 'cow', 'order', 'vii', 'hoofed', 'animals', 'hobuffalo', 'bull', 'ox', 'cow', 'bull', 'brahmin', 'bulle', 'brahmin', 'bull', 'ox', 'cow', 'pride', 'cow', 'biox', 'cow', 'pride', 'cow', 'bison', 'hunting', 'bise', 'shrew', 'run', 'legs', 'cow', 'horse', 'reposing', 'grasng', 'else', 'thinking', 'sir', 'cow', 'potatoes', 'though', 'purptato', 'field', 'seeing', 'cow', 'ran', 'looked', 'byre', 'e', 'would', 'willingly', 'given', 'best', 'cow', 'save', 'confess', 'thl', 'follow', 'order', 'vi', 'sea', 'cow', 'sea', 'cow', 'aquatic', 'vegetariaim', 'order', 'vi', 'sea', 'cow', 'sea', 'cow', 'aquatic', 'vegetarian', 'lives', 'onsupplies', 'place', 'horse', 'cow', 'sheep', 'goat', 'aliveontinent', 'bull', 'ox', 'cow', 'animals', 'show', 'much', 'differencee', 'male', 'female', 'bull', 'cow', 'bull', 'often', 'excited', 'ungoveatre', 'spanish', 'bull', 'fight', 'cow', 'hand', 'displays', 'gentsubdued', 'offspring', 'bull', 'cow', 'much', 'amenable', 'control', 'anmuch', 'useful', 'servant', 'man', 'cow', 'invaluable', 'milk', 'supplieafter', 'panther', 'jaguar', 'killed', 'cow', 'torn', 'condition', 'evidently', 'done', 'battle', 'cow', 'secured', 'wounds', 'plasterhaving', 'kept', 'body', 'cow', 'day', 'panther', 'returnedhe', 'former', 'found', 'dead', 'close', 'cow', 'next', 'morning', 'pierced', 'plain', 'six', 'months', 'previously', 'cow', 'cow', 'supplying', 'enormous', 'qu', 'months', 'previously', 'cow', 'cow', 'supplying', 'enormous', 'quantities', 'ox', 'dead', 'cow', 'moreover', 'get', 'lymph', 'used', 'iinst', 'smallpox', 'quiet', 'way', 'cow', 'sometimes', 'shows', 'sagacity', 'mr', 'bell', 'g', 'following', 'illustration', 'cow', 'feeding', 'tranquilly', 'pas', 'e', 'tame', 'hares', 'common', 'rabbit', 'order', 'xi', 'toothless', 'animals', 'rodents', 'coney', 'resembles', 'rabbit', 'size', 'general', 'form', 'perhaps', 'eyes', 'full', 'like', 'rabbit', 'hind', 'legs', 'long', 'foreish', 'mountain', 'hare', 'common', 'rabbit', 'best', 'known', 'irish', 'oro', 'secure', 'attention', 'common', 'rabbit', 'common', 'rabbit', 'found', 'ovon', 'common', 'rabbit', 'common', 'rabbit', 'found', 'british', 'islesat', 'kangaroo', 'size', 'rabbit', 'another', 'called', 'tree', 'kangaro', 'common', 'porpoise', 'common', 'rabbit', 'common', 'rhea', 'commo', 'q', 'quagga', 'quail', 'r', 'rabbit', 'raccoon', 'ra', 'und', 'occupied', 'robust', 'english', 'sparrow', 'sparrow', 'declined', 'give', 'td', 'robust', 'english', 'sparrow', 'sparrow', 'declined', 'give', 'nest', 'ththe', 'nest', 'clay', 'leaving', 'sparrow', 'perish', 'garrison', 'witnessed', 'curious', 'scene', 'sparrow', 'hawk', 'alighted', 'populous', 'courty', 'bore', 'triumph', 'sparrow', 'hawk', 'sparrowhawk', 'measut', 'another', 'occasion', 'found', 'sparrow', 'hawk', 'deliberately', 'standing', 'ver', 'dpecker', 'wryneck', 'cuckoo', 'cuckoo', 'hedgespar', 'wryneck', 'cuckoo', 'cuckoo', 'hedgesparrow', 'cuckoo', 'hedgesparrow', 'cuckoo', 'thrush', 'trogons', 'link', 'woodpecker', 'cuckoo', 'feeds', 'caterpillars', 'insehat', 'eye', 'follow', 'cuckoo', 'cuckoo', 'always', 'welcomed', 'follow', 'cuckoo', 'cuckoo', 'always', 'welcomed', 'england', 'thuced', 'bird', 'habit', 'cuckoo', 'laying', 'eggs', 'nests', 'us', 'following', 'show', 'cuckoo', 'hedgesparrow', 'dr', 'jenner', 'dularis', 'contained', 'cuckoo', 'three', 'hedgesparrows', 'eggs', 'ohe', 'nest', 'contained', 'young', 'cuckoo', 'one', 'hedgesparrow', 'nest', 'wareat', 'astonishment', 'saw', 'young', 'cuckoo', 'though', 'lately', 'hatched', 'thes', 'always', 'found', 'young', 'cuckoo', 'disposed', 'act', 'manner', 'leisure', 'saw', 'young', 'cuckoo', 'frequently', 'oust', 'baby', 'hedgespararrow', 'manner', 'described', 'cuckoo', 'feeds', 'caterpillars', 'insectse', 'heard', 'april', 'june', 'cuckoo', 'thrush', 'cuckoo', 'ishe', 'cuckoo', 'thrush', 'cuckoo', 'scarcely', 'amiable', 'bird', 'would', 'acage', 'short', 'time', 'young', 'cuckoo', 'could', 'feed', 'wasserved', 'thrush', 'fed', 'cuckoo', 'opening', 'mouth', 'sitting', 'ation', 'eating', 'upon', 'cuckoo', 'descended', 'attacked', 'thrush', 'witd', 'continued', 'till', 'cuckoo', 'full', 'grown', 'trogons', 'crossbill', 'crow', 'cuckoo', 'curlew', 'cynlurus', 'dog', 'rook', 'carrion', 'crow', 'jackdaw', 'chough', 'oubles', 'crosses', 'etc', 'crow', 'flies', 'exceeded', 'seventy', 'miles', 'raven', 'rook', 'carrion', 'crow', 'jackdaw', 'chough', 'nightingale', 'caw', 'crow', 'magazine', 'natural', 'histnusual', 'note', 'resemblance', 'crow', 'domestic', 'cock', 'perfect', 'furrows', 'frequently', 'like', 'crow', 'stealing', 'planted', 'maize', 'indie', 'family', 'corvid', 'crow', 'family', 'includes', 'jays', 'th', 'often', 'confused', 'carrion', 'crow', 'found', 'many', 'parts', 'europe', 'andrticular', 'differs', 'carrion', 'crow', 'lives', 'pairs', 'diffend', 'neck', 'birds', 'crow', 'much', 'completely', 'covered', 'rook', 'croak', 'crow', 'moreover', 'much', 'harsher', 'th', 'needs', 'similar', 'check', 'carrion', 'crow', 'carrion', 'crow', 'resembles', 'raveck', 'carrion', 'crow', 'carrion', 'crow', 'resembles', 'raven', 'appearance', 'g', 'scotch', 'newspaper', 'tells', 'crow', 'made', 'attempt', 'carry', 'opair', 'sparrowhawks', 'bred', 'old', 'crow', 'nest', 'low', 'beech', 'selborneh', 'carrier', 'pigeon', 'carrion', 'crow', 'cashmir', 'goat', 'cassocrocodile', 'crossbill', 'crow', 'cuckoo', 'curlew', 'order', 'vii', 'birds', 'prey', 'eagle', 'eagle', 'shooting', 'white', 'birds', 'prey', 'eagle', 'eagle', 'shooting', 'whiteheaded', 'eaglagle', 'shooting', 'whiteheaded', 'eagle', 'vultures', 'condor', 'hallooed', 'attack', 'disabled', 'eagle', 'bird', 'unable', 'escape', 'threw', 'oted', 'says', 'account', 'eagle', 'queen', 'swallow', 'wagtaat', 'give', 'eagle', 'whatever', 'may', 'said', 'claimsd', 'claims', 'birds', 'eagle', 'traditionally', 'king', 'airumber', 'species', 'golden', 'eagle', 'spotted', 'eagle', 'imperial', 'ewhich', 'golden', 'eagle', 'spotted', 'eagle', 'imperial', 'eagle', 'whitehe', 'spotted', 'eagle', 'imperial', 'eagle', 'whiteheaded', 'sea', 'eagle', 'aerial', 'eagle', 'whiteheaded', 'sea', 'eagle', 'among', 'best', 'known', 'varieties', 'best', 'known', 'varieties', 'golden', 'eagle', 'belongs', 'europe', 'america', 'e', 'plovers', 'c', 'c', 'though', 'eagle', 'often', 'attacked', 'children', 'storermination', 'attacking', 'prey', 'eagle', 'shooting', 'mr', 'st', 'john', 'gives', 'foad', 'six', 'yards', 'sheep', 'one', 'eagle', 'always', 'followed', 'second', 'red', 'many', 'minutes', 'saw', 'eagle', 'skimming', 'low', 'brow', 'hiperfectly', 'dead', 'whiteheaded', 'eagle', 'whiteheaded', 'bald', 'eagle', 'ided', 'eagle', 'whiteheaded', 'bald', 'eagle', 'native', 'north', 'america', 'andnd', 'moment', 'looks', 'eagle', 'ardour', 'levelling', 'nltation', 'signal', 'eagle', 'launching', 'air', 'instaarial', 'evolutions', 'unencumbered', 'eagle', 'rapidly', 'advances', 'thon', 'latter', 'drops', 'fish', 'eagle', 'poising', 'moment', 'ifid', 'partake', 'ferocity', 'eagle', 'filthiness', 'vulture', 'owl', 'longeared', 'owl', 'great', 'eagle', 'owl', 'american', 'horned', 'owl', 'devours', 'piecemeal', 'great', 'eagle', 'owl', 'measures', 'two', 'feet', 'upwa', 'jackal', 'may', 'considered', 'vulture', 'quadruped', 'kind', 'pulently', 'away', 'woods', 'vulture', 'vultures', 'sometimes', 'eive', 'natives', 'griffin', 'vulture', 'europe', 'turkey', 'persia', 'afr', 'persia', 'africa', 'egyptian', 'vulture', 'nile', 'country', 'condontry', 'condor', 'american', 'vulture', 'best', 'known', 'varieties', 'ththe', 'eagle', 'filthiness', 'vulture', 'two', 'birds', 'acting', 'inhing', 'surprising', 'distance', 'vulture', 'descries', 'prey', 'ga', 'following', 'account', 'black', 'vulture', 'america', 'february', 'st', 'american', 'sable', 'american', 'vulture', 'anchovy', 'angola', 'ang', 'snake', 'black', 'swan', 'black', 'vulture', 'blacknecked', 'swan', 'blackx', 'egyptian', 'hare', 'egyptian', 'vulture', 'eider', 'duck', 'eland', 'yhound', 'griffin', 'vulture', 'grivet', 'grizzly', 'bear', 'errid', 'vulpes', 'vulgaris', 'vulture', 'w', 'wagtail', 'rrots', 'intelligence', 'parrot', 'famous', 'parrots', 'grey', 'famous', 'parrots', 'grey', 'parrot', 'parrot', 'talk', 'order', 'iv', 'piparrots', 'grey', 'parrot', 'parrot', 'talk', 'order', 'iv', 'pigeons', 'catoo', 'distinguished', 'true', 'parrot', 'crest', 'species', 'dilphurcrested', 'cockatoo', 'ground', 'parrot', 'macaw', 'grey', 'parrot', 'theround', 'parrot', 'macaw', 'grey', 'parrot', 'green', 'parrot', 'parrakeetsmacaw', 'grey', 'parrot', 'green', 'parrot', 'parrakeets', 'lovebirdsparrakeets', 'lovebirds', 'parrot', 'intelligence', 'many', 'stories', 'part', 'bird', 'ordinary', 'parrot', 'half', 'dozen', 'phrases', 'xtraordinary', 'intelligence', 'teach', 'parrot', 'simple', 'rejoinder', 'ithem', 'involves', 'injustice', 'parrot', 'famous', 'parrots', 'basilius', 'macedo', 'induced', 'parrot', 'cast', 'gloom', 'guests', 'treet', 'piccadilly', 'celebrated', 'parrot', 'colonel', 'okelly', 'singular', 'ith', 'wonderful', 'exactness', 'grey', 'parrot', 'said', 'sold', 'r', 'apostles', 'creed', 'grey', 'parrot', 'grey', 'parrot', 'though', 'less', 'attra', 'creed', 'grey', 'parrot', 'grey', 'parrot', 'though', 'less', 'attractive', 'colour', 'th', 'perhaps', 'popular', 'parrot', 'family', 'account', 'superior', 'aption', 'performances', 'grey', 'parrot', 'resided', 'hampton', 'court', 'frtiful', 'draws', 'parrot', 'talk', 'deny', 'parrot', 'underf', 'parrot', 'talk', 'deny', 'parrot', 'understanding', 'says', 'habit', 'kissing', 'parrot', 'kissing', 'wife', 'visitors', 'took', 'notice', 'parrot', 'recommended', 'salute', 'ladyute', 'lady', 'house', 'another', 'parrot', 'whose', 'cage', 'occupied', 'window', 'close', 'ave', 'words', 'actions', 'parrot', 'frequently', 'called', 'ki', 'aggravating', 'use', 'ever', 'made', 'parrot', 'powers', 'witnessed', 'bu', 'tame', 'seagull', 'mother', 'carey', 'chicken', 'catching', 'stormy', 'petrel', 'r', 'breakfasttable', 'eat', 'eggs', 'chicken', 'drink', 'tea', 'coffee', 'grea', 'moments', 'dead', 'chicken', 'disappeared', 'lefcious', 'room', 'accompanied', 'chicken', 'sole', 'surviving', 'offspring', 'aappeared', 'ever', 'mother', 'carey', 'chicken', 'stormy', 'petrel', 'mother', 'careyhe', 'stormy', 'petrel', 'mother', 'carey', 'chicken', 'small', 'black', 'bird', 'well', 'known', 'e', 'mother', 'carey', 'chicken', 'mountain', 'hare', 'mouse', 'southamerican', 'birds', 'resembling', 'pigeon', 'size', 'head', 'sufficiently', 'ish', 'pouter', 'iv', 'dovecote', 'pigeon', 'swallow', 'spot', 'nun', 'trumpeter', 'passenger', 'pigeon', 'america', 'nicobar', 'pigeon', 'ger', 'pigeon', 'america', 'nicobar', 'pigeon', 'philippine', 'islands', 'grelippine', 'islands', 'greatcrowned', 'pigeon', 'new', 'guinea', 'hookbilled', 'gw', 'guinea', 'hookbilled', 'ground', 'pigeon', 'samoa', 'important', 'specieo', 'tells', 'us', 'taurosthenes', 'pigeon', 'stained', 'purple', 'gave', 'notice', 'hands', 'observed', 'pigeon', 'flying', 'immediately', 'false', 'intelligence', 'let', 'pigeon', 'free', 'pursue', 'course', 'garse', 'guides', 'well', 'known', 'pigeon', 'fancier', 'interviewed', 'writer', 'wr', 'st', 'john', 'says', 'one', 'pursued', 'pigeon', 'drawingroom', 'window', 'ely', 'standing', 'large', 'pouter', 'pigeon', 'drawingroom', 'floor', 'plu', 'african', 'mouse', 'african', 'owl', 'pigeon', 'agouti', 'aguara', 'crane', 'bandicoot', 'barb', 'pigeon', 'barbary', 'ape', 'barbel', 'scarnivora', 'carp', 'carrier', 'pigeon', 'carrion', 'crow', 'ouroucouli', 'dove', 'dovecot', 'pigeon', 'drill', 'dromedary', 'eatbilled', 'rhea', 'greatcrowned', 'pigeon', 'grebe', 'green', 'monkey', 'honey', 'bear', 'hookbilled', 'ground', 'pigeon', 'hoolock', 'hornbill', 'newt', 'nicobar', 'pigeon', 'nightjar', 'nightingale', 'partridge', 'passenger', 'pigeon', 'passeres', 'patas', 'p', 'pied', 'wagtail', 'pig', 'pigeon', 'pike', 'pine', 'marswallow', 'swallow', 'pigeon', 'swan', 'swift', 'lcon', 'sparrowhawk', 'owl', 'order', 'viii', 'wading', 'birds', 'enemies', 'kestrel', 'barn', 'owl', 'superstition', 'effect', 'ids', 'bitter', 'enemy', 'owl', 'sooner', 'discovered', 'retl', 'day', 'half', 'mile', 'owl', 'length', 'forced', 'betake', 'ltless', 'similar', 'depredations', 'owl', 'becomes', 'turn', 'tyrat', 'note', 'also', 'known', 'fern', 'owl', 'mr', 'wood', 'says', 'may', 'seebarb', 'ii', 'fantail', 'african', 'owl', 'shortfaced', 'tumbler', 'indiae', 'set', 'enemies', 'defiance', 'owl', 'great', 'interest', 'attaches', 'owl', 'owl', 'great', 'interest', 'attaches', 'owl', 'singularity', 'appearanc', 'many', 'varieties', 'common', 'barn', 'owl', 'longeared', 'owl', 'great', 'eagl', 'common', 'barn', 'owl', 'longeared', 'owl', 'great', 'eagle', 'owl', 'ameri', 'longeared', 'owl', 'great', 'eagle', 'owl', 'american', 'horned', 'owl', 'st', 'eagle', 'owl', 'american', 'horned', 'owl', 'barn', 'owl', 'meed', 'owl', 'barn', 'owl', 'measures', 'twelve', 'inches', 'lengtts', 'bird', 'mouse', 'given', 'owl', 'bird', 'seizes', 'across', 'back', 'nd', 'jerk', 'sends', 'mouse', 'half', 'owl', 'throat', 'tail', 'remains', 'st', 'rolled', 'owl', 'smoking', 'time', 'beuse', 'disappear', 'altogether', 'owl', 'looks', 'happy', 'contented', 'small', 'bird', 'presented', 'owl', 'tears', 'devours', 'piecemeal', 'urs', 'piecemeal', 'great', 'eagle', 'owl', 'measures', 'two', 'feet', 'upwards', 'wns', 'african', 'mouse', 'african', 'owl', 'pigeon', 'agouti', 'aguara', 'rican', 'bull', 'frog', 'american', 'horned', 'owl', 'american', 'house', 'wren', 'ameri', 'barbel', 'sporting', 'dog', 'barn', 'owl', 'bat', 'bay', 'antelope', 'lugo', 'columb', 'common', 'barn', 'owl', 'common', 'crane', 'common', 'duck', 'neca', 'zaarensis', 'fennec', 'fern', 'owl', 'ferret', 'fieldmouse', 'puffin', 'order', 'x', 'ostrich', 'ostrich', 'young', 'order', 'x', 'ostrich', 'ostrich', 'young', 'rhea', 'rds', 'swim', 'x', 'struthiones', 'ostrich', 'emu', 'etc', 'etc', 'order', 'postriches', 'order', 'includes', 'ostrich', 'rhea', 'cassowaries', 'th', 'cassowaries', 'emus', 'ostrich', 'belongs', 'africa', 'australasia', 'ahe', 'wild', 'bushman', 'approaching', 'ostrich', 'varieties', 'game', 'saitating', 'gait', 'motions', 'ostrich', 'within', 'range', 'ieties', 'game', 'eggs', 'ostrich', 'also', 'much', 'prized', 'nest', 'k', 'containing', 'twelve', 'fifteen', 'ostrich', 'eggshells', 'emptithese', 'fill', 'water', 'ostrich', 'young', 'ostrich', 'shows', 'ostrich', 'young', 'ostrich', 'shows', 'affection', 'mance', 'rode', 'past', 'place', 'hen', 'ostrich', 'sitting', 'nest', 'rhea', 'beautiful', 'bird', 'ostrich', 'type', 'belonging', 'south', 'america', 'tralia', 'cassowary', 'resembles', 'ostrich', 'form', 'large', 'orygin', 'osprey', 'ostrich', 'otarid']\n"
     ]
    }
   ],
   "source": [
    "flattened = []\n",
    "for sublist in tokenized_sents:\n",
    "    for val in sublist:\n",
    "        flattened.append(val)\n",
    "print(flattened)"
   ]
  },
  {
   "cell_type": "code",
   "execution_count": 154,
   "metadata": {},
   "outputs": [
    {
     "data": {
      "text/plain": [
       "1340"
      ]
     },
     "execution_count": 154,
     "metadata": {},
     "output_type": "execute_result"
    }
   ],
   "source": [
    "Vocab=[]\n",
    "for item in flattened:\n",
    "    if not item in Vocab:\n",
    "        Vocab.append(item)\n",
    "len(Vocab)"
   ]
  },
  {
   "cell_type": "code",
   "execution_count": 159,
   "metadata": {},
   "outputs": [
    {
     "name": "stdout",
     "output_type": "stream",
     "text": [
      "{'aappeared': 0, 'acage': 1, 'accompanied': 2, 'account': 3, 'accustomed': 4, 'acroally': 5, 'across': 6, 'act': 7, 'acting': 8, 'actions': 9, 'actually': 10, 'advances': 11, 'aerial': 12, 'affection': 13, 'affectir': 14, 'afr': 15, 'africa': 16, 'african': 17, 'afterwards': 18, 'aggravating': 19, 'agouti': 20, 'aguara': 21, 'ahe': 22, 'aining': 23, 'air': 24, 'airumber': 25, 'alighted': 26, 'aliveontinent': 27, 'allies': 28, 'allow': 29, 'almost': 30, 'als': 31, 'also': 32, 'although': 33, 'altogether': 34, 'always': 35, 'amenable': 36, 'ameri': 37, 'america': 38, 'american': 39, 'amiable': 40, 'among': 41, 'ampus': 42, 'anchovy': 43, 'andby': 44, 'andnd': 45, 'andnight': 46, 'androcles': 47, 'androcy': 48, 'andrticular': 49, 'anegs': 50, 'ang': 51, 'angola': 52, 'angry': 53, 'animal': 54, 'animals': 55, 'anmuch': 56, 'another': 57, 'antelope': 58, 'ao': 59, 'aoached': 60, 'ape': 61, 'apetime': 62, 'apostles': 63, 'appearanc': 64, 'appearance': 65, 'appeiger': 66, 'approach': 67, 'approaching': 68, 'april': 69, 'aption': 70, 'aquatic': 71, 'arabian': 72, 'arctic': 73, 'ardour': 74, 'arincts': 75, 'arm': 76, 'assimilate': 77, 'astonishment': 78, 'ate': 79, 'ation': 80, 'atlas': 81, 'attached': 82, 'attaches': 83, 'attack': 84, 'attacked': 85, 'attacking': 86, 'attempt': 87, 'attempted': 88, 'attention': 89, 'atti': 90, 'attitude': 91, 'attra': 92, 'attractive': 93, 'australasia': 94, 'author': 95, 'ave': 96, 'away': 97, 'b': 98, 'baby': 99, 'back': 100, 'backs': 101, 'bald': 102, 'bandicoot': 103, 'barb': 104, 'barbary': 105, 'barbel': 106, 'bark': 107, 'barn': 108, 'basays': 109, 'basilius': 110, 'bass': 111, 'bat': 112, 'battle': 113, 'bay': 114, 'beagle': 115, 'bear': 116, 'beast': 117, 'beasts': 118, 'beautgain': 119, 'beautiful': 120, 'became': 121, 'become': 122, 'becomes': 123, 'beds': 124, 'beech': 125, 'bell': 126, 'belonging': 127, 'belongs': 128, 'bernarantelope': 129, 'bernard': 130, 'best': 131, 'betake': 132, 'better': 133, 'beuse': 134, 'biox': 135, 'bird': 136, 'birds': 137, 'bise': 138, 'bison': 139, 'bitch': 140, 'biting': 141, 'bitter': 142, 'bivouacking': 143, 'black': 144, 'blacknecked': 145, 'blackx': 146, 'bladdernose': 147, 'blood': 148, 'bobak': 149, 'body': 150, 'bore': 151, 'brahmin': 152, 'breakfasttable': 153, 'breaking': 154, 'bred': 155, 'bride': 156, 'bridle': 157, 'bringing': 158, 'british': 159, 'brought': 160, 'brow': 161, 'brown': 162, 'bstration': 163, 'btreatment': 164, 'bu': 165, 'bull': 166, 'bulle': 167, 'buried': 168, 'bushman': 169, 'butorder': 170, 'byre': 171, 'bys': 172, 'c': 173, 'cage': 174, 'called': 175, 'canis': 176, 'captured': 177, 'carey': 178, 'careyhe': 179, 'carp': 180, 'carried': 181, 'carrier': 182, 'carries': 183, 'carrion': 184, 'carrt': 185, 'carry': 186, 'cashmir': 187, 'cassocrocodile': 188, 'cassowaries': 189, 'cassowary': 190, 'cast': 191, 'cat': 192, 'catarinaceous': 193, 'catching': 194, 'caterpillars': 195, 'catoo': 196, 'cattle': 197, 'caught': 198, 'causeat': 199, 'caused': 200, 'caw': 201, 'celebrated': 202, 'centenarian': 203, 'character': 204, 'check': 205, 'chicken': 206, 'children': 207, 'china': 208, 'chinchilla': 209, 'chough': 210, 'claims': 211, 'claimsd': 212, 'class': 213, 'classification': 214, 'clay': 215, 'cle': 216, 'climber': 217, 'close': 218, 'clouded': 219, 'coast': 220, 'coat': 221, 'cock': 222, 'cockatoo': 223, 'coffee': 224, 'collet': 225, 'colley': 226, 'colonel': 227, 'colour': 228, 'colouring': 229, 'columb': 230, 'combs': 231, 'commo': 232, 'common': 233, 'compared': 234, 'completely': 235, 'comrade': 236, 'condition': 237, 'condontry': 238, 'condor': 239, 'coney': 240, 'confess': 241, 'confused': 242, 'conies': 243, 'consider': 244, 'considered': 245, 'constantly': 246, 'contained': 247, 'containing': 248, 'contented': 249, 'continent': 250, 'continued': 251, 'control': 252, 'corvid': 253, 'couguar': 254, 'could': 255, 'country': 256, 'course': 257, 'court': 258, 'courty': 259, 'covered': 260, 'cow': 261, 'crane': 262, 'credited': 263, 'creed': 264, 'creeps': 265, 'crest': 266, 'crested': 267, 'croak': 268, 'cross': 269, 'crossbill': 270, 'crosses': 271, 'crow': 272, 'crowe': 273, 'crs': 274, 'cruel': 275, 'cuckoo': 276, 'curious': 277, 'curlew': 278, 'cynlurus': 279, 'dalmatian': 280, 'dandie': 281, 'day': 282, 'days': 283, 'dd': 284, 'dead': 285, 'declined': 286, 'deem': 287, 'deep': 288, 'deer': 289, 'defiance': 290, 'deliberately': 291, 'den': 292, 'denomination': 293, 'deny': 294, 'depredations': 295, 'descended': 296, 'described': 297, 'descries': 298, 'destruction': 299, 'destructive': 300, 'devours': 301, 'diffend': 302, 'differencee': 303, 'differs': 304, 'dilphurcrested': 305, 'dimals': 306, 'ding': 307, 'disabled': 308, 'disappear': 309, 'disappeared': 310, 'discharged': 311, 'discovered': 312, 'displays': 313, 'disposed': 314, 'distance': 315, 'distinctly': 316, 'distinguished': 317, 'distinguishes': 318, 'docile': 319, 'docili': 320, 'docility': 321, 'docilityest': 322, 'dog': 323, 'dogdog': 324, 'dogfaceout': 325, 'dogs': 326, 'domestic': 327, 'dometion': 328, 'done': 329, 'donkey': 330, 'doongal': 331, 'doors': 332, 'doubt': 333, 'doubted': 334, 'dove': 335, 'dovecot': 336, 'dovecote': 337, 'dozen': 338, 'dpecker': 339, 'dr': 340, 'dragged': 341, 'drawing': 342, 'drawingroom': 343, 'draws': 344, 'dreaminess': 345, 'dressing': 346, 'drill': 347, 'drink': 348, 'drinking': 349, 'driven': 350, 'dromedary': 351, 'drooping': 352, 'drops': 353, 'duck': 354, 'dug': 355, 'dularis': 356, 'e': 357, 'eagl': 358, 'eaglagle': 359, 'eagle': 360, 'early': 361, 'ears': 362, 'ease': 363, 'eat': 364, 'eatbilled': 365, 'eating': 366, 'effect': 367, 'effects': 368, 'egg': 369, 'eggs': 370, 'eggshells': 371, 'egyptian': 372, 'eider': 373, 'eive': 374, 'eland': 375, 'elepephant': 376, 'elepha': 377, 'elephanhant': 378, 'elephant': 379, 'else': 380, 'ely': 381, 'emptithese': 382, 'emu': 383, 'emus': 384, 'endships': 385, 'endurance': 386, 'enemies': 387, 'enemy': 388, 'england': 389, 'english': 390, 'enmities': 391, 'enormous': 392, 'ensued': 393, 'enters': 394, 'errid': 395, 'es': 396, 'escape': 397, 'escapeecies': 398, 'estic': 399, 'etc': 400, 'europe': 401, 'even': 402, 'ever': 403, 'evidently': 404, 'evolutions': 405, 'ewfoundland': 406, 'ewhich': 407, 'ex': 408, 'exactly': 409, 'exactness': 410, 'exceeded': 411, 'exceedingly': 412, 'excited': 413, 'excursion': 414, 'exercise': 415, 'exertions': 416, 'experience': 417, 'eye': 418, 'eyes': 419, 'f': 420, 'false': 421, 'family': 422, 'famous': 423, 'fancier': 424, 'fantail': 425, 'far': 426, 'farinaceous': 427, 'farms': 428, 'fast': 429, 'feasting': 430, 'feats': 431, 'february': 432, 'fed': 433, 'feed': 434, 'feeding': 435, 'feeds': 436, 'feet': 437, 'female': 438, 'fennec': 439, 'fern': 440, 'ferocity': 441, 'ferret': 442, 'fidelity': 443, 'field': 444, 'fieldmouse': 445, 'fiercest': 446, 'fifteen': 447, 'fifty': 448, 'fight': 449, 'fill': 450, 'filthiness': 451, 'finding': 452, 'fine': 453, 'fired': 454, 'first': 455, 'fish': 456, 'fisheep': 457, 'fissipedia': 458, 'fleh': 459, 'fles': 460, 'flexibilityhile': 461, 'flies': 462, 'floor': 463, 'flying': 464, 'foad': 465, 'foiled': 466, 'folded': 467, 'follow': 468, 'followed': 469, 'following': 470, 'food': 471, 'footprints': 472, 'force': 473, 'forced': 474, 'foreish': 475, 'form': 476, 'former': 477, 'forms': 478, 'foster': 479, 'found': 480, 'four': 481, 'fowls': 482, 'fox': 483, 'free': 484, 'frequently': 485, 'friends': 486, 'friendships': 487, 'frog': 488, 'frtiful': 489, 'full': 490, 'furiously': 491, 'furrows': 492, 'g': 493, 'ga': 494, 'gait': 495, 'gallop': 496, 'game': 497, 'garden': 498, 'garrison': 499, 'garse': 500, 'gave': 501, 'gazelle': 502, 'general': 503, 'generally': 504, 'generosity': 505, 'gentsubdued': 506, 'genus': 507, 'ger': 508, 'get': 509, 'give': 510, 'given': 511, 'gives': 512, 'glides': 513, 'gloom': 514, 'go': 515, 'goat': 516, 'goats': 517, 'golden': 518, 'goose': 519, 'gos': 520, 'grasng': 521, 'grass': 522, 'grea': 523, 'great': 524, 'greatcrowned': 525, 'greatest': 526, 'greatly': 527, 'grebe': 528, 'green': 529, 'grelippine': 530, 'grey': 531, 'griffin': 532, 'grivet': 533, 'grizzly': 534, 'ground': 535, 'grown': 536, 'gth': 537, 'guests': 538, 'guides': 539, 'guinea': 540, 'gun': 541, 'gw': 542, 'h': 543, 'habit': 544, 'half': 545, 'hallooed': 546, 'hampton': 547, 'hand': 548, 'hands': 549, 'hanging': 550, 'happy': 551, 'hard': 552, 'hare': 553, 'hares': 554, 'harsher': 555, 'hatched': 556, 'hawk': 557, 'head': 558, 'heard': 559, 'heart': 560, 'hedgespar': 561, 'hedgespararrow': 562, 'hedgesparrow': 563, 'hedgesparrows': 564, 'hen': 565, 'heould': 566, 'herds': 567, 'hill': 568, 'hind': 569, 'hiperfectly': 570, 'histnusual': 571, 'ho': 572, 'hobuffalo': 573, 'home': 574, 'homeed': 575, 'honey': 576, 'hooded': 577, 'hoofed': 578, 'hookbilled': 579, 'hoolock': 580, 'hornbill': 581, 'horned': 582, 'horse': 583, 'horseplay': 584, 'horses': 585, 'horsorse': 586, 'house': 587, 'housed': 588, 'houth': 589, 'human': 590, 'hunt': 591, 'huntec': 592, 'hunter': 593, 'hunting': 594, 'hy': 595, 'hyrax': 596, 'ia': 597, 'ich': 598, 'ided': 599, 'ids': 600, 'ieties': 601, 'ifid': 602, 'ii': 603, 'iinst': 604, 'ill': 605, 'illing': 606, 'illustration': 607, 'illustrations': 608, 'immediately': 609, 'immensegile': 610, 'imperial': 611, 'important': 612, 'impossible': 613, 'ina': 614, 'inches': 615, 'includes': 616, 'indiae': 617, 'indie': 618, 'induce': 619, 'induced': 620, 'infant': 621, 'ing': 622, 'inhing': 623, 'injustice': 624, 'inpportunities': 625, 'insectse': 626, 'insehat': 627, 'instaarial': 628, 'instinct': 629, 'instincts': 630, 'intell': 631, 'intelligence': 632, 'intelligencities': 633, 'interest': 634, 'interviewed': 635, 'intor': 636, 'intrepid': 637, 'invaluable': 638, 'involves': 639, 'ionly': 640, 'irish': 641, 'ish': 642, 'ishe': 643, 'island': 644, 'islands': 645, 'islesat': 646, 'ith': 647, 'ithem': 648, 'iv': 649, 'ix': 650, 'j': 651, 'jackal': 652, 'jackdaw': 653, 'jaguar': 654, 'jaws': 655, 'jays': 656, 'jenner': 657, 'jerk': 658, 'john': 659, 'judging': 660, 'jumped': 661, 'june': 662, 'k': 663, 'kangaro': 664, 'kangaroo': 665, 'keep': 666, 'kees': 667, 'kept': 668, 'kestrel': 669, 'ki': 670, 'kill': 671, 'killed': 672, 'kind': 673, 'king': 674, 'kissing': 675, 'knoor': 676, 'known': 677, 'lady': 678, 'ladyute': 679, 'language': 680, 'lapped': 681, 'large': 682, 'larger': 683, 'largest': 684, 'lastly': 685, 'late': 686, 'lately': 687, 'latter': 688, 'launching': 689, 'lay': 690, 'laying': 691, 'lcon': 692, 'learned': 693, 'leaving': 694, 'leavlculation': 695, 'led': 696, 'lefcious': 697, 'left': 698, 'leg': 699, 'legs': 700, 'leisure': 701, 'length': 702, 'lengtts': 703, 'leopard': 704, 'leopardon': 705, 'lephant': 706, 'lesh': 707, 'less': 708, 'lesser': 709, 'lesson': 710, 'let': 711, 'letting': 712, 'levelling': 713, 'licking': 714, 'lieutena': 715, 'lieutenant': 716, 'like': 717, 'link': 718, 'lioion': 719, 'lion': 720, 'lives': 721, 'locality': 722, 'london': 723, 'long': 724, 'longeared': 725, 'longer': 726, 'looked': 727, 'looks': 728, 'loose': 729, 'lot': 730, 'lovebirds': 731, 'lovebirdsparrakeets': 732, 'low': 733, 'ltless': 734, 'lugo': 735, 'lurks': 736, 'lymph': 737, 'lynx': 738, 'macaw': 739, 'macedo': 740, 'made': 741, 'magazine': 742, 'magnitude': 743, 'mahich': 744, 'maize': 745, 'male': 746, 'males': 747, 'man': 748, 'manatid': 749, 'mance': 750, 'mane': 751, 'manner': 752, 'manners': 753, 'many': 754, 'marmot': 755, 'marswallow': 756, 'master': 757, 'maternal': 758, 'may': 759, 'measures': 760, 'measut': 761, 'meed': 762, 'memo': 763, 'memory': 764, 'men': 765, 'mile': 766, 'miles': 767, 'milk': 768, 'miniature': 769, 'minutes': 770, 'missed': 771, 'mistakes': 772, 'mode': 773, 'moment': 774, 'moments': 775, 'monkey': 776, 'monkeys': 777, 'months': 778, 'moonlight': 779, 'moreover': 780, 'morning': 781, 'mother': 782, 'motions': 783, 'mount': 784, 'mountain': 785, 'mouse': 786, 'mouth': 787, 'mr': 788, 'much': 789, 'music': 790, 'musket': 791, 'mutual': 792, 'narrative': 793, 'narrow': 794, 'native': 795, 'natives': 796, 'natural': 797, 'naturally': 798, 'nd': 799, 'ndland': 800, 'neca': 801, 'necessary': 802, 'neck': 803, 'needs': 804, 'neighbouring': 805, 'neis': 806, 'nest': 807, 'nests': 808, 'never': 809, 'new': 810, 'newatorial': 811, 'newfoundland': 812, 'newspaper': 813, 'newt': 814, 'next': 815, 'ngest': 816, 'nicobar': 817, 'night': 818, 'nightingale': 819, 'nightjar': 820, 'nile': 821, 'nltation': 822, 'north': 823, 'note': 824, 'nothing': 825, 'notice': 826, 'notorious': 827, 'ns': 828, 'nt': 829, 'numbsoon': 830, 'nun': 831, 'nurse': 832, 'object': 833, 'observations': 834, 'observed': 835, 'occasion': 836, 'occupied': 837, 'ocelot': 838, 'oeen': 839, 'ofe': 840, 'offspring': 841, 'often': 842, 'ohe': 843, 'okelly': 844, 'old': 845, 'one': 846, 'onsupplies': 847, 'opair': 848, 'opening': 849, 'operation': 850, 'opportunities': 851, 'opposite': 852, 'order': 853, 'ordinary': 854, 'orfields': 855, 'orh': 856, 'ornamented': 857, 'oro': 858, 'orygin': 859, 'osprey': 860, 'ostrich': 861, 'otarid': 862, 'oted': 863, 'othe': 864, 'othekind': 865, 'others': 866, 'otherwise': 867, 'ou': 868, 'oubles': 869, 'ouroucouli': 870, 'oust': 871, 'outside': 872, 'outwitted': 873, 'ovon': 874, 'owl': 875, 'ox': 876, 'p': 877, 'pairs': 878, 'panther': 879, 'paroxysms': 880, 'parrakeets': 881, 'parrakeetsmacaw': 882, 'parrot': 883, 'parrots': 884, 'part': 885, 'partake': 886, 'partridge': 887, 'parts': 888, 'pas': 889, 'passenger': 890, 'passeres': 891, 'past': 892, 'patas': 893, 'patience': 894, 'perceive': 895, 'perfect': 896, 'performances': 897, 'perhaps': 898, 'period': 899, 'perish': 900, 'persia': 901, 'petrel': 902, 'philippine': 903, 'phrases': 904, 'piccadilly': 905, 'piecemeal': 906, 'pied': 907, 'pierced': 908, 'pig': 909, 'pigeon': 910, 'pigeons': 911, 'pike': 912, 'pine': 913, 'piparrots': 914, 'pl': 915, 'place': 916, 'plain': 917, 'planted': 918, 'plasterhaving': 919, 'plovers': 920, 'plu': 921, 'poac': 922, 'poising': 923, 'pon': 924, 'poodle': 925, 'popular': 926, 'populous': 927, 'porcuphe': 928, 'porpoise': 929, 'postriches': 930, 'potatoes': 931, 'pouter': 932, 'powerful': 933, 'powers': 934, 'prairie': 935, 'preface': 936, 'prefer': 937, 'prepared': 938, 'presented': 939, 'previously': 940, 'prey': 941, 'pride': 942, 'prized': 943, 'proofs': 944, 'protector': 945, 'proverbial': 946, 'prudent': 947, 'pu': 948, 'puffin': 949, 'pulently': 950, 'pulling': 951, 'purple': 952, 'purptato': 953, 'pursue': 954, 'pursued': 955, 'put': 956, 'q': 957, 'qu': 958, 'quadruped': 959, 'quagga': 960, 'quail': 961, 'quantities': 962, 'queen': 963, 'quiet': 964, 'quitted': 965, 'r': 966, 'ra': 967, 'rabbit': 968, 'raccoon': 969, 'rage': 970, 'ran': 971, 'range': 972, 'rapidly': 973, 'rather': 974, 'ravages': 975, 'raveck': 976, 'raven': 977, 'rds': 978, 'reared': 979, 'received': 980, 'recommended': 981, 'reconcile': 982, 'recy': 983, 'red': 984, 'regarded': 985, 'regions': 986, 'rejoinder': 987, 'remains': 988, 'remarkably': 989, 'remee': 990, 'remember': 991, 'reposing': 992, 'resemblance': 993, 'resemble': 994, 'resembles': 995, 'resembling': 996, 'reside': 997, 'resided': 998, 'respects': 999, 'rest': 1000, 'resting': 1001, 'retl': 1002, 'returnedhe': 1003, 'rev': 1004, 'rhea': 1005, 'rhinoceros': 1006, 'rican': 1007, 'riders': 1008, 'road': 1009, 'robust': 1010, 'rode': 1011, 'rodents': 1012, 'roll': 1013, 'rolled': 1014, 'rook': 1015, 'room': 1016, 'round': 1017, 'rrots': 1018, 'run': 1019, 'running': 1020, 'runs': 1021, 'sable': 1022, 'sagacity': 1023, 'sager': 1024, 'said': 1025, 'saitating': 1026, 'salute': 1027, 'samoa': 1028, 'sandwich': 1029, 'satiated': 1030, 'save': 1031, 'saw': 1032, 'says': 1033, 'scarcely': 1034, 'scarnivora': 1035, 'scene': 1036, 'scotch': 1037, 'sea': 1038, 'seagull': 1039, 'seal': 1040, 'seals': 1041, 'second': 1042, 'secure': 1043, 'secured': 1044, 'seebarb': 1045, 'seeing': 1046, 'seemwas': 1047, 'seized': 1048, 'seizes': 1049, 'seizing': 1050, 'selborneh': 1051, 'seldom': 1052, 'selected': 1053, 'seless': 1054, 'self': 1055, 'sends': 1056, 'sens': 1057, 'sense': 1058, 'separate': 1059, 'serval': 1060, 'servant': 1061, 'set': 1062, 'seventy': 1063, 'shake': 1064, 'shape': 1065, 'shared': 1066, 'sharp': 1067, 'sharpips': 1068, 'sheep': 1069, 'shepherd': 1070, 'shoeblack': 1071, 'shook': 1072, 'shoot': 1073, 'shooting': 1074, 'short': 1075, 'shortfaced': 1076, 'shot': 1077, 'shoulder': 1078, 'show': 1079, 'shows': 1080, 'shrew': 1081, 'siam': 1082, 'side': 1083, 'signal': 1084, 'similar': 1085, 'simple': 1086, 'singular': 1087, 'singularity': 1088, 'sir': 1089, 'sitting': 1090, 'six': 1091, 'sixtyuching': 1092, 'size': 1093, 'skimming': 1094, 'skin': 1095, 'slaughter': 1096, 'slay': 1097, 'small': 1098, 'smallpox': 1099, 'smith': 1100, 'smoking': 1101, 'snake': 1102, 'snow': 1103, 'sold': 1104, 'sole': 1105, 'solely': 1106, 'sometimes': 1107, 'sooner': 1108, 'sort': 1109, 'south': 1110, 'southamerican': 1111, 'spanish': 1112, 'sparrow': 1113, 'sparrowhawk': 1114, 'sparrowhawks': 1115, 'specieo': 1116, 'species': 1117, 'speed': 1118, 'spor': 1119, 'sporting': 1120, 'sportsman': 1121, 'spot': 1122, 'spotted': 1123, 'sprang': 1124, 'st': 1125, 'stained': 1126, 'standing': 1127, 'stat': 1128, 'stealing': 1129, 'storermination': 1130, 'stories': 1131, 'storiesst': 1132, 'stormy': 1133, 'story': 1134, 'streaked': 1135, 'streaks': 1136, 'strength': 1137, 'stripes': 1138, 'stroles': 1139, 'structure': 1140, 'struggle': 1141, 'struthiones': 1142, 'subbles': 1143, 'suborders': 1144, 'sufficiently': 1145, 'superior': 1146, 'supersthe': 1147, 'superstition': 1148, 'superstitions': 1149, 'supplieafter': 1150, 'supplying': 1151, 'support': 1152, 'surprise': 1153, 'surprising': 1154, 'surviving': 1155, 'swallow': 1156, 'swan': 1157, 'swift': 1158, 'swim': 1159, 'sword': 1160, 'tail': 1161, 'take': 1162, 'taken': 1163, 'takes': 1164, 'taking': 1165, 'talk': 1166, 'tall': 1167, 'tame': 1168, 'tapire': 1169, 'tated': 1170, 'taurosthenes': 1171, 'tawny': 1172, 'td': 1173, 'tea': 1174, 'teach': 1175, 'tears': 1176, 'teeth': 1177, 'tells': 1178, 'tenemy': 1179, 'territory': 1180, 'terror': 1181, 'th': 1182, 'thehe': 1183, 'thel': 1184, 'therefore': 1185, 'theround': 1186, 'thers': 1187, 'thes': 1188, 'thhad': 1189, 'thinking': 1190, 'third': 1191, 'thl': 1192, 'thoch': 1193, 'thon': 1194, 'though': 1195, 'three': 1196, 'thresholds': 1197, 'threw': 1198, 'thrilling': 1199, 'throat': 1200, 'thrush': 1201, 'thsome': 1202, 'ththe': 1203, 'thuced': 1204, 'thurse': 1205, 'tiger': 1206, 'till': 1207, 'time': 1208, 'tips': 1209, 'toe': 1210, 'took': 1211, 'toothless': 1212, 'tore': 1213, 'torn': 1214, 'tortoise': 1215, 'touchouse': 1216, 'towards': 1217, 'tracking': 1218, 'traditionally': 1219, 'training': 1220, 'tralia': 1221, 'tranquilly': 1222, 'traveller': 1223, 'traves': 1224, 'tree': 1225, 'treet': 1226, 'tribe': 1227, 'tribeye': 1228, 'triumph': 1229, 'trogons': 1230, 'troubled': 1231, 'true': 1232, 'trumpeter': 1233, 'ts': 1234, 'tse': 1235, 'tufted': 1236, 'tumbler': 1237, 'turkey': 1238, 'turn': 1239, 'turned': 1240, 'turnspit': 1241, 'turnspitmastiff': 1242, 'turtle': 1243, 'twelve': 1244, 'two': 1245, 'type': 1246, 'tyrat': 1247, 'u': 1248, 'umber': 1249, 'unable': 1250, 'und': 1251, 'underf': 1252, 'understanding': 1253, 'unencumbered': 1254, 'unfaste': 1255, 'ungoveatre': 1256, 'upon': 1257, 'upwa': 1258, 'upwards': 1259, 'urs': 1260, 'us': 1261, 'use': 1262, 'used': 1263, 'useful': 1264, 'vale': 1265, 'valour': 1266, 'varieties': 1267, 'varietnt': 1268, 'vegetariaim': 1269, 'vegetarian': 1270, 'ver': 1271, 'vi': 1272, 'vices': 1273, 'vicirtues': 1274, 'view': 1275, 'vii': 1276, 'viii': 1277, 'virtues': 1278, 'visitors': 1279, 'vulgaris': 1280, 'vulpes': 1281, 'vulture': 1282, 'vultures': 1283, 'w': 1284, 'wading': 1285, 'wagtaat': 1286, 'wagtail': 1287, 'walks': 1288, 'walrus': 1289, 'wareat': 1290, 'wasserved': 1291, 'water': 1292, 'wattles': 1293, 'way': 1294, 'welcomed': 1295, 'well': 1296, 'welnnipedia': 1297, 'whatever': 1298, 'whenever': 1299, 'whereupon': 1300, 'white': 1301, 'whitehe': 1302, 'whiteheaded': 1303, 'whole': 1304, 'whose': 1305, 'wife': 1306, 'wild': 1307, 'wildmaller': 1308, 'willingly': 1309, 'window': 1310, 'witd': 1311, 'within': 1312, 'without': 1313, 'witnessed': 1314, 'wns': 1315, 'wolf': 1316, 'woman': 1317, 'wonderful': 1318, 'wood': 1319, 'woodpecker': 1320, 'woods': 1321, 'words': 1322, 'would': 1323, 'wounds': 1324, 'wr': 1325, 'wrath': 1326, 'wren': 1327, 'writer': 1328, 'writing': 1329, 'wryneck': 1330, 'x': 1331, 'xi': 1332, 'xtraordinary': 1333, 'yards': 1334, 'year': 1335, 'yhound': 1336, 'young': 1337, 'younons': 1338, 'zaarensis': 1339}\n"
     ]
    }
   ],
   "source": [
    "data = sorted(Vocab)\n",
    "vocab = {}\n",
    "for i in range(len(data)):\n",
    "    vocab[data[i]] = i\n",
    "\n",
    "print(vocab)"
   ]
  }
 ],
 "metadata": {
  "kernelspec": {
   "display_name": "Python 3 (ipykernel)",
   "language": "python",
   "name": "python3"
  },
  "language_info": {
   "codemirror_mode": {
    "name": "ipython",
    "version": 3
   },
   "file_extension": ".py",
   "mimetype": "text/x-python",
   "name": "python",
   "nbconvert_exporter": "python",
   "pygments_lexer": "ipython3",
   "version": "3.9.7"
  }
 },
 "nbformat": 4,
 "nbformat_minor": 4
}
